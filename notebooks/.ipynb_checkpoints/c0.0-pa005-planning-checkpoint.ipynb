{
 "cells": [
  {
   "cell_type": "markdown",
   "id": "94c14212",
   "metadata": {},
   "source": [
    "# <font color= 'red'> PA005 - High Value Customer Identification"
   ]
  },
  {
   "cell_type": "markdown",
   "id": "635c3f0e",
   "metadata": {
    "ExecuteTime": {
     "end_time": "2022-07-23T14:41:36.960788Z",
     "start_time": "2022-07-23T14:41:36.940500Z"
    }
   },
   "source": [
    "# Imput"
   ]
  },
  {
   "cell_type": "markdown",
   "id": "85a09924",
   "metadata": {},
   "source": [
    "## Business Challenge"
   ]
  },
  {
   "cell_type": "markdown",
   "id": "c59ae4c8",
   "metadata": {},
   "source": [
    "- Select the most valuable customers to build the loyalty program called 'Insiders'.\n",
    "- Data set with more product sales during the year. ( Nov/2015 - Dec/2017 )"
   ]
  },
  {
   "cell_type": "markdown",
   "id": "7b08ce8e",
   "metadata": {},
   "source": [
    "# Output"
   ]
  },
  {
   "cell_type": "markdown",
   "id": "7d5788e6",
   "metadata": {},
   "source": [
    "1. Indication of people to be part of the program.\n",
    "2. A report with the answers to following question:\n",
    "    - Who are the eligible people for the Insiders Program?\n",
    "    - How many people will be in the group?\n",
    "    - Which are the main characteristics of these customers?\n",
    "    - What is the percentage revenue contribution coming from Insiders?\n",
    "    - What is the revenue expectation for the next few months?\n",
    "    - Which are the conditions for the people to be eligible from the program?\n",
    "    - Which are the conditions for the people to be removed from the program?\n",
    "    - What is the guarantee that the Insiders Problem is better than the rest of the base?\n",
    "    - What are the action the marketing time can do to enhance the revenue?"
   ]
  },
  {
   "cell_type": "markdown",
   "id": "7db7431d",
   "metadata": {
    "ExecuteTime": {
     "end_time": "2022-07-21T15:23:08.648861Z",
     "start_time": "2022-07-21T15:23:08.639656Z"
    }
   },
   "source": [
    "# Task - Process"
   ]
  },
  {
   "cell_type": "markdown",
   "id": "040f7420",
   "metadata": {},
   "source": [
    "1. Who are the eligible people for the Insiders Program?\n",
    "    - What is be eligible? What are high value customers?\n",
    "    - Income:\n",
    "        - High averange ticket;\n",
    "        - High LTV;\n",
    "        - Low recently;\n",
    "        - High basket size;\n",
    "        - Low Churn probability;\n",
    "        - High LTV probability;\n",
    "        - High buy propensity;\n",
    "        \n",
    "        \n",
    "   - Cost:  \n",
    "        - Low return rate;\n",
    "    \n",
    "    \n",
    "   - Buyer Experience:\n",
    "        - High averange rate;\n",
    "2. How many people will be in the group?\n",
    "    - Total customers number;\n",
    "    - % Insider Group;\n",
    "    \n",
    "    \n",
    "3. Which are the main characteristics of these customers?\n",
    "    - Customer characteristics:\n",
    "        - Age;\n",
    "        - Location;\n",
    "        \n",
    "    -  Consumption characteristics:\n",
    "        - Clustering Attributtes;\n",
    "        \n",
    "4. What is the percentage revenue contribution coming from Insiders?\n",
    "    - Total revenue of the year;\n",
    "    - Renenue of the Insiders group;\n",
    "        \n",
    "        \n",
    "5. What is the revenue expectation for the next few months? \n",
    "    - LTV of the Insider Group;\n",
    "    - Cohort Analysis;\n",
    "    \n",
    "    \n",
    "6. Which are the conditions for the people to be eligible from the program?\n",
    "    - Define the periodicity ( 1 month, 3 months);\n",
    "    - The people needs to be similary or seemed to other people in the group?\n",
    "    \n",
    "    \n",
    "7. Which are the conditions for the people to be removed from the program?\n",
    "    - Define the periodicity ( 1 month, 3 months);\n",
    "    - The people needs to be similary or seemed to other people in the group?\n",
    "    \n",
    "    \n",
    "8. What is the guarantee that the Insiders Problem is better than the rest of the base?\n",
    "    - A/B Test;\n",
    "    - Bayesian A/B Test;\n",
    "    - Hyphotesis Test;\n",
    "\n",
    "\n",
    "9. What are the action the marketing time can do to enhance the revenue?\n",
    "    - Discount;\n",
    "    - Purchase Preferences\n",
    "    - Front\n",
    "    - Company Visit;"
   ]
  },
  {
   "cell_type": "code",
   "execution_count": null,
   "id": "96166809",
   "metadata": {},
   "outputs": [],
   "source": []
  }
 ],
 "metadata": {
  "kernelspec": {
   "display_name": "Python 3 (ipykernel)",
   "language": "python",
   "name": "python3"
  },
  "language_info": {
   "codemirror_mode": {
    "name": "ipython",
    "version": 3
   },
   "file_extension": ".py",
   "mimetype": "text/x-python",
   "name": "python",
   "nbconvert_exporter": "python",
   "pygments_lexer": "ipython3",
   "version": "3.9.12"
  }
 },
 "nbformat": 4,
 "nbformat_minor": 5
}
