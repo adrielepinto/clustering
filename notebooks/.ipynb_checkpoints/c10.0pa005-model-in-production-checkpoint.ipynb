{
 "cells": [
  {
   "cell_type": "markdown",
   "id": "94c14212",
   "metadata": {
    "heading_collapsed": true
   },
   "source": [
    "# <font color= 'red'> PA005 - High Value Customer Identification"
   ]
  },
  {
   "cell_type": "markdown",
   "id": "3b2951db",
   "metadata": {},
   "source": [
    "# <font color= 'red'> 0.1 Import"
   ]
  },
  {
   "cell_type": "code",
   "execution_count": 1,
   "id": "33747e7d",
   "metadata": {
    "ExecuteTime": {
     "end_time": "2022-11-14T19:49:25.989782Z",
     "start_time": "2022-11-14T19:49:18.055659Z"
    }
   },
   "outputs": [],
   "source": [
    "import pickle\n",
    "import s3fs\n",
    "import os\n",
    "import  re\n",
    "import  inflection\n",
    "import  pandas      as pd\n",
    "import  seaborn     as sns\n",
    "import  numpy       as np\n",
    "import  umap.umap_  as umap\n",
    "\n",
    "import  matplotlib.pyplot  as plt\n",
    "\n",
    "\n",
    "from  sklearn  import  cluster       as c\n",
    "from  sklearn  import  metrics       as m\n",
    "from  sklearn  import  mixture       as mx\n",
    "from  plotly   import  express       as px\n",
    "from  sklearn  import  ensemble      as en\n",
    "from  sklearn  import  manifold      as mn\n",
    "from  sklearn  import  decomposition as dd\n",
    "from  sklearn  import  preprocessing as pp\n",
    "\n",
    "from  scipy.cluster import hierarchy as hc\n",
    "\n",
    "from IPython.display          import Image\n",
    "from  sklearn.neighbors       import NearestNeighbors\n",
    "\n"
   ]
  },
  {
   "cell_type": "code",
   "execution_count": 2,
   "id": "93932b8e",
   "metadata": {
    "ExecuteTime": {
     "end_time": "2022-11-14T19:49:25.998876Z",
     "start_time": "2022-11-14T19:49:25.993924Z"
    }
   },
   "outputs": [],
   "source": [
    "# save to s3\n",
    "AWS_ACCESS_KEY_ID = os.environ.get( 'AWS_ACCESS_KEY_ID_CDS' )\n",
    "AWS_SECRET_ACCESS_KEY = os.environ.get( 'AWS_SECRET_ACCESS_KEY_CDS' )\n",
    "\n"
   ]
  },
  {
   "cell_type": "code",
   "execution_count": 3,
   "id": "81184399",
   "metadata": {
    "ExecuteTime": {
     "end_time": "2022-11-14T19:49:26.006724Z",
     "start_time": "2022-11-14T19:49:26.002266Z"
    }
   },
   "outputs": [
    {
     "name": "stdout",
     "output_type": "stream",
     "text": [
      "Yn5uYlaYtmG6mtEBmRWOS2eD5TbobifIFkc+yv9x\n"
     ]
    }
   ],
   "source": [
    "print (AWS_SECRET_ACCESS_KEY)"
   ]
  },
  {
   "cell_type": "markdown",
   "id": "2c420db5",
   "metadata": {
    "ExecuteTime": {
     "end_time": "2022-07-23T15:08:02.379470Z",
     "start_time": "2022-07-23T15:08:02.376696Z"
    }
   },
   "source": [
    "# <font color= 'red'> 1.0 Data Description"
   ]
  },
  {
   "cell_type": "markdown",
   "id": "8bc1b2e2",
   "metadata": {},
   "source": [
    "## 1.1 Loading Dataset"
   ]
  },
  {
   "cell_type": "code",
   "execution_count": 4,
   "id": "9d100d73",
   "metadata": {
    "ExecuteTime": {
     "end_time": "2022-11-14T19:49:26.890709Z",
     "start_time": "2022-11-14T19:49:26.011815Z"
    }
   },
   "outputs": [],
   "source": [
    "df_raw = pd.read_csv( '/Users/adriele/Documents/repos/pa005/data/ecommerce.csv', encoding='cp1252' )\n",
    "\n",
    "# dropping extra column\n",
    "df_raw = df_raw.drop( columns= ['Unnamed: 8'], axis=1 )\n",
    "\n"
   ]
  },
  {
   "cell_type": "markdown",
   "id": "71794023",
   "metadata": {
    "ExecuteTime": {
     "end_time": "2022-07-25T14:16:16.638986Z",
     "start_time": "2022-07-25T14:16:16.607982Z"
    }
   },
   "source": [
    "## 1.2 Rename Columns"
   ]
  },
  {
   "cell_type": "code",
   "execution_count": 5,
   "id": "15f23e16",
   "metadata": {
    "ExecuteTime": {
     "end_time": "2022-11-14T19:49:26.911862Z",
     "start_time": "2022-11-14T19:49:26.893560Z"
    },
    "code_folding": []
   },
   "outputs": [],
   "source": [
    "df1 = df_raw.copy()\n",
    "\n",
    "# Renaming Cols\n",
    "cols_old = [ 'InvoiceNo', 'StockCode', 'Description', 'Quantity', 'InvoiceDate', 'UnitPrice', 'CustomerID', 'Country']\n",
    "\n",
    "snakecase = lambda x: inflection.underscore (x)\n",
    "\n",
    "cols_new = list (map (snakecase , cols_old))\n",
    "\n",
    "# rename\n",
    "df1.columns = cols_new"
   ]
  },
  {
   "cell_type": "markdown",
   "id": "001a04de",
   "metadata": {
    "ExecuteTime": {
     "end_time": "2022-07-25T14:23:03.508383Z",
     "start_time": "2022-07-25T14:23:03.496451Z"
    }
   },
   "source": [
    "## 1.3 Data Dimensions"
   ]
  },
  {
   "cell_type": "code",
   "execution_count": 6,
   "id": "1a92a58e",
   "metadata": {
    "ExecuteTime": {
     "end_time": "2022-11-14T19:49:26.919927Z",
     "start_time": "2022-11-14T19:49:26.915009Z"
    }
   },
   "outputs": [
    {
     "name": "stdout",
     "output_type": "stream",
     "text": [
      "Number of Cols 8\n",
      "Number of Rows 541909\n"
     ]
    }
   ],
   "source": [
    "print( 'Number of Cols {}'.format( df1.shape[1] ) )\n",
    "print( 'Number of Rows {}'.format( df1.shape[0] ) )"
   ]
  },
  {
   "cell_type": "markdown",
   "id": "2a1e934c",
   "metadata": {},
   "source": [
    "## 1.4 Check NA"
   ]
  },
  {
   "cell_type": "code",
   "execution_count": 7,
   "id": "1876ceb4",
   "metadata": {
    "ExecuteTime": {
     "end_time": "2022-11-14T19:49:27.472310Z",
     "start_time": "2022-11-14T19:49:26.923125Z"
    }
   },
   "outputs": [
    {
     "data": {
      "text/plain": [
       "invoice_no           0\n",
       "stock_code           0\n",
       "description       1454\n",
       "quantity             0\n",
       "invoice_date         0\n",
       "unit_price           0\n",
       "customer_id     135080\n",
       "country              0\n",
       "dtype: int64"
      ]
     },
     "execution_count": 7,
     "metadata": {},
     "output_type": "execute_result"
    }
   ],
   "source": [
    "df1.isna().sum()"
   ]
  },
  {
   "cell_type": "markdown",
   "id": "feaa0bc7",
   "metadata": {
    "ExecuteTime": {
     "end_time": "2022-07-25T14:51:35.859244Z",
     "start_time": "2022-07-25T14:51:35.856371Z"
    }
   },
   "source": [
    "## 1.5 Replace NA"
   ]
  },
  {
   "cell_type": "code",
   "execution_count": 8,
   "id": "12dabdd4",
   "metadata": {
    "ExecuteTime": {
     "end_time": "2022-11-14T19:49:27.997174Z",
     "start_time": "2022-11-14T19:49:27.475627Z"
    }
   },
   "outputs": [
    {
     "name": "stdout",
     "output_type": "stream",
     "text": [
      "Removed Data: 0.00%\n"
     ]
    }
   ],
   "source": [
    "df_missing = df1.loc[ df1[ 'customer_id' ].isna(), :]\n",
    "df_not_missing = df1.loc[ ~df1['customer_id' ].isna(), :]\n",
    "\n",
    "\n",
    "# Create reference\n",
    "df_backup = pd.DataFrame( df_missing['invoice_no'].drop_duplicates() )\n",
    "df_backup[ 'customer_id' ] = np.arange( 19000, 19000+len( df_backup ), 1)\n",
    "\n",
    "# Merge original with reference df\n",
    "df1 = pd.merge( df1, df_backup, on='invoice_no', how='left' )\n",
    "\n",
    "# Coalesce\n",
    "df1['customer_id'] = df1['customer_id_x'].combine_first( df1['customer_id_y'])\n",
    "\n",
    "# drop extra column\n",
    "df1 = df1.drop( columns=['customer_id_x', 'customer_id_y'], axis=1 )\n",
    "\n",
    "\n",
    "# removing Na\n",
    "df1 = df1.dropna( subset=[ 'description', 'customer_id'] )\n",
    "print( 'Removed Data: {:.2f}%'.format( 1-( df1.shape[0] / df_raw.shape[0] ) ) )"
   ]
  },
  {
   "cell_type": "code",
   "execution_count": 9,
   "id": "9db28adf",
   "metadata": {
    "ExecuteTime": {
     "end_time": "2022-11-14T19:49:28.534324Z",
     "start_time": "2022-11-14T19:49:28.000626Z"
    }
   },
   "outputs": [
    {
     "data": {
      "text/plain": [
       "invoice_no      0\n",
       "stock_code      0\n",
       "description     0\n",
       "quantity        0\n",
       "invoice_date    0\n",
       "unit_price      0\n",
       "country         0\n",
       "customer_id     0\n",
       "dtype: int64"
      ]
     },
     "execution_count": 9,
     "metadata": {},
     "output_type": "execute_result"
    }
   ],
   "source": [
    "df1.isna().sum()"
   ]
  },
  {
   "cell_type": "markdown",
   "id": "513ab5fe",
   "metadata": {},
   "source": [
    "## 1.6 Data Types"
   ]
  },
  {
   "cell_type": "code",
   "execution_count": 10,
   "id": "bc1a5d09",
   "metadata": {
    "ExecuteTime": {
     "end_time": "2022-11-14T19:49:28.646576Z",
     "start_time": "2022-11-14T19:49:28.542095Z"
    }
   },
   "outputs": [],
   "source": [
    "# Invoice Date\n",
    "df1['invoice_date'] = pd.to_datetime( df1['invoice_date'], format='%d-%b-%y')\n",
    "\n",
    "# Customer Id\n",
    "df1['customer_id'] = df1['customer_id'].astype( int)"
   ]
  },
  {
   "cell_type": "code",
   "execution_count": 11,
   "id": "f9a5ee78",
   "metadata": {
    "ExecuteTime": {
     "end_time": "2022-11-14T19:49:28.655432Z",
     "start_time": "2022-11-14T19:49:28.649108Z"
    }
   },
   "outputs": [
    {
     "data": {
      "text/plain": [
       "invoice_no              object\n",
       "stock_code              object\n",
       "description             object\n",
       "quantity                 int64\n",
       "invoice_date    datetime64[ns]\n",
       "unit_price             float64\n",
       "country                 object\n",
       "customer_id              int64\n",
       "dtype: object"
      ]
     },
     "execution_count": 11,
     "metadata": {},
     "output_type": "execute_result"
    }
   ],
   "source": [
    "df1.dtypes"
   ]
  },
  {
   "cell_type": "markdown",
   "id": "cc8f7658",
   "metadata": {},
   "source": [
    "## 1.7 Descriptive Startistcs"
   ]
  },
  {
   "cell_type": "code",
   "execution_count": 12,
   "id": "ce966a51",
   "metadata": {
    "ExecuteTime": {
     "end_time": "2022-11-14T19:49:28.663656Z",
     "start_time": "2022-11-14T19:49:28.658533Z"
    }
   },
   "outputs": [],
   "source": [
    "num_attributes = df1.select_dtypes( include=['int64', 'float64'] )\n",
    "cat_attributes = df1.select_dtypes( exclude=[ 'int64', 'float64', 'datetime64[ns]'] )"
   ]
  },
  {
   "cell_type": "markdown",
   "id": "1f8b8606",
   "metadata": {},
   "source": [
    "### 1.7.1 Numerical Attributes\n",
    "\n",
    "- Negative quantity can be returns;\n",
    "- Unitary price equal 0 can be promotions;"
   ]
  },
  {
   "cell_type": "code",
   "execution_count": 13,
   "id": "e659edac",
   "metadata": {
    "ExecuteTime": {
     "end_time": "2022-11-14T19:49:29.161470Z",
     "start_time": "2022-11-14T19:49:28.668078Z"
    }
   },
   "outputs": [
    {
     "data": {
      "text/html": [
       "<div>\n",
       "<style scoped>\n",
       "    .dataframe tbody tr th:only-of-type {\n",
       "        vertical-align: middle;\n",
       "    }\n",
       "\n",
       "    .dataframe tbody tr th {\n",
       "        vertical-align: top;\n",
       "    }\n",
       "\n",
       "    .dataframe thead th {\n",
       "        text-align: right;\n",
       "    }\n",
       "</style>\n",
       "<table border=\"1\" class=\"dataframe\">\n",
       "  <thead>\n",
       "    <tr style=\"text-align: right;\">\n",
       "      <th></th>\n",
       "      <th>attributes</th>\n",
       "      <th>min</th>\n",
       "      <th>max</th>\n",
       "      <th>range</th>\n",
       "      <th>mean</th>\n",
       "      <th>median</th>\n",
       "      <th>std</th>\n",
       "      <th>skew</th>\n",
       "      <th>kurtosis</th>\n",
       "    </tr>\n",
       "  </thead>\n",
       "  <tbody>\n",
       "    <tr>\n",
       "      <th>0</th>\n",
       "      <td>quantity</td>\n",
       "      <td>-80995.00</td>\n",
       "      <td>80995.0</td>\n",
       "      <td>161990.00</td>\n",
       "      <td>9.603129</td>\n",
       "      <td>3.00</td>\n",
       "      <td>218.007397</td>\n",
       "      <td>-0.281253</td>\n",
       "      <td>120252.449063</td>\n",
       "    </tr>\n",
       "    <tr>\n",
       "      <th>1</th>\n",
       "      <td>unit_price</td>\n",
       "      <td>-11062.06</td>\n",
       "      <td>38970.0</td>\n",
       "      <td>50032.06</td>\n",
       "      <td>4.623519</td>\n",
       "      <td>2.08</td>\n",
       "      <td>96.889538</td>\n",
       "      <td>186.257919</td>\n",
       "      <td>58848.017575</td>\n",
       "    </tr>\n",
       "    <tr>\n",
       "      <th>2</th>\n",
       "      <td>customer_id</td>\n",
       "      <td>12346.00</td>\n",
       "      <td>22709.0</td>\n",
       "      <td>10363.00</td>\n",
       "      <td>16678.153600</td>\n",
       "      <td>16241.00</td>\n",
       "      <td>2907.570262</td>\n",
       "      <td>0.493600</td>\n",
       "      <td>-0.792496</td>\n",
       "    </tr>\n",
       "  </tbody>\n",
       "</table>\n",
       "</div>"
      ],
      "text/plain": [
       "    attributes       min      max      range          mean    median  \\\n",
       "0     quantity -80995.00  80995.0  161990.00      9.603129      3.00   \n",
       "1   unit_price -11062.06  38970.0   50032.06      4.623519      2.08   \n",
       "2  customer_id  12346.00  22709.0   10363.00  16678.153600  16241.00   \n",
       "\n",
       "           std        skew       kurtosis  \n",
       "0   218.007397   -0.281253  120252.449063  \n",
       "1    96.889538  186.257919   58848.017575  \n",
       "2  2907.570262    0.493600      -0.792496  "
      ]
     },
     "execution_count": 13,
     "metadata": {},
     "output_type": "execute_result"
    }
   ],
   "source": [
    "# Central Tendency - mean, Median\n",
    "ct1 = pd.DataFrame (num_attributes.apply (np.mean) ).T\n",
    "ct2 = pd.DataFrame (num_attributes.apply (np.median) ).T\n",
    "\n",
    "# Dispersion - std, min, max, range, skew, kurtosis\n",
    "d1 = pd.DataFrame (num_attributes.apply (np.std) ).T\n",
    "d2 = pd.DataFrame (num_attributes.apply (min)).T\n",
    "d3 = pd.DataFrame (num_attributes.apply (max)).T\n",
    "d4 = pd.DataFrame (num_attributes.apply (lambda x: x.max () -x.min ()) ).T\n",
    "d5 = pd.DataFrame (num_attributes.apply (lambda x: x.skew () ) ).T\n",
    "d6 = pd.DataFrame (num_attributes.apply (lambda x: x.kurtosis ()) ).T\n",
    "\n",
    "# Concatane\n",
    "m1 =pd.concat ([ d2, d3, d4, ct1, ct2, d1, d5, d6]).T.reset_index()\n",
    "m1.columns = ['attributes', 'min', 'max', 'range', 'mean', 'median', 'std', 'skew', 'kurtosis']\n",
    "m1"
   ]
  },
  {
   "cell_type": "markdown",
   "id": "ed66d026",
   "metadata": {
    "ExecuteTime": {
     "end_time": "2022-08-05T16:01:40.290864Z",
     "start_time": "2022-08-05T16:01:40.288157Z"
    }
   },
   "source": [
    "### 1.7.2 Attributes Category"
   ]
  },
  {
   "cell_type": "markdown",
   "id": "d459d1f5",
   "metadata": {},
   "source": [
    "#### Invoice No"
   ]
  },
  {
   "cell_type": "code",
   "execution_count": 14,
   "id": "b6d26bbc",
   "metadata": {
    "ExecuteTime": {
     "end_time": "2022-11-14T19:49:29.912352Z",
     "start_time": "2022-11-14T19:49:29.164394Z"
    }
   },
   "outputs": [
    {
     "name": "stdout",
     "output_type": "stream",
     "text": [
      "Total number of invoices: 9291\n",
      "Total number of negative invoices: 9288\n"
     ]
    }
   ],
   "source": [
    "# Invoice No\n",
    "df_letter_invoices = df1.loc[df1[ 'invoice_no' ].apply( lambda x: bool( re.search( '[^0-9]+', x ) ) ), :]\n",
    "\n",
    "print( 'Total number of invoices: {}'.format( len( df_letter_invoices) ) )\n",
    "print( 'Total number of negative invoices: {}'.format( len( df_letter_invoices[ df_letter_invoices[ 'quantity' ] < 0] ) ) )"
   ]
  },
  {
   "cell_type": "markdown",
   "id": "d0aa1900",
   "metadata": {},
   "source": [
    "#### Stock Code"
   ]
  },
  {
   "cell_type": "code",
   "execution_count": 15,
   "id": "92b3addb",
   "metadata": {
    "ExecuteTime": {
     "end_time": "2022-11-14T19:49:30.638498Z",
     "start_time": "2022-11-14T19:49:29.915668Z"
    }
   },
   "outputs": [
    {
     "data": {
      "text/plain": [
       "array(['POST', 'D', 'DOT', 'M', 'S', 'AMAZONFEE', 'm', 'DCGSSBOY',\n",
       "       'DCGSSGIRL', 'PADS', 'B', 'CRUK'], dtype=object)"
      ]
     },
     "execution_count": 15,
     "metadata": {},
     "output_type": "execute_result"
    }
   ],
   "source": [
    "# Stock code - check characters\n",
    "df1.loc[df1[ 'stock_code' ].apply( lambda x: bool( re.search( '^[a-zA-Z]+$', x ) ) ), 'stock_code'].unique()\n",
    "\n"
   ]
  },
  {
   "cell_type": "markdown",
   "id": "4e0ff6d4",
   "metadata": {},
   "source": [
    "#### Country"
   ]
  },
  {
   "cell_type": "code",
   "execution_count": 16,
   "id": "a70a6270",
   "metadata": {
    "ExecuteTime": {
     "end_time": "2022-11-14T19:49:30.700176Z",
     "start_time": "2022-11-14T19:49:30.641570Z"
    }
   },
   "outputs": [
    {
     "data": {
      "text/plain": [
       "United Kingdom    0.914089\n",
       "Germany           0.017569\n",
       "France            0.015833\n",
       "EIRE              0.015165\n",
       "Spain             0.004687\n",
       "Name: country, dtype: float64"
      ]
     },
     "execution_count": 16,
     "metadata": {},
     "output_type": "execute_result"
    }
   ],
   "source": [
    "df1['country'].value_counts( normalize=True ).head()"
   ]
  },
  {
   "cell_type": "code",
   "execution_count": 17,
   "id": "c74beaf3",
   "metadata": {
    "ExecuteTime": {
     "end_time": "2022-11-14T19:49:30.799883Z",
     "start_time": "2022-11-14T19:49:30.703447Z"
    }
   },
   "outputs": [
    {
     "data": {
      "text/html": [
       "<div>\n",
       "<style scoped>\n",
       "    .dataframe tbody tr th:only-of-type {\n",
       "        vertical-align: middle;\n",
       "    }\n",
       "\n",
       "    .dataframe tbody tr th {\n",
       "        vertical-align: top;\n",
       "    }\n",
       "\n",
       "    .dataframe thead th {\n",
       "        text-align: right;\n",
       "    }\n",
       "</style>\n",
       "<table border=\"1\" class=\"dataframe\">\n",
       "  <thead>\n",
       "    <tr style=\"text-align: right;\">\n",
       "      <th></th>\n",
       "      <th>country</th>\n",
       "      <th>customer_id</th>\n",
       "    </tr>\n",
       "  </thead>\n",
       "  <tbody>\n",
       "    <tr>\n",
       "      <th>36</th>\n",
       "      <td>United Kingdom</td>\n",
       "      <td>6133</td>\n",
       "    </tr>\n",
       "    <tr>\n",
       "      <th>14</th>\n",
       "      <td>Germany</td>\n",
       "      <td>95</td>\n",
       "    </tr>\n",
       "    <tr>\n",
       "      <th>13</th>\n",
       "      <td>France</td>\n",
       "      <td>90</td>\n",
       "    </tr>\n",
       "    <tr>\n",
       "      <th>10</th>\n",
       "      <td>EIRE</td>\n",
       "      <td>44</td>\n",
       "    </tr>\n",
       "    <tr>\n",
       "      <th>31</th>\n",
       "      <td>Spain</td>\n",
       "      <td>31</td>\n",
       "    </tr>\n",
       "  </tbody>\n",
       "</table>\n",
       "</div>"
      ],
      "text/plain": [
       "           country  customer_id\n",
       "36  United Kingdom         6133\n",
       "14         Germany           95\n",
       "13          France           90\n",
       "10            EIRE           44\n",
       "31           Spain           31"
      ]
     },
     "execution_count": 17,
     "metadata": {},
     "output_type": "execute_result"
    }
   ],
   "source": [
    "c = df1[['customer_id', 'country']].drop_duplicates().groupby( 'country' ).count(\n",
    ").reset_index().sort_values( 'customer_id', ascending=False )\n",
    "\n",
    "c.head()"
   ]
  },
  {
   "cell_type": "markdown",
   "id": "46050581",
   "metadata": {
    "ExecuteTime": {
     "end_time": "2022-07-23T15:08:02.379470Z",
     "start_time": "2022-07-23T15:08:02.376696Z"
    }
   },
   "source": [
    "# <font color= 'red'> 2.0 Feature Filtering"
   ]
  },
  {
   "cell_type": "code",
   "execution_count": 18,
   "id": "57553885",
   "metadata": {
    "ExecuteTime": {
     "end_time": "2022-11-14T19:49:31.175758Z",
     "start_time": "2022-11-14T19:49:30.802897Z"
    }
   },
   "outputs": [],
   "source": [
    "df2 = df1.copy()\n",
    "\n",
    "# Numerical Attributes\n",
    "df2 = df2.loc[df2['unit_price'] >= 0.04, :]\n",
    "\n",
    "# Categorical Attributes\n",
    "df2 = df2[~df2['stock_code'].isin( ['POST', 'D', 'DOT', 'M', 'S', 'AMAZONFEE', 'm', 'DCGSSBOY',\n",
    "       'DCGSSGIRL', 'PADS', 'B', 'CRUK'] ) ]\n",
    "\n",
    "#Descrption\n",
    "df2 = df2.drop( columns='description', axis=1 )\n",
    "\n",
    "# Description\n",
    "df2= df2[~df2['country'].isin( ['European Comunity', 'Unspecified'] ) ]\n",
    "\n",
    "# Bad Users\n",
    "df2 = df2[~df2['customer_id'].isin( [16446] )]\n",
    "# Quantity\n",
    "df2_returns = df2.loc[ df1[ 'quantity' ] <0, : ]\n",
    "df2_purchases = df2.loc[ df1[ 'quantity' ] >=0, : ]"
   ]
  },
  {
   "cell_type": "markdown",
   "id": "cc9df7ee",
   "metadata": {
    "ExecuteTime": {
     "end_time": "2022-07-23T15:08:02.379470Z",
     "start_time": "2022-07-23T15:08:02.376696Z"
    }
   },
   "source": [
    "# <font color= 'red'> 3.0 Feature Engineering"
   ]
  },
  {
   "cell_type": "code",
   "execution_count": 19,
   "id": "e8213689",
   "metadata": {
    "ExecuteTime": {
     "end_time": "2022-11-14T19:49:31.213334Z",
     "start_time": "2022-11-14T19:49:31.179491Z"
    }
   },
   "outputs": [],
   "source": [
    "df3 = df2.copy()"
   ]
  },
  {
   "cell_type": "markdown",
   "id": "9c6c2712",
   "metadata": {},
   "source": [
    "## 3.1 Feature Creation"
   ]
  },
  {
   "cell_type": "code",
   "execution_count": 20,
   "id": "7d3ff0eb",
   "metadata": {
    "ExecuteTime": {
     "end_time": "2022-11-14T19:49:31.260411Z",
     "start_time": "2022-11-14T19:49:31.217176Z"
    }
   },
   "outputs": [],
   "source": [
    "# Data reference\n",
    "df_ref = df3.drop(['invoice_no', 'stock_code','quantity', \n",
    "          'invoice_date', 'unit_price', 'country'], axis=1).drop_duplicates( ignore_index=True )"
   ]
  },
  {
   "cell_type": "markdown",
   "id": "5337179b",
   "metadata": {
    "ExecuteTime": {
     "end_time": "2022-08-07T15:13:47.887971Z",
     "start_time": "2022-08-07T15:13:47.885282Z"
    }
   },
   "source": [
    "### 3.1.1 Gross Revenue"
   ]
  },
  {
   "cell_type": "code",
   "execution_count": 21,
   "id": "e364ffad",
   "metadata": {
    "ExecuteTime": {
     "end_time": "2022-11-14T19:49:31.333287Z",
     "start_time": "2022-11-14T19:49:31.264750Z"
    }
   },
   "outputs": [
    {
     "name": "stderr",
     "output_type": "stream",
     "text": [
      "/var/folders/pc/6sglrsq96ws5kp74fjj4j02h0000gn/T/ipykernel_25245/1692327438.py:2: SettingWithCopyWarning: \n",
      "A value is trying to be set on a copy of a slice from a DataFrame.\n",
      "Try using .loc[row_indexer,col_indexer] = value instead\n",
      "\n",
      "See the caveats in the documentation: https://pandas.pydata.org/pandas-docs/stable/user_guide/indexing.html#returning-a-view-versus-a-copy\n",
      "  df2_purchases.loc[:,'gross_revenue'] = df2_purchases.loc[:, 'quantity'] * df2_purchases.loc[:, 'unit_price']\n"
     ]
    },
    {
     "data": {
      "text/plain": [
       "customer_id       0\n",
       "gross_revenue    91\n",
       "dtype: int64"
      ]
     },
     "execution_count": 21,
     "metadata": {},
     "output_type": "execute_result"
    }
   ],
   "source": [
    "# Gross Revenue = quantity * price\n",
    "df2_purchases.loc[:,'gross_revenue'] = df2_purchases.loc[:, 'quantity'] * df2_purchases.loc[:, 'unit_price']\n",
    "\n",
    "# Monetary\n",
    "df_monetary = df2_purchases.loc[:, [ 'customer_id', 'gross_revenue' ]].groupby( 'customer_id' ).sum().reset_index()\n",
    "df_ref = pd.merge( df_ref, df_monetary, on='customer_id', how='left' )\n",
    "df_ref.isna().sum()"
   ]
  },
  {
   "cell_type": "markdown",
   "id": "0e8a0d91",
   "metadata": {
    "ExecuteTime": {
     "end_time": "2022-08-07T15:14:58.581758Z",
     "start_time": "2022-08-07T15:14:58.579077Z"
    }
   },
   "source": [
    "### 3.1.2 Recency - Last Day Purchase"
   ]
  },
  {
   "cell_type": "code",
   "execution_count": 22,
   "id": "a7a1624c",
   "metadata": {
    "ExecuteTime": {
     "end_time": "2022-11-14T19:49:31.385472Z",
     "start_time": "2022-11-14T19:49:31.336580Z"
    }
   },
   "outputs": [
    {
     "data": {
      "text/plain": [
       "customer_id       0\n",
       "gross_revenue    91\n",
       "recency_days     91\n",
       "dtype: int64"
      ]
     },
     "execution_count": 22,
     "metadata": {},
     "output_type": "execute_result"
    }
   ],
   "source": [
    "# Recency - Last day purchase\n",
    "\n",
    "df_recency = df2_purchases.loc[:, ['customer_id', 'invoice_date']].groupby( 'customer_id' ).max().reset_index()\n",
    "df_recency['recency_days'] = ( df2['invoice_date'].max() - df_recency['invoice_date'] ).dt.days\n",
    "df_recency = df_recency[['customer_id', 'recency_days']].copy()\n",
    "df_ref = pd.merge( df_ref, df_recency, on='customer_id', how='left' )\n",
    "df_ref.isna().sum()"
   ]
  },
  {
   "cell_type": "markdown",
   "id": "1ec11113",
   "metadata": {},
   "source": [
    "### 3.1.5 Quantity of Products Purchased"
   ]
  },
  {
   "cell_type": "code",
   "execution_count": 23,
   "id": "9c459758",
   "metadata": {
    "ExecuteTime": {
     "end_time": "2022-11-14T19:49:31.620169Z",
     "start_time": "2022-11-14T19:49:31.388830Z"
    }
   },
   "outputs": [
    {
     "data": {
      "text/plain": [
       "customer_id       0\n",
       "gross_revenue    91\n",
       "recency_days     91\n",
       "qtde_products    91\n",
       "dtype: int64"
      ]
     },
     "execution_count": 23,
     "metadata": {},
     "output_type": "execute_result"
    }
   ],
   "source": [
    "df_freq = (df2_purchases.loc[:, ['customer_id', 'stock_code']].drop_duplicates().groupby( 'customer_id').count\n",
    "           ().reset_index().rename( columns={ 'stock_code': 'qtde_products'} ) )\n",
    "\n",
    "df_ref = pd.merge( df_ref, df_freq, on='customer_id', how='left')\n",
    "df_ref.isna().sum()"
   ]
  },
  {
   "cell_type": "markdown",
   "id": "8b863335",
   "metadata": {},
   "source": [
    "### 3.1.8 Frequency Purchase"
   ]
  },
  {
   "cell_type": "code",
   "execution_count": 24,
   "id": "77a6f3e1",
   "metadata": {
    "ExecuteTime": {
     "end_time": "2022-11-14T19:49:33.150516Z",
     "start_time": "2022-11-14T19:49:31.623428Z"
    }
   },
   "outputs": [
    {
     "data": {
      "text/plain": [
       "customer_id       0\n",
       "gross_revenue    91\n",
       "recency_days     91\n",
       "qtde_products    91\n",
       "frequency        91\n",
       "dtype: int64"
      ]
     },
     "execution_count": 24,
     "metadata": {},
     "output_type": "execute_result"
    }
   ],
   "source": [
    "df_aux = ( df2_purchases[[ 'customer_id', 'invoice_date', 'invoice_no']].drop_duplicates()\n",
    "                                                              .groupby( 'customer_id' )\n",
    "                                                              .agg( max_ = ( 'invoice_date', 'max' ),\n",
    "                                                                    min_ = ( 'invoice_date', 'min' ),\n",
    "                                                                    days_ = ( 'invoice_date', lambda x: ( x.max()  - x.min() ).days ),\n",
    "                                                                    buy_ = ( 'invoice_no', 'count') ) ).reset_index()\n",
    "\n",
    "# Frequency\n",
    "df_aux['frequency'] = df_aux[[ 'buy_', 'days_' ]].apply( lambda x: x[ 'buy_' ] / x['days_'] if x['days_'] != 0 else 0, axis=1 )\n",
    "\n",
    "\n",
    "# Merge\n",
    "df_ref = pd.merge( df_ref, df_aux[[ 'customer_id', 'frequency' ]], on='customer_id', how='left')\n",
    "df_ref.isna().sum()"
   ]
  },
  {
   "cell_type": "markdown",
   "id": "ccbdfa40",
   "metadata": {},
   "source": [
    "### 3.1.9 Number of Returns"
   ]
  },
  {
   "cell_type": "code",
   "execution_count": 25,
   "id": "18c3d43d",
   "metadata": {
    "ExecuteTime": {
     "end_time": "2022-11-14T19:49:33.170073Z",
     "start_time": "2022-11-14T19:49:33.153377Z"
    }
   },
   "outputs": [
    {
     "data": {
      "text/plain": [
       "customer_id       0\n",
       "gross_revenue    91\n",
       "recency_days     91\n",
       "qtde_products    91\n",
       "frequency        91\n",
       "qtde_returns      0\n",
       "dtype: int64"
      ]
     },
     "execution_count": 25,
     "metadata": {},
     "output_type": "execute_result"
    }
   ],
   "source": [
    "df_returns = df2_returns[[ 'customer_id', 'quantity' ]].groupby( 'customer_id' ).sum(\n",
    "                     ).reset_index().rename( columns={ 'quantity': 'qtde_returns' } )\n",
    "\n",
    "df_returns[ 'qtde_returns' ] = df_returns[ 'qtde_returns' ] * -1\n",
    "\n",
    "df_ref = pd.merge( df_ref, df_returns, how='left', on='customer_id' )\n",
    "df_ref.loc[ df_ref[ 'qtde_returns' ].isna(), 'qtde_returns' ] = 0\n",
    "\n",
    "\n",
    "df_ref.isna().sum()"
   ]
  },
  {
   "cell_type": "code",
   "execution_count": 26,
   "id": "95ad052f",
   "metadata": {
    "ExecuteTime": {
     "end_time": "2022-11-14T19:49:33.177119Z",
     "start_time": "2022-11-14T19:49:33.172468Z"
    }
   },
   "outputs": [
    {
     "data": {
      "text/plain": [
       "(5787, 6)"
      ]
     },
     "execution_count": 26,
     "metadata": {},
     "output_type": "execute_result"
    }
   ],
   "source": [
    "df_ref.shape"
   ]
  },
  {
   "cell_type": "markdown",
   "id": "86692dd6",
   "metadata": {
    "ExecuteTime": {
     "end_time": "2022-07-23T15:08:02.379470Z",
     "start_time": "2022-07-23T15:08:02.376696Z"
    }
   },
   "source": [
    "# <font color= 'red'> 4.0 Exploratory Data Analysis"
   ]
  },
  {
   "cell_type": "code",
   "execution_count": 27,
   "id": "1a24d0ae",
   "metadata": {
    "ExecuteTime": {
     "end_time": "2022-11-14T19:49:33.185702Z",
     "start_time": "2022-11-14T19:49:33.180126Z"
    }
   },
   "outputs": [],
   "source": [
    "df4 = df_ref.dropna()\n",
    "# df4.isna().sum()"
   ]
  },
  {
   "cell_type": "code",
   "execution_count": 28,
   "id": "3ba938cc",
   "metadata": {
    "ExecuteTime": {
     "end_time": "2022-11-14T19:49:33.200934Z",
     "start_time": "2022-11-14T19:49:33.196400Z"
    }
   },
   "outputs": [
    {
     "data": {
      "text/plain": [
       "(5696, 6)"
      ]
     },
     "execution_count": 28,
     "metadata": {},
     "output_type": "execute_result"
    }
   ],
   "source": [
    "df4.shape"
   ]
  },
  {
   "cell_type": "markdown",
   "id": "5b62a298",
   "metadata": {},
   "source": [
    "## 4.3 Space Study"
   ]
  },
  {
   "cell_type": "code",
   "execution_count": 29,
   "id": "e3ecc868",
   "metadata": {
    "ExecuteTime": {
     "end_time": "2022-11-14T19:49:33.211108Z",
     "start_time": "2022-11-14T19:49:33.204289Z"
    }
   },
   "outputs": [],
   "source": [
    "   # Select Dataset\n",
    "cols_selected = ['customer_id', 'gross_revenue', 'recency_days', 'qtde_products', 'frequency', 'qtde_returns' ]\n",
    "df43 = df4[ cols_selected ].drop( columns='customer_id', axis=1) "
   ]
  },
  {
   "cell_type": "code",
   "execution_count": 30,
   "id": "788f54c7",
   "metadata": {
    "ExecuteTime": {
     "end_time": "2022-11-14T19:49:34.756291Z",
     "start_time": "2022-11-14T19:49:33.214778Z"
    },
    "code_folding": []
   },
   "outputs": [],
   "source": [
    "\n",
    "mm = pp.MinMaxScaler()\n",
    "fs = s3fs.S3FileSystem( anon=False, key=AWS_ACCESS_KEY_ID, secret = AWS_SECRET_ACCESS_KEY)\n",
    "\n",
    "df43[ 'gross_revenue' ]    = mm.fit_transform( df43[[ 'gross_revenue' ]] )\n",
    "pickle.dump( mm, open('/Users/adriele/Documents/repos/pa005/src/features/gross_revenue_scaler.pkl', 'wb') )\n",
    "pickle.dump( mm, fs.open('s3://cluster-insiders-dataset/gross_revenue_scaler.pkl', 'wb') )\n",
    "\n",
    "\n",
    "df43[ 'recency_days' ]     = mm.fit_transform( df43[[ 'recency_days' ]] )\n",
    "pickle.dump( mm, open('/Users/adriele/Documents/repos/pa005/src/features/recency_days_scaler.pkl', 'wb') )\n",
    "pickle.dump( mm, fs.open('s3://cluster-insiders-dataset/recency_days_scaler.pkl', 'wb') )\n",
    "\n",
    "df43[ 'qtde_products' ]    = mm.fit_transform( df43[[ 'qtde_products' ]] )\n",
    "pickle.dump( mm, open('/Users/adriele/Documents/repos/pa005/src/features/qtde_products_scaler.pkl', 'wb') )\n",
    "pickle.dump( mm, fs.open('s3://cluster-insiders-dataset/qtde_products_scaler.pkl', 'wb') )\n",
    "\n",
    "\n",
    "df43[ 'frequency' ] = mm.fit_transform( df43[[ 'frequency' ]] )\n",
    "pickle.dump( mm, open('/Users/adriele/Documents/repos/pa005/src/features/frequency_scaler.pkl', 'wb') )\n",
    "pickle.dump( mm, fs.open('s3://cluster-insiders-dataset/frequency_scaler.pkl', 'wb') )\n",
    "\n",
    "\n",
    "df43[ 'qtde_returns' ]     = mm.fit_transform( df43[[ 'qtde_returns' ]] )\n",
    "pickle.dump( mm, open('/Users/adriele/Documents/repos/pa005/src/features/qtde_returns_scaler.pkl', 'wb') )\n",
    "pickle.dump( mm, fs.open('s3://cluster-insiders-dataset/qtde_returns_scaler.pkl', 'wb') )\n",
    "\n",
    "\n",
    "x = df43.copy()"
   ]
  },
  {
   "cell_type": "markdown",
   "id": "a0506dba",
   "metadata": {},
   "source": [
    "### 4.3.4 Tree Based Embeding"
   ]
  },
  {
   "cell_type": "code",
   "execution_count": 31,
   "id": "343f4897",
   "metadata": {
    "ExecuteTime": {
     "end_time": "2022-11-14T19:50:12.041245Z",
     "start_time": "2022-11-14T19:49:34.758790Z"
    }
   },
   "outputs": [],
   "source": [
    "x = df43.drop( columns=['gross_revenue'], axis=1)\n",
    "y = df43['gross_revenue']\n",
    "\n",
    "# model definition\n",
    "rf_model = en.RandomForestRegressor( n_estimators=100, random_state=42 )\n",
    "\n",
    "# Model training\n",
    "rf_model.fit( x, y )\n",
    "\n",
    "\n",
    "pickle.dump( rf_model, open('/Users/adriele/Documents/repos/pa005/src/models/rf_model.pkl', 'wb') )\n",
    "pickle.dump( rf_model, fs.open('s3://cluster-insiders-dataset/rf_model.pkl', 'wb') )\n",
    "\n",
    "# dataframe Leaf\n",
    "df_leaf= pd.DataFrame( rf_model.apply( x ) )\n"
   ]
  },
  {
   "cell_type": "code",
   "execution_count": 32,
   "id": "8ad8574b",
   "metadata": {
    "ExecuteTime": {
     "end_time": "2022-11-14T19:51:03.548603Z",
     "start_time": "2022-11-14T19:50:12.043608Z"
    }
   },
   "outputs": [
    {
     "name": "stderr",
     "output_type": "stream",
     "text": [
      "/Users/adriele/opt/anaconda3/envs/env_pa005/lib/python3.9/site-packages/sklearn/manifold/_spectral_embedding.py:260: UserWarning: Graph is not fully connected, spectral embedding may not work as expected.\n",
      "  warnings.warn(\n"
     ]
    },
    {
     "data": {
      "text/plain": [
       "<AxesSubplot:xlabel='embedding_x', ylabel='embedding_y'>"
      ]
     },
     "execution_count": 32,
     "metadata": {},
     "output_type": "execute_result"
    },
    {
     "data": {
      "image/png": "[encoded data removed]",
      "text/plain": [
       "<Figure size 432x288 with 1 Axes>"
      ]
     },
     "metadata": {
      "needs_background": "light"
     },
     "output_type": "display_data"
    }
   ],
   "source": [
    "\n",
    "reducer = umap.UMAP( random_state=42 )\n",
    "embedding = reducer.fit_transform( df_leaf )\n",
    "\n",
    "pickle.dump( reducer, open('/Users/adriele/Documents/repos/pa005/src/models/umap_reducer.pkl', 'wb') )\n",
    "pickle.dump( reducer, fs.open('s3://cluster-insiders-dataset/umap_reducer.pkl', 'wb') )\n",
    "\n",
    "\n",
    "# Embedding\n",
    "df_tree = pd.DataFrame()\n",
    "df_tree['embedding_x'] = embedding[:, 0]\n",
    "df_tree['embedding_y'] = embedding[:, 1]\n",
    "\n",
    "\n",
    "# Plot UMAP\n",
    "sns.scatterplot( x='embedding_x',\n",
    "                 y='embedding_y',\n",
    "                 data = df_tree )\n"
   ]
  },
  {
   "cell_type": "markdown",
   "id": "ed659b3d",
   "metadata": {
    "ExecuteTime": {
     "end_time": "2022-07-23T15:08:02.379470Z",
     "start_time": "2022-07-23T15:08:02.376696Z"
    }
   },
   "source": [
    "# <font color= 'red'> 5.0 Data Preparation"
   ]
  },
  {
   "cell_type": "code",
   "execution_count": 33,
   "id": "3573ce1b",
   "metadata": {
    "ExecuteTime": {
     "end_time": "2022-11-14T19:51:03.557249Z",
     "start_time": "2022-11-14T19:51:03.552332Z"
    }
   },
   "outputs": [],
   "source": [
    "# Tree Based Embedding\n",
    "df5 = df_tree.copy()\n",
    "\n",
    "# umap Embedding\n",
    "#df5 = df_umap.copy()\n",
    "\n",
    "# TSNE Embedging\n",
    "#df5 = df_tsne.copy()\n"
   ]
  },
  {
   "cell_type": "markdown",
   "id": "78acf92d",
   "metadata": {},
   "source": [
    "# <font color= 'red'> 7.0 Fine Tunning Hyperparameter"
   ]
  },
  {
   "cell_type": "code",
   "execution_count": 35,
   "id": "3a90de19",
   "metadata": {
    "ExecuteTime": {
     "end_time": "2022-11-14T19:53:56.734211Z",
     "start_time": "2022-11-14T19:53:56.693208Z"
    }
   },
   "outputs": [],
   "source": [
    "#x = df6.drop( columns=['customer_id'] )\n",
    "x = df_tree.copy()\n",
    "#clusters = [2, 3, 4, 5, 6, 7, 8, 9]\n",
    "clusters = np.arange(2, 26, 1)"
   ]
  },
  {
   "cell_type": "markdown",
   "id": "6219acc1",
   "metadata": {
    "ExecuteTime": {
     "end_time": "2022-08-12T20:36:54.800561Z",
     "start_time": "2022-08-12T20:36:54.793521Z"
    }
   },
   "source": [
    "## 7.1 K-Means"
   ]
  },
  {
   "cell_type": "code",
   "execution_count": 36,
   "id": "0b16fc9f",
   "metadata": {
    "ExecuteTime": {
     "end_time": "2022-11-14T19:55:06.426550Z",
     "start_time": "2022-11-14T19:53:57.795486Z"
    }
   },
   "outputs": [
    {
     "data": {
      "image/png": "[encoded data removed]",
      "text/plain": [
       "<Figure size 432x288 with 1 Axes>"
      ]
     },
     "metadata": {
      "needs_background": "light"
     },
     "output_type": "display_data"
    }
   ],
   "source": [
    "from  sklearn  import  cluster       as c\n",
    "\n",
    "kmeans_list = []\n",
    "for k in clusters:\n",
    "    # Model definition\n",
    "    kmeans_model = c.KMeans( n_clusters=k, n_init=100, random_state=42 )\n",
    "\n",
    "    # Model training\n",
    "    kmeans_model.fit( x )\n",
    "\n",
    "    # Model  predict\n",
    "    labels = kmeans_model.predict( x )\n",
    "\n",
    "    # Model performance\n",
    "    sil = m.silhouette_score( x, labels, metric='euclidean')\n",
    "    kmeans_list.append( sil )\n",
    "    \n",
    "    \n",
    "    \n",
    "plt.plot( clusters, kmeans_list, linestyle='--', marker='o', color='b')  \n",
    "plt.xlabel( 'k');\n",
    "plt.ylabel( 'Silhouette Score' );\n",
    "plt.title( 'Silhouette Score X K');"
   ]
  },
  {
   "cell_type": "markdown",
   "id": "6a87c29a",
   "metadata": {},
   "source": [
    "## 7.2 GMM"
   ]
  },
  {
   "cell_type": "code",
   "execution_count": 37,
   "id": "1f5f50e2",
   "metadata": {
    "ExecuteTime": {
     "end_time": "2022-11-14T20:03:15.490568Z",
     "start_time": "2022-11-14T19:55:06.433329Z"
    }
   },
   "outputs": [
    {
     "data": {
      "image/png": "[encoded data removed]",
      "text/plain": [
       "<Figure size 432x288 with 1 Axes>"
      ]
     },
     "metadata": {
      "needs_background": "light"
     },
     "output_type": "display_data"
    }
   ],
   "source": [
    "gmm_list = []\n",
    "for k in clusters:\n",
    "    # Model definition\n",
    "    gmm_model = mx.GaussianMixture( n_components=k, n_init=100, random_state=42  )\n",
    "\n",
    "    # Model training\n",
    "    gmm_model.fit( x )\n",
    "\n",
    "    # Model  predict\n",
    "    labels = gmm_model.predict( x )\n",
    "\n",
    "    # Model performance\n",
    "    sil = m.silhouette_score( x, labels, metric='euclidean')\n",
    "    gmm_list.append( sil )\n",
    "    \n",
    "    \n",
    "    \n",
    "plt.plot( clusters, gmm_list, linestyle='--', marker='o', color='b')  \n",
    "plt.xlabel( 'k');\n",
    "plt.ylabel( 'Silhouette Score' );\n",
    "plt.title( 'Sil x K');"
   ]
  },
  {
   "cell_type": "markdown",
   "id": "d811cfa4",
   "metadata": {},
   "source": [
    "## 7.3 Hierarchical Clustering"
   ]
  },
  {
   "cell_type": "code",
   "execution_count": 38,
   "id": "57e39fb5",
   "metadata": {
    "ExecuteTime": {
     "end_time": "2022-11-14T20:03:16.695781Z",
     "start_time": "2022-11-14T20:03:15.496921Z"
    }
   },
   "outputs": [],
   "source": [
    "hc_model = hc.linkage( x, 'ward')"
   ]
  },
  {
   "cell_type": "markdown",
   "id": "e72195e0",
   "metadata": {},
   "source": [
    "### 7.3.1. HClustering Silhouette Score"
   ]
  },
  {
   "cell_type": "code",
   "execution_count": 39,
   "id": "108eea2e",
   "metadata": {
    "ExecuteTime": {
     "end_time": "2022-11-14T20:03:51.057070Z",
     "start_time": "2022-11-14T20:03:16.701247Z"
    }
   },
   "outputs": [
    {
     "data": {
      "image/png": "[encoded data removed]",
      "text/plain": [
       "<Figure size 432x288 with 1 Axes>"
      ]
     },
     "metadata": {
      "needs_background": "light"
     },
     "output_type": "display_data"
    }
   ],
   "source": [
    "hc_list = []\n",
    "for k in clusters:\n",
    "    # Model definition\n",
    "    hc_model =hc.linkage( x, 'ward' )\n",
    "\n",
    "    # Model  predict\n",
    "    labels = hc.fcluster( hc_model, k, criterion='maxclust' )\n",
    "\n",
    "    # Model performance\n",
    "    sil = m.silhouette_score( x, labels, metric='euclidean')\n",
    "    hc_list.append( sil )\n",
    "    \n",
    "    \n",
    "    \n",
    "plt.plot( clusters, hc_list, linestyle='--', marker='o', color='b')  \n",
    "plt.xlabel( 'k');\n",
    "plt.ylabel( 'Silhouette Score' );\n",
    "plt.title( 'Sil x K');"
   ]
  },
  {
   "cell_type": "markdown",
   "id": "a0e3e37f",
   "metadata": {},
   "source": [
    "## 7.5 Results "
   ]
  },
  {
   "cell_type": "code",
   "execution_count": 40,
   "id": "be0e46d3",
   "metadata": {
    "ExecuteTime": {
     "end_time": "2022-11-14T20:03:51.245475Z",
     "start_time": "2022-11-14T20:03:51.059954Z"
    }
   },
   "outputs": [
    {
     "data": {
      "text/html": [
       "<style type=\"text/css\">\n",
       "#T_992e3_row0_col23, #T_992e3_row1_col23, #T_992e3_row2_col23 {\n",
       "  background-color: lightgreen;\n",
       "}\n",
       "</style>\n",
       "<table id=\"T_992e3\">\n",
       "  <thead>\n",
       "    <tr>\n",
       "      <th class=\"blank level0\" >&nbsp;</th>\n",
       "      <th id=\"T_992e3_level0_col0\" class=\"col_heading level0 col0\" >2</th>\n",
       "      <th id=\"T_992e3_level0_col1\" class=\"col_heading level0 col1\" >3</th>\n",
       "      <th id=\"T_992e3_level0_col2\" class=\"col_heading level0 col2\" >4</th>\n",
       "      <th id=\"T_992e3_level0_col3\" class=\"col_heading level0 col3\" >5</th>\n",
       "      <th id=\"T_992e3_level0_col4\" class=\"col_heading level0 col4\" >6</th>\n",
       "      <th id=\"T_992e3_level0_col5\" class=\"col_heading level0 col5\" >7</th>\n",
       "      <th id=\"T_992e3_level0_col6\" class=\"col_heading level0 col6\" >8</th>\n",
       "      <th id=\"T_992e3_level0_col7\" class=\"col_heading level0 col7\" >9</th>\n",
       "      <th id=\"T_992e3_level0_col8\" class=\"col_heading level0 col8\" >10</th>\n",
       "      <th id=\"T_992e3_level0_col9\" class=\"col_heading level0 col9\" >11</th>\n",
       "      <th id=\"T_992e3_level0_col10\" class=\"col_heading level0 col10\" >12</th>\n",
       "      <th id=\"T_992e3_level0_col11\" class=\"col_heading level0 col11\" >13</th>\n",
       "      <th id=\"T_992e3_level0_col12\" class=\"col_heading level0 col12\" >14</th>\n",
       "      <th id=\"T_992e3_level0_col13\" class=\"col_heading level0 col13\" >15</th>\n",
       "      <th id=\"T_992e3_level0_col14\" class=\"col_heading level0 col14\" >16</th>\n",
       "      <th id=\"T_992e3_level0_col15\" class=\"col_heading level0 col15\" >17</th>\n",
       "      <th id=\"T_992e3_level0_col16\" class=\"col_heading level0 col16\" >18</th>\n",
       "      <th id=\"T_992e3_level0_col17\" class=\"col_heading level0 col17\" >19</th>\n",
       "      <th id=\"T_992e3_level0_col18\" class=\"col_heading level0 col18\" >20</th>\n",
       "      <th id=\"T_992e3_level0_col19\" class=\"col_heading level0 col19\" >21</th>\n",
       "      <th id=\"T_992e3_level0_col20\" class=\"col_heading level0 col20\" >22</th>\n",
       "      <th id=\"T_992e3_level0_col21\" class=\"col_heading level0 col21\" >23</th>\n",
       "      <th id=\"T_992e3_level0_col22\" class=\"col_heading level0 col22\" >24</th>\n",
       "      <th id=\"T_992e3_level0_col23\" class=\"col_heading level0 col23\" >25</th>\n",
       "    </tr>\n",
       "  </thead>\n",
       "  <tbody>\n",
       "    <tr>\n",
       "      <th id=\"T_992e3_level0_row0\" class=\"row_heading level0 row0\" >KMeans</th>\n",
       "      <td id=\"T_992e3_row0_col0\" class=\"data row0 col0\" >0.403151</td>\n",
       "      <td id=\"T_992e3_row0_col1\" class=\"data row0 col1\" >0.457331</td>\n",
       "      <td id=\"T_992e3_row0_col2\" class=\"data row0 col2\" >0.489248</td>\n",
       "      <td id=\"T_992e3_row0_col3\" class=\"data row0 col3\" >0.480335</td>\n",
       "      <td id=\"T_992e3_row0_col4\" class=\"data row0 col4\" >0.484231</td>\n",
       "      <td id=\"T_992e3_row0_col5\" class=\"data row0 col5\" >0.492859</td>\n",
       "      <td id=\"T_992e3_row0_col6\" class=\"data row0 col6\" >0.494139</td>\n",
       "      <td id=\"T_992e3_row0_col7\" class=\"data row0 col7\" >0.487621</td>\n",
       "      <td id=\"T_992e3_row0_col8\" class=\"data row0 col8\" >0.485014</td>\n",
       "      <td id=\"T_992e3_row0_col9\" class=\"data row0 col9\" >0.488438</td>\n",
       "      <td id=\"T_992e3_row0_col10\" class=\"data row0 col10\" >0.504640</td>\n",
       "      <td id=\"T_992e3_row0_col11\" class=\"data row0 col11\" >0.510432</td>\n",
       "      <td id=\"T_992e3_row0_col12\" class=\"data row0 col12\" >0.513902</td>\n",
       "      <td id=\"T_992e3_row0_col13\" class=\"data row0 col13\" >0.518056</td>\n",
       "      <td id=\"T_992e3_row0_col14\" class=\"data row0 col14\" >0.521719</td>\n",
       "      <td id=\"T_992e3_row0_col15\" class=\"data row0 col15\" >0.528016</td>\n",
       "      <td id=\"T_992e3_row0_col16\" class=\"data row0 col16\" >0.535041</td>\n",
       "      <td id=\"T_992e3_row0_col17\" class=\"data row0 col17\" >0.542780</td>\n",
       "      <td id=\"T_992e3_row0_col18\" class=\"data row0 col18\" >0.541947</td>\n",
       "      <td id=\"T_992e3_row0_col19\" class=\"data row0 col19\" >0.545127</td>\n",
       "      <td id=\"T_992e3_row0_col20\" class=\"data row0 col20\" >0.548774</td>\n",
       "      <td id=\"T_992e3_row0_col21\" class=\"data row0 col21\" >0.558983</td>\n",
       "      <td id=\"T_992e3_row0_col22\" class=\"data row0 col22\" >0.557841</td>\n",
       "      <td id=\"T_992e3_row0_col23\" class=\"data row0 col23\" >0.565746</td>\n",
       "    </tr>\n",
       "    <tr>\n",
       "      <th id=\"T_992e3_level0_row1\" class=\"row_heading level0 row1\" >GMM</th>\n",
       "      <td id=\"T_992e3_row1_col0\" class=\"data row1 col0\" >0.405073</td>\n",
       "      <td id=\"T_992e3_row1_col1\" class=\"data row1 col1\" >0.405213</td>\n",
       "      <td id=\"T_992e3_row1_col2\" class=\"data row1 col2\" >0.379897</td>\n",
       "      <td id=\"T_992e3_row1_col3\" class=\"data row1 col3\" >0.468944</td>\n",
       "      <td id=\"T_992e3_row1_col4\" class=\"data row1 col4\" >0.447953</td>\n",
       "      <td id=\"T_992e3_row1_col5\" class=\"data row1 col5\" >0.424330</td>\n",
       "      <td id=\"T_992e3_row1_col6\" class=\"data row1 col6\" >0.343355</td>\n",
       "      <td id=\"T_992e3_row1_col7\" class=\"data row1 col7\" >0.306372</td>\n",
       "      <td id=\"T_992e3_row1_col8\" class=\"data row1 col8\" >0.407452</td>\n",
       "      <td id=\"T_992e3_row1_col9\" class=\"data row1 col9\" >0.414547</td>\n",
       "      <td id=\"T_992e3_row1_col10\" class=\"data row1 col10\" >0.411020</td>\n",
       "      <td id=\"T_992e3_row1_col11\" class=\"data row1 col11\" >0.396077</td>\n",
       "      <td id=\"T_992e3_row1_col12\" class=\"data row1 col12\" >0.437030</td>\n",
       "      <td id=\"T_992e3_row1_col13\" class=\"data row1 col13\" >0.439078</td>\n",
       "      <td id=\"T_992e3_row1_col14\" class=\"data row1 col14\" >0.348786</td>\n",
       "      <td id=\"T_992e3_row1_col15\" class=\"data row1 col15\" >0.413248</td>\n",
       "      <td id=\"T_992e3_row1_col16\" class=\"data row1 col16\" >0.421348</td>\n",
       "      <td id=\"T_992e3_row1_col17\" class=\"data row1 col17\" >0.369509</td>\n",
       "      <td id=\"T_992e3_row1_col18\" class=\"data row1 col18\" >0.441488</td>\n",
       "      <td id=\"T_992e3_row1_col19\" class=\"data row1 col19\" >0.385971</td>\n",
       "      <td id=\"T_992e3_row1_col20\" class=\"data row1 col20\" >0.383670</td>\n",
       "      <td id=\"T_992e3_row1_col21\" class=\"data row1 col21\" >0.457356</td>\n",
       "      <td id=\"T_992e3_row1_col22\" class=\"data row1 col22\" >0.409429</td>\n",
       "      <td id=\"T_992e3_row1_col23\" class=\"data row1 col23\" >0.497089</td>\n",
       "    </tr>\n",
       "    <tr>\n",
       "      <th id=\"T_992e3_level0_row2\" class=\"row_heading level0 row2\" >HC</th>\n",
       "      <td id=\"T_992e3_row2_col0\" class=\"data row2 col0\" >0.393920</td>\n",
       "      <td id=\"T_992e3_row2_col1\" class=\"data row2 col1\" >0.392308</td>\n",
       "      <td id=\"T_992e3_row2_col2\" class=\"data row2 col2\" >0.464546</td>\n",
       "      <td id=\"T_992e3_row2_col3\" class=\"data row2 col3\" >0.482294</td>\n",
       "      <td id=\"T_992e3_row2_col4\" class=\"data row2 col4\" >0.469256</td>\n",
       "      <td id=\"T_992e3_row2_col5\" class=\"data row2 col5\" >0.461171</td>\n",
       "      <td id=\"T_992e3_row2_col6\" class=\"data row2 col6\" >0.484764</td>\n",
       "      <td id=\"T_992e3_row2_col7\" class=\"data row2 col7\" >0.488684</td>\n",
       "      <td id=\"T_992e3_row2_col8\" class=\"data row2 col8\" >0.480826</td>\n",
       "      <td id=\"T_992e3_row2_col9\" class=\"data row2 col9\" >0.474934</td>\n",
       "      <td id=\"T_992e3_row2_col10\" class=\"data row2 col10\" >0.484001</td>\n",
       "      <td id=\"T_992e3_row2_col11\" class=\"data row2 col11\" >0.493798</td>\n",
       "      <td id=\"T_992e3_row2_col12\" class=\"data row2 col12\" >0.505290</td>\n",
       "      <td id=\"T_992e3_row2_col13\" class=\"data row2 col13\" >0.504668</td>\n",
       "      <td id=\"T_992e3_row2_col14\" class=\"data row2 col14\" >0.511445</td>\n",
       "      <td id=\"T_992e3_row2_col15\" class=\"data row2 col15\" >0.512708</td>\n",
       "      <td id=\"T_992e3_row2_col16\" class=\"data row2 col16\" >0.518881</td>\n",
       "      <td id=\"T_992e3_row2_col17\" class=\"data row2 col17\" >0.524341</td>\n",
       "      <td id=\"T_992e3_row2_col18\" class=\"data row2 col18\" >0.532993</td>\n",
       "      <td id=\"T_992e3_row2_col19\" class=\"data row2 col19\" >0.538002</td>\n",
       "      <td id=\"T_992e3_row2_col20\" class=\"data row2 col20\" >0.542641</td>\n",
       "      <td id=\"T_992e3_row2_col21\" class=\"data row2 col21\" >0.545487</td>\n",
       "      <td id=\"T_992e3_row2_col22\" class=\"data row2 col22\" >0.544789</td>\n",
       "      <td id=\"T_992e3_row2_col23\" class=\"data row2 col23\" >0.548659</td>\n",
       "    </tr>\n",
       "  </tbody>\n",
       "</table>\n"
      ],
      "text/plain": [
       "<pandas.io.formats.style.Styler at 0x7f82d0d695b0>"
      ]
     },
     "execution_count": 40,
     "metadata": {},
     "output_type": "execute_result"
    }
   ],
   "source": [
    "# Results - Tree Based embedding\n",
    "\n",
    "df_results = pd.DataFrame({'KMeans': kmeans_list,\n",
    "                           'GMM' :gmm_list,\n",
    "                           'HC' : hc_list }\n",
    "                         \n",
    "                         ).T\n",
    "\n",
    "df_results.columns = clusters\n",
    "df_results.style.highlight_max( color='lightgreen', axis=1)\n",
    "\n"
   ]
  },
  {
   "cell_type": "code",
   "execution_count": 41,
   "id": "1bb5ab35",
   "metadata": {
    "ExecuteTime": {
     "end_time": "2022-11-14T20:03:51.265051Z",
     "start_time": "2022-11-14T20:03:51.249231Z"
    }
   },
   "outputs": [
    {
     "data": {
      "text/html": [
       "<style type=\"text/css\">\n",
       "#T_95775_row0_col23, #T_95775_row1_col23, #T_95775_row2_col23 {\n",
       "  background-color: lightgreen;\n",
       "}\n",
       "</style>\n",
       "<table id=\"T_95775\">\n",
       "  <thead>\n",
       "    <tr>\n",
       "      <th class=\"blank level0\" >&nbsp;</th>\n",
       "      <th id=\"T_95775_level0_col0\" class=\"col_heading level0 col0\" >2</th>\n",
       "      <th id=\"T_95775_level0_col1\" class=\"col_heading level0 col1\" >3</th>\n",
       "      <th id=\"T_95775_level0_col2\" class=\"col_heading level0 col2\" >4</th>\n",
       "      <th id=\"T_95775_level0_col3\" class=\"col_heading level0 col3\" >5</th>\n",
       "      <th id=\"T_95775_level0_col4\" class=\"col_heading level0 col4\" >6</th>\n",
       "      <th id=\"T_95775_level0_col5\" class=\"col_heading level0 col5\" >7</th>\n",
       "      <th id=\"T_95775_level0_col6\" class=\"col_heading level0 col6\" >8</th>\n",
       "      <th id=\"T_95775_level0_col7\" class=\"col_heading level0 col7\" >9</th>\n",
       "      <th id=\"T_95775_level0_col8\" class=\"col_heading level0 col8\" >10</th>\n",
       "      <th id=\"T_95775_level0_col9\" class=\"col_heading level0 col9\" >11</th>\n",
       "      <th id=\"T_95775_level0_col10\" class=\"col_heading level0 col10\" >12</th>\n",
       "      <th id=\"T_95775_level0_col11\" class=\"col_heading level0 col11\" >13</th>\n",
       "      <th id=\"T_95775_level0_col12\" class=\"col_heading level0 col12\" >14</th>\n",
       "      <th id=\"T_95775_level0_col13\" class=\"col_heading level0 col13\" >15</th>\n",
       "      <th id=\"T_95775_level0_col14\" class=\"col_heading level0 col14\" >16</th>\n",
       "      <th id=\"T_95775_level0_col15\" class=\"col_heading level0 col15\" >17</th>\n",
       "      <th id=\"T_95775_level0_col16\" class=\"col_heading level0 col16\" >18</th>\n",
       "      <th id=\"T_95775_level0_col17\" class=\"col_heading level0 col17\" >19</th>\n",
       "      <th id=\"T_95775_level0_col18\" class=\"col_heading level0 col18\" >20</th>\n",
       "      <th id=\"T_95775_level0_col19\" class=\"col_heading level0 col19\" >21</th>\n",
       "      <th id=\"T_95775_level0_col20\" class=\"col_heading level0 col20\" >22</th>\n",
       "      <th id=\"T_95775_level0_col21\" class=\"col_heading level0 col21\" >23</th>\n",
       "      <th id=\"T_95775_level0_col22\" class=\"col_heading level0 col22\" >24</th>\n",
       "      <th id=\"T_95775_level0_col23\" class=\"col_heading level0 col23\" >25</th>\n",
       "    </tr>\n",
       "  </thead>\n",
       "  <tbody>\n",
       "    <tr>\n",
       "      <th id=\"T_95775_level0_row0\" class=\"row_heading level0 row0\" >KMeans</th>\n",
       "      <td id=\"T_95775_row0_col0\" class=\"data row0 col0\" >0.403151</td>\n",
       "      <td id=\"T_95775_row0_col1\" class=\"data row0 col1\" >0.457331</td>\n",
       "      <td id=\"T_95775_row0_col2\" class=\"data row0 col2\" >0.489248</td>\n",
       "      <td id=\"T_95775_row0_col3\" class=\"data row0 col3\" >0.480335</td>\n",
       "      <td id=\"T_95775_row0_col4\" class=\"data row0 col4\" >0.484231</td>\n",
       "      <td id=\"T_95775_row0_col5\" class=\"data row0 col5\" >0.492859</td>\n",
       "      <td id=\"T_95775_row0_col6\" class=\"data row0 col6\" >0.494139</td>\n",
       "      <td id=\"T_95775_row0_col7\" class=\"data row0 col7\" >0.487621</td>\n",
       "      <td id=\"T_95775_row0_col8\" class=\"data row0 col8\" >0.485014</td>\n",
       "      <td id=\"T_95775_row0_col9\" class=\"data row0 col9\" >0.488438</td>\n",
       "      <td id=\"T_95775_row0_col10\" class=\"data row0 col10\" >0.504640</td>\n",
       "      <td id=\"T_95775_row0_col11\" class=\"data row0 col11\" >0.510432</td>\n",
       "      <td id=\"T_95775_row0_col12\" class=\"data row0 col12\" >0.513902</td>\n",
       "      <td id=\"T_95775_row0_col13\" class=\"data row0 col13\" >0.518056</td>\n",
       "      <td id=\"T_95775_row0_col14\" class=\"data row0 col14\" >0.521719</td>\n",
       "      <td id=\"T_95775_row0_col15\" class=\"data row0 col15\" >0.528016</td>\n",
       "      <td id=\"T_95775_row0_col16\" class=\"data row0 col16\" >0.535041</td>\n",
       "      <td id=\"T_95775_row0_col17\" class=\"data row0 col17\" >0.542780</td>\n",
       "      <td id=\"T_95775_row0_col18\" class=\"data row0 col18\" >0.541947</td>\n",
       "      <td id=\"T_95775_row0_col19\" class=\"data row0 col19\" >0.545127</td>\n",
       "      <td id=\"T_95775_row0_col20\" class=\"data row0 col20\" >0.548774</td>\n",
       "      <td id=\"T_95775_row0_col21\" class=\"data row0 col21\" >0.558983</td>\n",
       "      <td id=\"T_95775_row0_col22\" class=\"data row0 col22\" >0.557841</td>\n",
       "      <td id=\"T_95775_row0_col23\" class=\"data row0 col23\" >0.565746</td>\n",
       "    </tr>\n",
       "    <tr>\n",
       "      <th id=\"T_95775_level0_row1\" class=\"row_heading level0 row1\" >GMM</th>\n",
       "      <td id=\"T_95775_row1_col0\" class=\"data row1 col0\" >0.405073</td>\n",
       "      <td id=\"T_95775_row1_col1\" class=\"data row1 col1\" >0.405213</td>\n",
       "      <td id=\"T_95775_row1_col2\" class=\"data row1 col2\" >0.379897</td>\n",
       "      <td id=\"T_95775_row1_col3\" class=\"data row1 col3\" >0.468944</td>\n",
       "      <td id=\"T_95775_row1_col4\" class=\"data row1 col4\" >0.447953</td>\n",
       "      <td id=\"T_95775_row1_col5\" class=\"data row1 col5\" >0.424330</td>\n",
       "      <td id=\"T_95775_row1_col6\" class=\"data row1 col6\" >0.343355</td>\n",
       "      <td id=\"T_95775_row1_col7\" class=\"data row1 col7\" >0.306372</td>\n",
       "      <td id=\"T_95775_row1_col8\" class=\"data row1 col8\" >0.407452</td>\n",
       "      <td id=\"T_95775_row1_col9\" class=\"data row1 col9\" >0.414547</td>\n",
       "      <td id=\"T_95775_row1_col10\" class=\"data row1 col10\" >0.411020</td>\n",
       "      <td id=\"T_95775_row1_col11\" class=\"data row1 col11\" >0.396077</td>\n",
       "      <td id=\"T_95775_row1_col12\" class=\"data row1 col12\" >0.437030</td>\n",
       "      <td id=\"T_95775_row1_col13\" class=\"data row1 col13\" >0.439078</td>\n",
       "      <td id=\"T_95775_row1_col14\" class=\"data row1 col14\" >0.348786</td>\n",
       "      <td id=\"T_95775_row1_col15\" class=\"data row1 col15\" >0.413248</td>\n",
       "      <td id=\"T_95775_row1_col16\" class=\"data row1 col16\" >0.421348</td>\n",
       "      <td id=\"T_95775_row1_col17\" class=\"data row1 col17\" >0.369509</td>\n",
       "      <td id=\"T_95775_row1_col18\" class=\"data row1 col18\" >0.441488</td>\n",
       "      <td id=\"T_95775_row1_col19\" class=\"data row1 col19\" >0.385971</td>\n",
       "      <td id=\"T_95775_row1_col20\" class=\"data row1 col20\" >0.383670</td>\n",
       "      <td id=\"T_95775_row1_col21\" class=\"data row1 col21\" >0.457356</td>\n",
       "      <td id=\"T_95775_row1_col22\" class=\"data row1 col22\" >0.409429</td>\n",
       "      <td id=\"T_95775_row1_col23\" class=\"data row1 col23\" >0.497089</td>\n",
       "    </tr>\n",
       "    <tr>\n",
       "      <th id=\"T_95775_level0_row2\" class=\"row_heading level0 row2\" >HC</th>\n",
       "      <td id=\"T_95775_row2_col0\" class=\"data row2 col0\" >0.393920</td>\n",
       "      <td id=\"T_95775_row2_col1\" class=\"data row2 col1\" >0.392308</td>\n",
       "      <td id=\"T_95775_row2_col2\" class=\"data row2 col2\" >0.464546</td>\n",
       "      <td id=\"T_95775_row2_col3\" class=\"data row2 col3\" >0.482294</td>\n",
       "      <td id=\"T_95775_row2_col4\" class=\"data row2 col4\" >0.469256</td>\n",
       "      <td id=\"T_95775_row2_col5\" class=\"data row2 col5\" >0.461171</td>\n",
       "      <td id=\"T_95775_row2_col6\" class=\"data row2 col6\" >0.484764</td>\n",
       "      <td id=\"T_95775_row2_col7\" class=\"data row2 col7\" >0.488684</td>\n",
       "      <td id=\"T_95775_row2_col8\" class=\"data row2 col8\" >0.480826</td>\n",
       "      <td id=\"T_95775_row2_col9\" class=\"data row2 col9\" >0.474934</td>\n",
       "      <td id=\"T_95775_row2_col10\" class=\"data row2 col10\" >0.484001</td>\n",
       "      <td id=\"T_95775_row2_col11\" class=\"data row2 col11\" >0.493798</td>\n",
       "      <td id=\"T_95775_row2_col12\" class=\"data row2 col12\" >0.505290</td>\n",
       "      <td id=\"T_95775_row2_col13\" class=\"data row2 col13\" >0.504668</td>\n",
       "      <td id=\"T_95775_row2_col14\" class=\"data row2 col14\" >0.511445</td>\n",
       "      <td id=\"T_95775_row2_col15\" class=\"data row2 col15\" >0.512708</td>\n",
       "      <td id=\"T_95775_row2_col16\" class=\"data row2 col16\" >0.518881</td>\n",
       "      <td id=\"T_95775_row2_col17\" class=\"data row2 col17\" >0.524341</td>\n",
       "      <td id=\"T_95775_row2_col18\" class=\"data row2 col18\" >0.532993</td>\n",
       "      <td id=\"T_95775_row2_col19\" class=\"data row2 col19\" >0.538002</td>\n",
       "      <td id=\"T_95775_row2_col20\" class=\"data row2 col20\" >0.542641</td>\n",
       "      <td id=\"T_95775_row2_col21\" class=\"data row2 col21\" >0.545487</td>\n",
       "      <td id=\"T_95775_row2_col22\" class=\"data row2 col22\" >0.544789</td>\n",
       "      <td id=\"T_95775_row2_col23\" class=\"data row2 col23\" >0.548659</td>\n",
       "    </tr>\n",
       "  </tbody>\n",
       "</table>\n"
      ],
      "text/plain": [
       "<pandas.io.formats.style.Styler at 0x7f82ce1df8b0>"
      ]
     },
     "execution_count": 41,
     "metadata": {},
     "output_type": "execute_result"
    }
   ],
   "source": [
    "# Results - UMAP embedding\n",
    "df_results = pd.DataFrame({'KMeans': kmeans_list,\n",
    "                           'GMM' :gmm_list,\n",
    "                           'HC' : hc_list }\n",
    "                         \n",
    "                         ).T\n",
    "\n",
    "df_results.columns = clusters\n",
    "df_results.style.highlight_max( color='lightgreen', axis=1)\n",
    "\n"
   ]
  },
  {
   "cell_type": "code",
   "execution_count": 42,
   "id": "57d467da",
   "metadata": {
    "ExecuteTime": {
     "end_time": "2022-11-14T20:03:51.287452Z",
     "start_time": "2022-11-14T20:03:51.269329Z"
    }
   },
   "outputs": [
    {
     "data": {
      "text/html": [
       "<style type=\"text/css\">\n",
       "#T_161de_row0_col23, #T_161de_row1_col23, #T_161de_row2_col23 {\n",
       "  background-color: lightgreen;\n",
       "}\n",
       "</style>\n",
       "<table id=\"T_161de\">\n",
       "  <thead>\n",
       "    <tr>\n",
       "      <th class=\"blank level0\" >&nbsp;</th>\n",
       "      <th id=\"T_161de_level0_col0\" class=\"col_heading level0 col0\" >2</th>\n",
       "      <th id=\"T_161de_level0_col1\" class=\"col_heading level0 col1\" >3</th>\n",
       "      <th id=\"T_161de_level0_col2\" class=\"col_heading level0 col2\" >4</th>\n",
       "      <th id=\"T_161de_level0_col3\" class=\"col_heading level0 col3\" >5</th>\n",
       "      <th id=\"T_161de_level0_col4\" class=\"col_heading level0 col4\" >6</th>\n",
       "      <th id=\"T_161de_level0_col5\" class=\"col_heading level0 col5\" >7</th>\n",
       "      <th id=\"T_161de_level0_col6\" class=\"col_heading level0 col6\" >8</th>\n",
       "      <th id=\"T_161de_level0_col7\" class=\"col_heading level0 col7\" >9</th>\n",
       "      <th id=\"T_161de_level0_col8\" class=\"col_heading level0 col8\" >10</th>\n",
       "      <th id=\"T_161de_level0_col9\" class=\"col_heading level0 col9\" >11</th>\n",
       "      <th id=\"T_161de_level0_col10\" class=\"col_heading level0 col10\" >12</th>\n",
       "      <th id=\"T_161de_level0_col11\" class=\"col_heading level0 col11\" >13</th>\n",
       "      <th id=\"T_161de_level0_col12\" class=\"col_heading level0 col12\" >14</th>\n",
       "      <th id=\"T_161de_level0_col13\" class=\"col_heading level0 col13\" >15</th>\n",
       "      <th id=\"T_161de_level0_col14\" class=\"col_heading level0 col14\" >16</th>\n",
       "      <th id=\"T_161de_level0_col15\" class=\"col_heading level0 col15\" >17</th>\n",
       "      <th id=\"T_161de_level0_col16\" class=\"col_heading level0 col16\" >18</th>\n",
       "      <th id=\"T_161de_level0_col17\" class=\"col_heading level0 col17\" >19</th>\n",
       "      <th id=\"T_161de_level0_col18\" class=\"col_heading level0 col18\" >20</th>\n",
       "      <th id=\"T_161de_level0_col19\" class=\"col_heading level0 col19\" >21</th>\n",
       "      <th id=\"T_161de_level0_col20\" class=\"col_heading level0 col20\" >22</th>\n",
       "      <th id=\"T_161de_level0_col21\" class=\"col_heading level0 col21\" >23</th>\n",
       "      <th id=\"T_161de_level0_col22\" class=\"col_heading level0 col22\" >24</th>\n",
       "      <th id=\"T_161de_level0_col23\" class=\"col_heading level0 col23\" >25</th>\n",
       "    </tr>\n",
       "  </thead>\n",
       "  <tbody>\n",
       "    <tr>\n",
       "      <th id=\"T_161de_level0_row0\" class=\"row_heading level0 row0\" >KMeans</th>\n",
       "      <td id=\"T_161de_row0_col0\" class=\"data row0 col0\" >0.403151</td>\n",
       "      <td id=\"T_161de_row0_col1\" class=\"data row0 col1\" >0.457331</td>\n",
       "      <td id=\"T_161de_row0_col2\" class=\"data row0 col2\" >0.489248</td>\n",
       "      <td id=\"T_161de_row0_col3\" class=\"data row0 col3\" >0.480335</td>\n",
       "      <td id=\"T_161de_row0_col4\" class=\"data row0 col4\" >0.484231</td>\n",
       "      <td id=\"T_161de_row0_col5\" class=\"data row0 col5\" >0.492859</td>\n",
       "      <td id=\"T_161de_row0_col6\" class=\"data row0 col6\" >0.494139</td>\n",
       "      <td id=\"T_161de_row0_col7\" class=\"data row0 col7\" >0.487621</td>\n",
       "      <td id=\"T_161de_row0_col8\" class=\"data row0 col8\" >0.485014</td>\n",
       "      <td id=\"T_161de_row0_col9\" class=\"data row0 col9\" >0.488438</td>\n",
       "      <td id=\"T_161de_row0_col10\" class=\"data row0 col10\" >0.504640</td>\n",
       "      <td id=\"T_161de_row0_col11\" class=\"data row0 col11\" >0.510432</td>\n",
       "      <td id=\"T_161de_row0_col12\" class=\"data row0 col12\" >0.513902</td>\n",
       "      <td id=\"T_161de_row0_col13\" class=\"data row0 col13\" >0.518056</td>\n",
       "      <td id=\"T_161de_row0_col14\" class=\"data row0 col14\" >0.521719</td>\n",
       "      <td id=\"T_161de_row0_col15\" class=\"data row0 col15\" >0.528016</td>\n",
       "      <td id=\"T_161de_row0_col16\" class=\"data row0 col16\" >0.535041</td>\n",
       "      <td id=\"T_161de_row0_col17\" class=\"data row0 col17\" >0.542780</td>\n",
       "      <td id=\"T_161de_row0_col18\" class=\"data row0 col18\" >0.541947</td>\n",
       "      <td id=\"T_161de_row0_col19\" class=\"data row0 col19\" >0.545127</td>\n",
       "      <td id=\"T_161de_row0_col20\" class=\"data row0 col20\" >0.548774</td>\n",
       "      <td id=\"T_161de_row0_col21\" class=\"data row0 col21\" >0.558983</td>\n",
       "      <td id=\"T_161de_row0_col22\" class=\"data row0 col22\" >0.557841</td>\n",
       "      <td id=\"T_161de_row0_col23\" class=\"data row0 col23\" >0.565746</td>\n",
       "    </tr>\n",
       "    <tr>\n",
       "      <th id=\"T_161de_level0_row1\" class=\"row_heading level0 row1\" >GMM</th>\n",
       "      <td id=\"T_161de_row1_col0\" class=\"data row1 col0\" >0.405073</td>\n",
       "      <td id=\"T_161de_row1_col1\" class=\"data row1 col1\" >0.405213</td>\n",
       "      <td id=\"T_161de_row1_col2\" class=\"data row1 col2\" >0.379897</td>\n",
       "      <td id=\"T_161de_row1_col3\" class=\"data row1 col3\" >0.468944</td>\n",
       "      <td id=\"T_161de_row1_col4\" class=\"data row1 col4\" >0.447953</td>\n",
       "      <td id=\"T_161de_row1_col5\" class=\"data row1 col5\" >0.424330</td>\n",
       "      <td id=\"T_161de_row1_col6\" class=\"data row1 col6\" >0.343355</td>\n",
       "      <td id=\"T_161de_row1_col7\" class=\"data row1 col7\" >0.306372</td>\n",
       "      <td id=\"T_161de_row1_col8\" class=\"data row1 col8\" >0.407452</td>\n",
       "      <td id=\"T_161de_row1_col9\" class=\"data row1 col9\" >0.414547</td>\n",
       "      <td id=\"T_161de_row1_col10\" class=\"data row1 col10\" >0.411020</td>\n",
       "      <td id=\"T_161de_row1_col11\" class=\"data row1 col11\" >0.396077</td>\n",
       "      <td id=\"T_161de_row1_col12\" class=\"data row1 col12\" >0.437030</td>\n",
       "      <td id=\"T_161de_row1_col13\" class=\"data row1 col13\" >0.439078</td>\n",
       "      <td id=\"T_161de_row1_col14\" class=\"data row1 col14\" >0.348786</td>\n",
       "      <td id=\"T_161de_row1_col15\" class=\"data row1 col15\" >0.413248</td>\n",
       "      <td id=\"T_161de_row1_col16\" class=\"data row1 col16\" >0.421348</td>\n",
       "      <td id=\"T_161de_row1_col17\" class=\"data row1 col17\" >0.369509</td>\n",
       "      <td id=\"T_161de_row1_col18\" class=\"data row1 col18\" >0.441488</td>\n",
       "      <td id=\"T_161de_row1_col19\" class=\"data row1 col19\" >0.385971</td>\n",
       "      <td id=\"T_161de_row1_col20\" class=\"data row1 col20\" >0.383670</td>\n",
       "      <td id=\"T_161de_row1_col21\" class=\"data row1 col21\" >0.457356</td>\n",
       "      <td id=\"T_161de_row1_col22\" class=\"data row1 col22\" >0.409429</td>\n",
       "      <td id=\"T_161de_row1_col23\" class=\"data row1 col23\" >0.497089</td>\n",
       "    </tr>\n",
       "    <tr>\n",
       "      <th id=\"T_161de_level0_row2\" class=\"row_heading level0 row2\" >HC</th>\n",
       "      <td id=\"T_161de_row2_col0\" class=\"data row2 col0\" >0.393920</td>\n",
       "      <td id=\"T_161de_row2_col1\" class=\"data row2 col1\" >0.392308</td>\n",
       "      <td id=\"T_161de_row2_col2\" class=\"data row2 col2\" >0.464546</td>\n",
       "      <td id=\"T_161de_row2_col3\" class=\"data row2 col3\" >0.482294</td>\n",
       "      <td id=\"T_161de_row2_col4\" class=\"data row2 col4\" >0.469256</td>\n",
       "      <td id=\"T_161de_row2_col5\" class=\"data row2 col5\" >0.461171</td>\n",
       "      <td id=\"T_161de_row2_col6\" class=\"data row2 col6\" >0.484764</td>\n",
       "      <td id=\"T_161de_row2_col7\" class=\"data row2 col7\" >0.488684</td>\n",
       "      <td id=\"T_161de_row2_col8\" class=\"data row2 col8\" >0.480826</td>\n",
       "      <td id=\"T_161de_row2_col9\" class=\"data row2 col9\" >0.474934</td>\n",
       "      <td id=\"T_161de_row2_col10\" class=\"data row2 col10\" >0.484001</td>\n",
       "      <td id=\"T_161de_row2_col11\" class=\"data row2 col11\" >0.493798</td>\n",
       "      <td id=\"T_161de_row2_col12\" class=\"data row2 col12\" >0.505290</td>\n",
       "      <td id=\"T_161de_row2_col13\" class=\"data row2 col13\" >0.504668</td>\n",
       "      <td id=\"T_161de_row2_col14\" class=\"data row2 col14\" >0.511445</td>\n",
       "      <td id=\"T_161de_row2_col15\" class=\"data row2 col15\" >0.512708</td>\n",
       "      <td id=\"T_161de_row2_col16\" class=\"data row2 col16\" >0.518881</td>\n",
       "      <td id=\"T_161de_row2_col17\" class=\"data row2 col17\" >0.524341</td>\n",
       "      <td id=\"T_161de_row2_col18\" class=\"data row2 col18\" >0.532993</td>\n",
       "      <td id=\"T_161de_row2_col19\" class=\"data row2 col19\" >0.538002</td>\n",
       "      <td id=\"T_161de_row2_col20\" class=\"data row2 col20\" >0.542641</td>\n",
       "      <td id=\"T_161de_row2_col21\" class=\"data row2 col21\" >0.545487</td>\n",
       "      <td id=\"T_161de_row2_col22\" class=\"data row2 col22\" >0.544789</td>\n",
       "      <td id=\"T_161de_row2_col23\" class=\"data row2 col23\" >0.548659</td>\n",
       "    </tr>\n",
       "  </tbody>\n",
       "</table>\n"
      ],
      "text/plain": [
       "<pandas.io.formats.style.Styler at 0x7f82cfa16970>"
      ]
     },
     "execution_count": 42,
     "metadata": {},
     "output_type": "execute_result"
    }
   ],
   "source": [
    "# Results -  TSNE embedding\n",
    "df_results = pd.DataFrame({'KMeans': kmeans_list,\n",
    "                           'GMM' :gmm_list,\n",
    "                           'HC' : hc_list }\n",
    "                         \n",
    "                         ).T\n",
    "\n",
    "df_results.columns = clusters\n",
    "df_results.style.highlight_max( color='lightgreen', axis=1)\n",
    "\n"
   ]
  },
  {
   "cell_type": "markdown",
   "id": "e542bda3",
   "metadata": {
    "ExecuteTime": {
     "end_time": "2022-07-23T15:08:02.379470Z",
     "start_time": "2022-07-23T15:08:02.376696Z"
    }
   },
   "source": [
    "# <font color= 'red'> 8.0 Model Training"
   ]
  },
  {
   "cell_type": "markdown",
   "id": "7ec5c4c5",
   "metadata": {},
   "source": [
    "## 8.1 Final Model"
   ]
  },
  {
   "cell_type": "code",
   "execution_count": 43,
   "id": "4c8532a1",
   "metadata": {
    "ExecuteTime": {
     "end_time": "2022-11-14T20:04:29.342905Z",
     "start_time": "2022-11-14T20:03:51.291155Z"
    }
   },
   "outputs": [],
   "source": [
    "#Model definition\n",
    "k = 8\n",
    "\n",
    "# Model definition\n",
    "gmm_model = mx.GaussianMixture( n_components=k, n_init=300, random_state=32 )\n",
    "\n",
    "# Model training\n",
    "gmm_model.fit( x )\n",
    "\n",
    "# Model  predict\n",
    "labels = gmm_model.predict( x )\n",
    "\n",
    "\n"
   ]
  },
  {
   "cell_type": "markdown",
   "id": "aea19e8f",
   "metadata": {},
   "source": [
    "## 8.2 Cluster Validation"
   ]
  },
  {
   "cell_type": "code",
   "execution_count": 44,
   "id": "39542657",
   "metadata": {
    "ExecuteTime": {
     "end_time": "2022-11-14T20:04:29.986860Z",
     "start_time": "2022-11-14T20:04:29.346225Z"
    }
   },
   "outputs": [
    {
     "name": "stdout",
     "output_type": "stream",
     "text": [
      "SS value: 0.4192010760307312\n"
     ]
    }
   ],
   "source": [
    "# WSS (Within cluster sum of square)\n",
    "#print( 'WSS value: {}'.format( kmeans.inertia_ ) )\n",
    "\n",
    "# SS ( Silhouette score )\n",
    "print( 'SS value: {}'.format( m.silhouette_score( x, labels, metric='euclidean' ) ) )"
   ]
  },
  {
   "cell_type": "markdown",
   "id": "d39ddf11",
   "metadata": {
    "ExecuteTime": {
     "end_time": "2022-07-23T15:08:02.379470Z",
     "start_time": "2022-07-23T15:08:02.376696Z"
    }
   },
   "source": [
    "# <font color= 'red'> 9.0 Cluster Analysis"
   ]
  },
  {
   "cell_type": "code",
   "execution_count": 52,
   "id": "996bc67e",
   "metadata": {
    "ExecuteTime": {
     "end_time": "2022-11-14T20:25:38.352848Z",
     "start_time": "2022-11-14T20:25:38.329017Z"
    }
   },
   "outputs": [
    {
     "data": {
      "text/html": [
       "<div>\n",
       "<style scoped>\n",
       "    .dataframe tbody tr th:only-of-type {\n",
       "        vertical-align: middle;\n",
       "    }\n",
       "\n",
       "    .dataframe tbody tr th {\n",
       "        vertical-align: top;\n",
       "    }\n",
       "\n",
       "    .dataframe thead th {\n",
       "        text-align: right;\n",
       "    }\n",
       "</style>\n",
       "<table border=\"1\" class=\"dataframe\">\n",
       "  <thead>\n",
       "    <tr style=\"text-align: right;\">\n",
       "      <th></th>\n",
       "      <th>customer_id</th>\n",
       "      <th>gross_revenue</th>\n",
       "      <th>recency_days</th>\n",
       "      <th>qtde_products</th>\n",
       "      <th>frequency</th>\n",
       "      <th>qtde_returns</th>\n",
       "      <th>cluster</th>\n",
       "    </tr>\n",
       "  </thead>\n",
       "  <tbody>\n",
       "    <tr>\n",
       "      <th>0</th>\n",
       "      <td>17850</td>\n",
       "      <td>5391.21</td>\n",
       "      <td>372.0</td>\n",
       "      <td>21.0</td>\n",
       "      <td>34.000000</td>\n",
       "      <td>40.0</td>\n",
       "      <td>5</td>\n",
       "    </tr>\n",
       "    <tr>\n",
       "      <th>1</th>\n",
       "      <td>13047</td>\n",
       "      <td>3232.59</td>\n",
       "      <td>56.0</td>\n",
       "      <td>105.0</td>\n",
       "      <td>0.028391</td>\n",
       "      <td>35.0</td>\n",
       "      <td>7</td>\n",
       "    </tr>\n",
       "    <tr>\n",
       "      <th>2</th>\n",
       "      <td>12583</td>\n",
       "      <td>6705.38</td>\n",
       "      <td>2.0</td>\n",
       "      <td>114.0</td>\n",
       "      <td>0.040431</td>\n",
       "      <td>50.0</td>\n",
       "      <td>7</td>\n",
       "    </tr>\n",
       "    <tr>\n",
       "      <th>3</th>\n",
       "      <td>13748</td>\n",
       "      <td>948.25</td>\n",
       "      <td>95.0</td>\n",
       "      <td>24.0</td>\n",
       "      <td>0.017986</td>\n",
       "      <td>0.0</td>\n",
       "      <td>3</td>\n",
       "    </tr>\n",
       "    <tr>\n",
       "      <th>4</th>\n",
       "      <td>15100</td>\n",
       "      <td>876.00</td>\n",
       "      <td>333.0</td>\n",
       "      <td>1.0</td>\n",
       "      <td>0.075000</td>\n",
       "      <td>22.0</td>\n",
       "      <td>3</td>\n",
       "    </tr>\n",
       "  </tbody>\n",
       "</table>\n",
       "</div>"
      ],
      "text/plain": [
       "   customer_id  gross_revenue  recency_days  qtde_products  frequency  \\\n",
       "0        17850        5391.21         372.0           21.0  34.000000   \n",
       "1        13047        3232.59          56.0          105.0   0.028391   \n",
       "2        12583        6705.38           2.0          114.0   0.040431   \n",
       "3        13748         948.25          95.0           24.0   0.017986   \n",
       "4        15100         876.00         333.0            1.0   0.075000   \n",
       "\n",
       "   qtde_returns  cluster  \n",
       "0          40.0        5  \n",
       "1          35.0        7  \n",
       "2          50.0        7  \n",
       "3           0.0        3  \n",
       "4          22.0        3  "
      ]
     },
     "execution_count": 52,
     "metadata": {},
     "output_type": "execute_result"
    }
   ],
   "source": [
    "df92= df4[cols_selected].copy()\n",
    "df92['cluster'] = labels\n",
    "df92.head()"
   ]
  },
  {
   "cell_type": "code",
   "execution_count": 53,
   "id": "c0efdc07",
   "metadata": {
    "ExecuteTime": {
     "end_time": "2022-11-14T20:25:39.655976Z",
     "start_time": "2022-11-14T20:25:39.647974Z"
    }
   },
   "outputs": [
    {
     "data": {
      "text/html": [
       "<div>\n",
       "<style scoped>\n",
       "    .dataframe tbody tr th:only-of-type {\n",
       "        vertical-align: middle;\n",
       "    }\n",
       "\n",
       "    .dataframe tbody tr th {\n",
       "        vertical-align: top;\n",
       "    }\n",
       "\n",
       "    .dataframe thead th {\n",
       "        text-align: right;\n",
       "    }\n",
       "</style>\n",
       "<table border=\"1\" class=\"dataframe\">\n",
       "  <thead>\n",
       "    <tr style=\"text-align: right;\">\n",
       "      <th></th>\n",
       "      <th>embedding_x</th>\n",
       "      <th>embedding_y</th>\n",
       "    </tr>\n",
       "  </thead>\n",
       "  <tbody>\n",
       "    <tr>\n",
       "      <th>0</th>\n",
       "      <td>10.761306</td>\n",
       "      <td>11.849047</td>\n",
       "    </tr>\n",
       "    <tr>\n",
       "      <th>1</th>\n",
       "      <td>13.236088</td>\n",
       "      <td>-6.569131</td>\n",
       "    </tr>\n",
       "    <tr>\n",
       "      <th>2</th>\n",
       "      <td>13.659265</td>\n",
       "      <td>-7.025612</td>\n",
       "    </tr>\n",
       "    <tr>\n",
       "      <th>3</th>\n",
       "      <td>17.390160</td>\n",
       "      <td>11.825913</td>\n",
       "    </tr>\n",
       "    <tr>\n",
       "      <th>4</th>\n",
       "      <td>13.067233</td>\n",
       "      <td>11.321601</td>\n",
       "    </tr>\n",
       "  </tbody>\n",
       "</table>\n",
       "</div>"
      ],
      "text/plain": [
       "   embedding_x  embedding_y\n",
       "0    10.761306    11.849047\n",
       "1    13.236088    -6.569131\n",
       "2    13.659265    -7.025612\n",
       "3    17.390160    11.825913\n",
       "4    13.067233    11.321601"
      ]
     },
     "execution_count": 53,
     "metadata": {},
     "output_type": "execute_result"
    }
   ],
   "source": [
    "x.head()"
   ]
  },
  {
   "cell_type": "code",
   "execution_count": 55,
   "id": "4e8d9e2c",
   "metadata": {
    "ExecuteTime": {
     "end_time": "2022-11-14T20:26:43.611265Z",
     "start_time": "2022-11-14T20:26:43.571780Z"
    }
   },
   "outputs": [],
   "source": [
    "#changing Dtypes\n",
    "# df92['recency_days'] = df92['recency_days'].astype( int )\n",
    "# df92['qtde_products'] = df92['qtde_products'].astype( int )\n",
    "# df92['qtde_returns'] = df92['qtde_returns'].astype( int )\n",
    "\n",
    "# Number of customer\n",
    "df_cluster = df92[['customer_id', 'cluster']].groupby( 'cluster' ).count().reset_index()\n",
    "df_cluster['perc_customer'] = 100*( df_cluster['customer_id'] / df_cluster['customer_id'].sum() )\n",
    "\n",
    "# Avg Gross Revenue\n",
    "df_avg_gross_revenue = df92[['gross_revenue', 'cluster']].groupby( 'cluster' ).mean().reset_index()\n",
    "df_cluster = pd.merge( df_cluster, df_avg_gross_revenue, how='inner', on='cluster' )\n",
    "\n",
    "# Agv recency days\n",
    "df_avg_recency_days = df92[['recency_days', 'cluster']].groupby( 'cluster' ).mean().reset_index()\n",
    "df_cluster = pd.merge( df_cluster, df_avg_recency_days, how='inner', on='cluster' )\n",
    "\n",
    "# Avg invoice no\n",
    "df_avg_invoice_no = df92[['qtde_products', 'cluster']].groupby( 'cluster' ).mean().reset_index()\n",
    "df_cluster = pd.merge( df_cluster, df_avg_invoice_no, how='inner', on='cluster' )\n",
    "\n",
    "# Frequency\n",
    "df_frequency = df92[['frequency', 'cluster']].groupby( 'cluster' ).mean().reset_index()\n",
    "df_cluster = pd.merge( df_cluster, df_frequency, how='inner', on='cluster' )\n",
    "\n",
    "# Returns\n",
    "df_returns = df92[['qtde_returns', 'cluster']].groupby( 'cluster' ).mean().reset_index()\n",
    "df_cluster = pd.merge( df_cluster, df_returns, how='inner', on='cluster' )\n",
    "\n"
   ]
  },
  {
   "cell_type": "code",
   "execution_count": 56,
   "id": "74b22b4a",
   "metadata": {
    "ExecuteTime": {
     "end_time": "2022-11-14T20:26:46.377475Z",
     "start_time": "2022-11-14T20:26:46.365908Z"
    }
   },
   "outputs": [
    {
     "data": {
      "text/html": [
       "<div>\n",
       "<style scoped>\n",
       "    .dataframe tbody tr th:only-of-type {\n",
       "        vertical-align: middle;\n",
       "    }\n",
       "\n",
       "    .dataframe tbody tr th {\n",
       "        vertical-align: top;\n",
       "    }\n",
       "\n",
       "    .dataframe thead th {\n",
       "        text-align: right;\n",
       "    }\n",
       "</style>\n",
       "<table border=\"1\" class=\"dataframe\">\n",
       "  <thead>\n",
       "    <tr style=\"text-align: right;\">\n",
       "      <th></th>\n",
       "      <th>cluster</th>\n",
       "      <th>customer_id</th>\n",
       "      <th>perc_customer</th>\n",
       "      <th>gross_revenue</th>\n",
       "      <th>recency_days</th>\n",
       "      <th>qtde_products</th>\n",
       "      <th>frequency</th>\n",
       "      <th>qtde_returns</th>\n",
       "    </tr>\n",
       "  </thead>\n",
       "  <tbody>\n",
       "    <tr>\n",
       "      <th>7</th>\n",
       "      <td>7</td>\n",
       "      <td>603</td>\n",
       "      <td>10.586376</td>\n",
       "      <td>7478.563682</td>\n",
       "      <td>67.273632</td>\n",
       "      <td>248.084577</td>\n",
       "      <td>0.034905</td>\n",
       "      <td>249.762852</td>\n",
       "    </tr>\n",
       "    <tr>\n",
       "      <th>2</th>\n",
       "      <td>2</td>\n",
       "      <td>1086</td>\n",
       "      <td>19.066011</td>\n",
       "      <td>2134.696676</td>\n",
       "      <td>79.522099</td>\n",
       "      <td>127.546961</td>\n",
       "      <td>0.030259</td>\n",
       "      <td>3.971455</td>\n",
       "    </tr>\n",
       "    <tr>\n",
       "      <th>5</th>\n",
       "      <td>5</td>\n",
       "      <td>469</td>\n",
       "      <td>8.233848</td>\n",
       "      <td>1575.488614</td>\n",
       "      <td>99.247335</td>\n",
       "      <td>31.921109</td>\n",
       "      <td>0.149924</td>\n",
       "      <td>15.358209</td>\n",
       "    </tr>\n",
       "    <tr>\n",
       "      <th>0</th>\n",
       "      <td>0</td>\n",
       "      <td>598</td>\n",
       "      <td>10.498596</td>\n",
       "      <td>1173.620184</td>\n",
       "      <td>141.438127</td>\n",
       "      <td>36.742475</td>\n",
       "      <td>0.002919</td>\n",
       "      <td>2.035117</td>\n",
       "    </tr>\n",
       "    <tr>\n",
       "      <th>3</th>\n",
       "      <td>3</td>\n",
       "      <td>781</td>\n",
       "      <td>13.711376</td>\n",
       "      <td>1169.325762</td>\n",
       "      <td>72.358515</td>\n",
       "      <td>36.398207</td>\n",
       "      <td>0.053303</td>\n",
       "      <td>2.974392</td>\n",
       "    </tr>\n",
       "    <tr>\n",
       "      <th>4</th>\n",
       "      <td>4</td>\n",
       "      <td>992</td>\n",
       "      <td>17.415730</td>\n",
       "      <td>557.475343</td>\n",
       "      <td>133.382056</td>\n",
       "      <td>28.430444</td>\n",
       "      <td>0.003085</td>\n",
       "      <td>4.396169</td>\n",
       "    </tr>\n",
       "    <tr>\n",
       "      <th>1</th>\n",
       "      <td>1</td>\n",
       "      <td>936</td>\n",
       "      <td>16.432584</td>\n",
       "      <td>379.110395</td>\n",
       "      <td>175.057692</td>\n",
       "      <td>15.617521</td>\n",
       "      <td>0.000922</td>\n",
       "      <td>8.553419</td>\n",
       "    </tr>\n",
       "    <tr>\n",
       "      <th>6</th>\n",
       "      <td>6</td>\n",
       "      <td>231</td>\n",
       "      <td>4.055478</td>\n",
       "      <td>69.817273</td>\n",
       "      <td>239.432900</td>\n",
       "      <td>2.229437</td>\n",
       "      <td>0.000000</td>\n",
       "      <td>0.194805</td>\n",
       "    </tr>\n",
       "  </tbody>\n",
       "</table>\n",
       "</div>"
      ],
      "text/plain": [
       "   cluster  customer_id  perc_customer  gross_revenue  recency_days  \\\n",
       "7        7          603      10.586376    7478.563682     67.273632   \n",
       "2        2         1086      19.066011    2134.696676     79.522099   \n",
       "5        5          469       8.233848    1575.488614     99.247335   \n",
       "0        0          598      10.498596    1173.620184    141.438127   \n",
       "3        3          781      13.711376    1169.325762     72.358515   \n",
       "4        4          992      17.415730     557.475343    133.382056   \n",
       "1        1          936      16.432584     379.110395    175.057692   \n",
       "6        6          231       4.055478      69.817273    239.432900   \n",
       "\n",
       "   qtde_products  frequency  qtde_returns  \n",
       "7     248.084577   0.034905    249.762852  \n",
       "2     127.546961   0.030259      3.971455  \n",
       "5      31.921109   0.149924     15.358209  \n",
       "0      36.742475   0.002919      2.035117  \n",
       "3      36.398207   0.053303      2.974392  \n",
       "4      28.430444   0.003085      4.396169  \n",
       "1      15.617521   0.000922      8.553419  \n",
       "6       2.229437   0.000000      0.194805  "
      ]
     },
     "execution_count": 56,
     "metadata": {},
     "output_type": "execute_result"
    }
   ],
   "source": [
    "df_cluster.sort_values( 'gross_revenue', ascending=False )"
   ]
  },
  {
   "cell_type": "markdown",
   "id": "f7614cc4",
   "metadata": {},
   "source": [
    "# <font color= 'red'> 11.0 Deploy to production"
   ]
  },
  {
   "cell_type": "markdown",
   "id": "e6e534a1",
   "metadata": {},
   "source": [
    "## 11.1 Insert to Sqlite"
   ]
  },
  {
   "cell_type": "code",
   "execution_count": 61,
   "id": "97086bb5",
   "metadata": {
    "ExecuteTime": {
     "end_time": "2022-11-14T20:36:09.819294Z",
     "start_time": "2022-11-14T20:36:09.577891Z"
    }
   },
   "outputs": [],
   "source": [
    "import sqlite3\n",
    "from sqlalchemy import create_engine"
   ]
  },
  {
   "cell_type": "code",
   "execution_count": 64,
   "id": "f6a541a5",
   "metadata": {
    "ExecuteTime": {
     "end_time": "2022-11-14T20:38:42.598131Z",
     "start_time": "2022-11-14T20:38:42.536735Z"
    }
   },
   "outputs": [
    {
     "data": {
      "text/plain": [
       "5696"
      ]
     },
     "execution_count": 64,
     "metadata": {},
     "output_type": "execute_result"
    }
   ],
   "source": [
    " # CREATE TABLE\n",
    "query_create_table_insiders = \"\"\"\n",
    "     CREATE TABLE insiders(\n",
    "        customer_id    ITERGER,\n",
    "        gross_revenue  REAL,\n",
    "        recency_days   INTERGER,\n",
    "        qtde_products  INTERGER,\n",
    "        frequency      REAL,\n",
    "        qtde_returns   INTERGER,\n",
    "        cluster       INTERGER\n",
    "        \n",
    "     )\n",
    "\"\"\"\n",
    "\n",
    "conn = sqlite3.connect( 'insiders_db.sqlite' )\n",
    "conn.execute( query_create_table_insiders )\n",
    "conn.commit()\n",
    "conn.close()\n",
    "\n",
    "# insert data\n",
    "conn = create_engine( 'sqlite:///insiders_db.sqlite' )\n",
    "df92.to_sql('insiders', con=conn, if_exists='append', index=False )\n",
    "\n",
    "\n",
    "# select data"
   ]
  },
  {
   "cell_type": "code",
   "execution_count": 65,
   "id": "e4511778",
   "metadata": {
    "ExecuteTime": {
     "end_time": "2022-11-14T20:38:50.871792Z",
     "start_time": "2022-11-14T20:38:50.843292Z"
    }
   },
   "outputs": [],
   "source": [
    "# Consulting data base\n",
    "query = \"\"\"\n",
    "\n",
    "    SELECT * FROM insiders\n",
    "    \n",
    "\"\"\"\n",
    "\n",
    "df =pd.read_sql_query( query, conn)"
   ]
  },
  {
   "cell_type": "code",
   "execution_count": 66,
   "id": "6859bdd9",
   "metadata": {
    "ExecuteTime": {
     "end_time": "2022-11-14T20:38:53.676046Z",
     "start_time": "2022-11-14T20:38:53.665943Z"
    }
   },
   "outputs": [
    {
     "data": {
      "text/html": [
       "<div>\n",
       "<style scoped>\n",
       "    .dataframe tbody tr th:only-of-type {\n",
       "        vertical-align: middle;\n",
       "    }\n",
       "\n",
       "    .dataframe tbody tr th {\n",
       "        vertical-align: top;\n",
       "    }\n",
       "\n",
       "    .dataframe thead th {\n",
       "        text-align: right;\n",
       "    }\n",
       "</style>\n",
       "<table border=\"1\" class=\"dataframe\">\n",
       "  <thead>\n",
       "    <tr style=\"text-align: right;\">\n",
       "      <th></th>\n",
       "      <th>customer_id</th>\n",
       "      <th>gross_revenue</th>\n",
       "      <th>recency_days</th>\n",
       "      <th>qtde_products</th>\n",
       "      <th>frequency</th>\n",
       "      <th>qtde_returns</th>\n",
       "      <th>cluster</th>\n",
       "    </tr>\n",
       "  </thead>\n",
       "  <tbody>\n",
       "    <tr>\n",
       "      <th>0</th>\n",
       "      <td>17850</td>\n",
       "      <td>5391.21</td>\n",
       "      <td>372</td>\n",
       "      <td>21</td>\n",
       "      <td>34.000000</td>\n",
       "      <td>40</td>\n",
       "      <td>5</td>\n",
       "    </tr>\n",
       "    <tr>\n",
       "      <th>1</th>\n",
       "      <td>13047</td>\n",
       "      <td>3232.59</td>\n",
       "      <td>56</td>\n",
       "      <td>105</td>\n",
       "      <td>0.028391</td>\n",
       "      <td>35</td>\n",
       "      <td>7</td>\n",
       "    </tr>\n",
       "    <tr>\n",
       "      <th>2</th>\n",
       "      <td>12583</td>\n",
       "      <td>6705.38</td>\n",
       "      <td>2</td>\n",
       "      <td>114</td>\n",
       "      <td>0.040431</td>\n",
       "      <td>50</td>\n",
       "      <td>7</td>\n",
       "    </tr>\n",
       "    <tr>\n",
       "      <th>3</th>\n",
       "      <td>13748</td>\n",
       "      <td>948.25</td>\n",
       "      <td>95</td>\n",
       "      <td>24</td>\n",
       "      <td>0.017986</td>\n",
       "      <td>0</td>\n",
       "      <td>3</td>\n",
       "    </tr>\n",
       "    <tr>\n",
       "      <th>4</th>\n",
       "      <td>15100</td>\n",
       "      <td>876.00</td>\n",
       "      <td>333</td>\n",
       "      <td>1</td>\n",
       "      <td>0.075000</td>\n",
       "      <td>22</td>\n",
       "      <td>3</td>\n",
       "    </tr>\n",
       "  </tbody>\n",
       "</table>\n",
       "</div>"
      ],
      "text/plain": [
       "   customer_id  gross_revenue  recency_days  qtde_products  frequency  \\\n",
       "0        17850        5391.21           372             21  34.000000   \n",
       "1        13047        3232.59            56            105   0.028391   \n",
       "2        12583        6705.38             2            114   0.040431   \n",
       "3        13748         948.25            95             24   0.017986   \n",
       "4        15100         876.00           333              1   0.075000   \n",
       "\n",
       "   qtde_returns  cluster  \n",
       "0            40        5  \n",
       "1            35        7  \n",
       "2            50        7  \n",
       "3             0        3  \n",
       "4            22        3  "
      ]
     },
     "execution_count": 66,
     "metadata": {},
     "output_type": "execute_result"
    }
   ],
   "source": [
    "df.head()"
   ]
  },
  {
   "cell_type": "code",
   "execution_count": null,
   "id": "e9a706b8",
   "metadata": {},
   "outputs": [],
   "source": []
  }
 ],
 "metadata": {
  "kernelspec": {
   "display_name": "Python 3 (ipykernel)",
   "language": "python",
   "name": "python3"
  },
  "language_info": {
   "codemirror_mode": {
    "name": "ipython",
    "version": 3
   },
   "file_extension": ".py",
   "mimetype": "text/x-python",
   "name": "python",
   "nbconvert_exporter": "python",
   "pygments_lexer": "ipython3",
   "version": "3.9.12"
  }
 },
 "nbformat": 4,
 "nbformat_minor": 5
}
