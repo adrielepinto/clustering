{
 "cells": [
  {
   "cell_type": "markdown",
   "id": "94c14212",
   "metadata": {},
   "source": [
    "# <font color= 'red'> PA005 - High Value Customer Identification"
   ]
  },
  {
   "cell_type": "markdown",
   "id": "635c3f0e",
   "metadata": {
    "ExecuteTime": {
     "end_time": "2022-07-23T14:41:36.960788Z",
     "start_time": "2022-07-23T14:41:36.940500Z"
    },
    "heading_collapsed": true
   },
   "source": [
    "## Imput"
   ]
  },
  {
   "cell_type": "markdown",
   "id": "85a09924",
   "metadata": {},
   "source": [
    "## Business Challenge"
   ]
  },
  {
   "cell_type": "markdown",
   "id": "c59ae4c8",
   "metadata": {},
   "source": [
    "- Select the most valuable customers to build the loyalty program called 'Insiders'.\n",
    "- Data set with more product sales during the year. ( Nov/2015 - Dec/2017 )"
   ]
  },
  {
   "cell_type": "markdown",
   "id": "7b08ce8e",
   "metadata": {},
   "source": [
    "## Output"
   ]
  },
  {
   "cell_type": "markdown",
   "id": "7d5788e6",
   "metadata": {},
   "source": [
    "1. Indication of people to be part of the program.\n",
    "2. A report with the answers to following question:\n",
    "    - Who are the eligible people for the Insiders Program?\n",
    "    - How many people will be in the group?\n",
    "    - Which are the main characteristics of these customers?\n",
    "    - What is the percentage revenue contribution coming from Insiders?\n",
    "    - What is the revenue expectation for the next few months?\n",
    "    - Which are the conditions for the people to be eligible from the program?\n",
    "    - Which are the conditions for the people to be removed from the program?\n",
    "    - What is the guarantee that the Insiders Problem is better than the rest of the base?\n",
    "    - What are the action the marketing time can do to enhance the revenue?"
   ]
  },
  {
   "cell_type": "markdown",
   "id": "7db7431d",
   "metadata": {
    "ExecuteTime": {
     "end_time": "2022-07-21T15:23:08.648861Z",
     "start_time": "2022-07-21T15:23:08.639656Z"
    }
   },
   "source": [
    "## Task - Process"
   ]
  },
  {
   "cell_type": "markdown",
   "id": "040f7420",
   "metadata": {},
   "source": [
    "1. Who are the eligible people for the Insiders Program?\n",
    "    - What is be eligible? What are high value customers?\n",
    "    - Income:\n",
    "        - High averange ticket;\n",
    "        - High LTV;\n",
    "        - Low recently;\n",
    "        - High basket size;\n",
    "        - Low Churn probability;\n",
    "        - High LTV probability;\n",
    "        - High buy propensity;\n",
    "        \n",
    "        \n",
    "   - Cost:  \n",
    "        - Low return rate;\n",
    "    \n",
    "    \n",
    "   - Buyer Experience:\n",
    "        - High averange rate;\n",
    "2. How many people will be in the group?\n",
    "    - Total customers number;\n",
    "    - % Insider Group;\n",
    "    \n",
    "    \n",
    "3. Which are the main characteristics of these customers?\n",
    "    - Customer characteristics:\n",
    "        - Age;\n",
    "        - Location;\n",
    "        \n",
    "    -  Consumption characteristics:\n",
    "        - Clustering Attributtes;\n",
    "        \n",
    "4. What is the percentage revenue contribution coming from Insiders?\n",
    "    - Total revenue of the year;\n",
    "    - Renenue of the Insiders group;\n",
    "        \n",
    "        \n",
    "5. What is the revenue expectation for the next few months? \n",
    "    - LTV of the Insider Group;\n",
    "    - Cohort Analysis;\n",
    "    \n",
    "    \n",
    "6. Which are the conditions for the people to be eligible from the program?\n",
    "    - Define the periodicity ( 1 month, 3 months);\n",
    "    - The people needs to be similary or seemed to other people in the group?\n",
    "    \n",
    "    \n",
    "7. Which are the conditions for the people to be removed from the program?\n",
    "    - Define the periodicity ( 1 month, 3 months);\n",
    "    - The people needs to be similary or seemed to other people in the group?\n",
    "    \n",
    "    \n",
    "8. What is the guarantee that the Insiders Problem is better than the rest of the base?\n",
    "    - A/B Test;\n",
    "    - Bayesian A/B Test;\n",
    "    - Hyphotesis Test;\n",
    "\n",
    "\n",
    "9. What are the action the marketing time can do to enhance the revenue?\n",
    "    - Discount;\n",
    "    - Purchase Preferences\n",
    "    - Front\n",
    "    - Company Visit;"
   ]
  },
  {
   "cell_type": "markdown",
   "id": "3b2951db",
   "metadata": {},
   "source": [
    "# 0.1 Import"
   ]
  },
  {
   "cell_type": "code",
   "execution_count": 73,
   "id": "33747e7d",
   "metadata": {
    "ExecuteTime": {
     "end_time": "2022-08-14T23:27:01.905684Z",
     "start_time": "2022-08-14T23:27:01.898578Z"
    }
   },
   "outputs": [],
   "source": [
    "import  re\n",
    "import  inflection\n",
    "import  pandas      as pd\n",
    "import  seaborn     as sns\n",
    "import  numpy       as np\n",
    "import  umap.umap_  as umap\n",
    "\n",
    "import  matplotlib.pyplot  as plt\n",
    "\n",
    "\n",
    "from  sklearn  import  cluster       as c\n",
    "from  sklearn  import  metrics       as m\n",
    "from  sklearn  import  mixture       as mx\n",
    "from  plotly   import  express       as px\n",
    "from  sklearn  import  ensemble      as en\n",
    "from  sklearn  import  manifold      as mn\n",
    "from  sklearn  import  decomposition as dd\n",
    "from  sklearn  import  preprocessing as pp\n",
    "\n",
    "from  scipy.cluster import hierarchy as hc\n",
    "\n",
    "from IPython.display          import Image\n",
    "from  sklearn.neighbors       import NearestNeighbors\n",
    "\n"
   ]
  },
  {
   "cell_type": "markdown",
   "id": "2c420db5",
   "metadata": {
    "ExecuteTime": {
     "end_time": "2022-07-23T15:08:02.379470Z",
     "start_time": "2022-07-23T15:08:02.376696Z"
    }
   },
   "source": [
    "# <font color= 'red'> 1.0 Data Description"
   ]
  },
  {
   "cell_type": "markdown",
   "id": "8bc1b2e2",
   "metadata": {},
   "source": [
    "## 1.1 Loading Dataset"
   ]
  },
  {
   "cell_type": "code",
   "execution_count": 3,
   "id": "9d100d73",
   "metadata": {
    "ExecuteTime": {
     "end_time": "2022-08-14T23:01:21.553239Z",
     "start_time": "2022-08-14T23:01:20.672957Z"
    }
   },
   "outputs": [],
   "source": [
    "df_raw = pd.read_csv( '/Users/adriele/Documents/repos/pa005/data/ecommerce.csv', encoding='cp1252' )\n",
    "\n",
    "# dropping extra column\n",
    "df_raw = df_raw.drop( columns= ['Unnamed: 8'], axis=1 )"
   ]
  },
  {
   "cell_type": "markdown",
   "id": "71794023",
   "metadata": {
    "ExecuteTime": {
     "end_time": "2022-07-25T14:16:16.638986Z",
     "start_time": "2022-07-25T14:16:16.607982Z"
    }
   },
   "source": [
    "## 1.2 Rename Columns"
   ]
  },
  {
   "cell_type": "code",
   "execution_count": 4,
   "id": "15f23e16",
   "metadata": {
    "ExecuteTime": {
     "end_time": "2022-08-14T23:01:22.509121Z",
     "start_time": "2022-08-14T23:01:22.480286Z"
    },
    "code_folding": []
   },
   "outputs": [],
   "source": [
    "df1 = df_raw.copy()\n",
    "\n",
    "# Renaming Cols\n",
    "cols_old = [ 'InvoiceNo', 'StockCode', 'Description', 'Quantity', 'InvoiceDate', 'UnitPrice', 'CustomerID', 'Country']\n",
    "\n",
    "snakecase = lambda x: inflection.underscore (x)\n",
    "\n",
    "cols_new = list (map (snakecase , cols_old))\n",
    "\n",
    "# rename\n",
    "df1.columns = cols_new"
   ]
  },
  {
   "cell_type": "markdown",
   "id": "001a04de",
   "metadata": {
    "ExecuteTime": {
     "end_time": "2022-07-25T14:23:03.508383Z",
     "start_time": "2022-07-25T14:23:03.496451Z"
    }
   },
   "source": [
    "## 1.3 Data Dimensions"
   ]
  },
  {
   "cell_type": "code",
   "execution_count": 5,
   "id": "1a92a58e",
   "metadata": {
    "ExecuteTime": {
     "end_time": "2022-08-14T23:01:24.823234Z",
     "start_time": "2022-08-14T23:01:24.798418Z"
    }
   },
   "outputs": [
    {
     "name": "stdout",
     "output_type": "stream",
     "text": [
      "Number of Cols 8\n",
      "Number of Rows 541909\n"
     ]
    }
   ],
   "source": [
    "print( 'Number of Cols {}'.format( df1.shape[1] ) )\n",
    "print( 'Number of Rows {}'.format( df1.shape[0] ) )"
   ]
  },
  {
   "cell_type": "markdown",
   "id": "2a1e934c",
   "metadata": {},
   "source": [
    "## 1.4 Check NA"
   ]
  },
  {
   "cell_type": "code",
   "execution_count": 6,
   "id": "1876ceb4",
   "metadata": {
    "ExecuteTime": {
     "end_time": "2022-08-14T23:02:03.972464Z",
     "start_time": "2022-08-14T23:02:03.410422Z"
    }
   },
   "outputs": [
    {
     "data": {
      "text/plain": [
       "invoice_no           0\n",
       "stock_code           0\n",
       "description       1454\n",
       "quantity             0\n",
       "invoice_date         0\n",
       "unit_price           0\n",
       "customer_id     135080\n",
       "country              0\n",
       "dtype: int64"
      ]
     },
     "execution_count": 6,
     "metadata": {},
     "output_type": "execute_result"
    }
   ],
   "source": [
    "df1.isna().sum()"
   ]
  },
  {
   "cell_type": "markdown",
   "id": "feaa0bc7",
   "metadata": {
    "ExecuteTime": {
     "end_time": "2022-07-25T14:51:35.859244Z",
     "start_time": "2022-07-25T14:51:35.856371Z"
    }
   },
   "source": [
    "## 1.5 Replace NA"
   ]
  },
  {
   "cell_type": "code",
   "execution_count": 7,
   "id": "12dabdd4",
   "metadata": {
    "ExecuteTime": {
     "end_time": "2022-08-14T23:02:04.590986Z",
     "start_time": "2022-08-14T23:02:03.981396Z"
    }
   },
   "outputs": [
    {
     "name": "stdout",
     "output_type": "stream",
     "text": [
      "Removed Data: 0.00%\n"
     ]
    }
   ],
   "source": [
    "df_missing = df1.loc[ df1[ 'customer_id' ].isna(), :]\n",
    "df_not_missing = df1.loc[ ~df1['customer_id' ].isna(), :]\n",
    "\n",
    "\n",
    "# Create reference\n",
    "df_backup = pd.DataFrame( df_missing['invoice_no'].drop_duplicates() )\n",
    "df_backup[ 'customer_id' ] = np.arange( 19000, 19000+len( df_backup ), 1)\n",
    "\n",
    "# Merge original with reference df\n",
    "df1 = pd.merge( df1, df_backup, on='invoice_no', how='left' )\n",
    "\n",
    "# Coalesce\n",
    "df1['customer_id'] = df1['customer_id_x'].combine_first( df1['customer_id_y'])\n",
    "\n",
    "# drop extra column\n",
    "df1 = df1.drop( columns=['customer_id_x', 'customer_id_y'], axis=1 )\n",
    "\n",
    "\n",
    "# removing Na\n",
    "df1 = df1.dropna( subset=[ 'description', 'customer_id'] )\n",
    "print( 'Removed Data: {:.2f}%'.format( 1-( df1.shape[0] / df_raw.shape[0] ) ) )"
   ]
  },
  {
   "cell_type": "code",
   "execution_count": 8,
   "id": "9db28adf",
   "metadata": {
    "ExecuteTime": {
     "end_time": "2022-08-14T23:02:04.982294Z",
     "start_time": "2022-08-14T23:02:04.594304Z"
    }
   },
   "outputs": [
    {
     "data": {
      "text/plain": [
       "invoice_no      0\n",
       "stock_code      0\n",
       "description     0\n",
       "quantity        0\n",
       "invoice_date    0\n",
       "unit_price      0\n",
       "country         0\n",
       "customer_id     0\n",
       "dtype: int64"
      ]
     },
     "execution_count": 8,
     "metadata": {},
     "output_type": "execute_result"
    }
   ],
   "source": [
    "df1.isna().sum()"
   ]
  },
  {
   "cell_type": "markdown",
   "id": "513ab5fe",
   "metadata": {},
   "source": [
    "## 1.6 Data Types"
   ]
  },
  {
   "cell_type": "code",
   "execution_count": 9,
   "id": "bc1a5d09",
   "metadata": {
    "ExecuteTime": {
     "end_time": "2022-08-14T23:02:05.085284Z",
     "start_time": "2022-08-14T23:02:04.985504Z"
    }
   },
   "outputs": [],
   "source": [
    "# Invoice Date\n",
    "df1['invoice_date'] = pd.to_datetime( df1['invoice_date'], format='%d-%b-%y')\n",
    "\n",
    "# Customer Id\n",
    "df1['customer_id'] = df1['customer_id'].astype( int)"
   ]
  },
  {
   "cell_type": "code",
   "execution_count": 10,
   "id": "f9a5ee78",
   "metadata": {
    "ExecuteTime": {
     "end_time": "2022-08-14T23:02:07.713433Z",
     "start_time": "2022-08-14T23:02:07.707913Z"
    }
   },
   "outputs": [
    {
     "data": {
      "text/plain": [
       "invoice_no              object\n",
       "stock_code              object\n",
       "description             object\n",
       "quantity                 int64\n",
       "invoice_date    datetime64[ns]\n",
       "unit_price             float64\n",
       "country                 object\n",
       "customer_id              int64\n",
       "dtype: object"
      ]
     },
     "execution_count": 10,
     "metadata": {},
     "output_type": "execute_result"
    }
   ],
   "source": [
    "df1.dtypes"
   ]
  },
  {
   "cell_type": "markdown",
   "id": "cc8f7658",
   "metadata": {},
   "source": [
    "## 1.7 Descriptive Startistcs"
   ]
  },
  {
   "cell_type": "code",
   "execution_count": 11,
   "id": "ce966a51",
   "metadata": {
    "ExecuteTime": {
     "end_time": "2022-08-14T23:02:09.607174Z",
     "start_time": "2022-08-14T23:02:09.602641Z"
    }
   },
   "outputs": [],
   "source": [
    "num_attributes = df1.select_dtypes( include=['int64', 'float64'] )\n",
    "cat_attributes = df1.select_dtypes( exclude=[ 'int64', 'float64', 'datetime64[ns]'] )"
   ]
  },
  {
   "cell_type": "markdown",
   "id": "1f8b8606",
   "metadata": {},
   "source": [
    "### 1.7.1 Numerical Attributes\n",
    "\n",
    "- Negative quantity can be returns;\n",
    "- Unitary price equal 0 can be promotions;"
   ]
  },
  {
   "cell_type": "code",
   "execution_count": 12,
   "id": "e659edac",
   "metadata": {
    "ExecuteTime": {
     "end_time": "2022-08-14T23:02:11.128430Z",
     "start_time": "2022-08-14T23:02:10.716035Z"
    }
   },
   "outputs": [
    {
     "data": {
      "text/html": [
       "<div>\n",
       "<style scoped>\n",
       "    .dataframe tbody tr th:only-of-type {\n",
       "        vertical-align: middle;\n",
       "    }\n",
       "\n",
       "    .dataframe tbody tr th {\n",
       "        vertical-align: top;\n",
       "    }\n",
       "\n",
       "    .dataframe thead th {\n",
       "        text-align: right;\n",
       "    }\n",
       "</style>\n",
       "<table border=\"1\" class=\"dataframe\">\n",
       "  <thead>\n",
       "    <tr style=\"text-align: right;\">\n",
       "      <th></th>\n",
       "      <th>attributes</th>\n",
       "      <th>min</th>\n",
       "      <th>max</th>\n",
       "      <th>range</th>\n",
       "      <th>mean</th>\n",
       "      <th>median</th>\n",
       "      <th>std</th>\n",
       "      <th>skew</th>\n",
       "      <th>kurtosis</th>\n",
       "    </tr>\n",
       "  </thead>\n",
       "  <tbody>\n",
       "    <tr>\n",
       "      <th>0</th>\n",
       "      <td>quantity</td>\n",
       "      <td>-80995.00</td>\n",
       "      <td>80995.0</td>\n",
       "      <td>161990.00</td>\n",
       "      <td>9.603129</td>\n",
       "      <td>3.00</td>\n",
       "      <td>218.007397</td>\n",
       "      <td>-0.281253</td>\n",
       "      <td>120252.449063</td>\n",
       "    </tr>\n",
       "    <tr>\n",
       "      <th>1</th>\n",
       "      <td>unit_price</td>\n",
       "      <td>-11062.06</td>\n",
       "      <td>38970.0</td>\n",
       "      <td>50032.06</td>\n",
       "      <td>4.623519</td>\n",
       "      <td>2.08</td>\n",
       "      <td>96.889538</td>\n",
       "      <td>186.257919</td>\n",
       "      <td>58848.017575</td>\n",
       "    </tr>\n",
       "    <tr>\n",
       "      <th>2</th>\n",
       "      <td>customer_id</td>\n",
       "      <td>12346.00</td>\n",
       "      <td>22709.0</td>\n",
       "      <td>10363.00</td>\n",
       "      <td>16678.153600</td>\n",
       "      <td>16241.00</td>\n",
       "      <td>2907.570262</td>\n",
       "      <td>0.493600</td>\n",
       "      <td>-0.792496</td>\n",
       "    </tr>\n",
       "  </tbody>\n",
       "</table>\n",
       "</div>"
      ],
      "text/plain": [
       "    attributes       min      max      range          mean    median  \\\n",
       "0     quantity -80995.00  80995.0  161990.00      9.603129      3.00   \n",
       "1   unit_price -11062.06  38970.0   50032.06      4.623519      2.08   \n",
       "2  customer_id  12346.00  22709.0   10363.00  16678.153600  16241.00   \n",
       "\n",
       "           std        skew       kurtosis  \n",
       "0   218.007397   -0.281253  120252.449063  \n",
       "1    96.889538  186.257919   58848.017575  \n",
       "2  2907.570262    0.493600      -0.792496  "
      ]
     },
     "execution_count": 12,
     "metadata": {},
     "output_type": "execute_result"
    }
   ],
   "source": [
    "# Central Tendency - mean, Median\n",
    "ct1 = pd.DataFrame (num_attributes.apply (np.mean) ).T\n",
    "ct2 = pd.DataFrame (num_attributes.apply (np.median) ).T\n",
    "\n",
    "# Dispersion - std, min, max, range, skew, kurtosis\n",
    "d1 = pd.DataFrame (num_attributes.apply (np.std) ).T\n",
    "d2 = pd.DataFrame (num_attributes.apply (min)).T\n",
    "d3 = pd.DataFrame (num_attributes.apply (max)).T\n",
    "d4 = pd.DataFrame (num_attributes.apply (lambda x: x.max () -x.min ()) ).T\n",
    "d5 = pd.DataFrame (num_attributes.apply (lambda x: x.skew () ) ).T\n",
    "d6 = pd.DataFrame (num_attributes.apply (lambda x: x.kurtosis ()) ).T\n",
    "\n",
    "# Concatane\n",
    "m1 =pd.concat ([ d2, d3, d4, ct1, ct2, d1, d5, d6]).T.reset_index()\n",
    "m1.columns = ['attributes', 'min', 'max', 'range', 'mean', 'median', 'std', 'skew', 'kurtosis']\n",
    "m1"
   ]
  },
  {
   "cell_type": "markdown",
   "id": "ed66d026",
   "metadata": {
    "ExecuteTime": {
     "end_time": "2022-08-05T16:01:40.290864Z",
     "start_time": "2022-08-05T16:01:40.288157Z"
    }
   },
   "source": [
    "### 1.7.2 Attributes Category"
   ]
  },
  {
   "cell_type": "markdown",
   "id": "d459d1f5",
   "metadata": {},
   "source": [
    "#### Invoice No"
   ]
  },
  {
   "cell_type": "code",
   "execution_count": 13,
   "id": "b6d26bbc",
   "metadata": {
    "ExecuteTime": {
     "end_time": "2022-08-14T23:02:17.225913Z",
     "start_time": "2022-08-14T23:02:16.581696Z"
    }
   },
   "outputs": [
    {
     "name": "stdout",
     "output_type": "stream",
     "text": [
      "Total number of invoices: 9291\n",
      "Total number of negative invoices: 9288\n"
     ]
    }
   ],
   "source": [
    "# Invoice No\n",
    "df_letter_invoices = df1.loc[df1[ 'invoice_no' ].apply( lambda x: bool( re.search( '[^0-9]+', x ) ) ), :]\n",
    "\n",
    "print( 'Total number of invoices: {}'.format( len( df_letter_invoices) ) )\n",
    "print( 'Total number of negative invoices: {}'.format( len( df_letter_invoices[ df_letter_invoices[ 'quantity' ] < 0] ) ) )"
   ]
  },
  {
   "cell_type": "markdown",
   "id": "d0aa1900",
   "metadata": {},
   "source": [
    "#### Stock Code"
   ]
  },
  {
   "cell_type": "code",
   "execution_count": 14,
   "id": "92b3addb",
   "metadata": {
    "ExecuteTime": {
     "end_time": "2022-08-14T23:02:18.541130Z",
     "start_time": "2022-08-14T23:02:17.924234Z"
    }
   },
   "outputs": [
    {
     "data": {
      "text/plain": [
       "array(['POST', 'D', 'DOT', 'M', 'S', 'AMAZONFEE', 'm', 'DCGSSBOY',\n",
       "       'DCGSSGIRL', 'PADS', 'B', 'CRUK'], dtype=object)"
      ]
     },
     "execution_count": 14,
     "metadata": {},
     "output_type": "execute_result"
    }
   ],
   "source": [
    "# Stock code - check characters\n",
    "df1.loc[df1[ 'stock_code' ].apply( lambda x: bool( re.search( '^[a-zA-Z]+$', x ) ) ), 'stock_code'].unique()\n",
    "\n"
   ]
  },
  {
   "cell_type": "markdown",
   "id": "4e0ff6d4",
   "metadata": {},
   "source": [
    "#### Country"
   ]
  },
  {
   "cell_type": "code",
   "execution_count": 15,
   "id": "a70a6270",
   "metadata": {
    "ExecuteTime": {
     "end_time": "2022-08-14T23:02:27.618904Z",
     "start_time": "2022-08-14T23:02:27.581088Z"
    }
   },
   "outputs": [
    {
     "data": {
      "text/plain": [
       "United Kingdom    0.914089\n",
       "Germany           0.017569\n",
       "France            0.015833\n",
       "EIRE              0.015165\n",
       "Spain             0.004687\n",
       "Name: country, dtype: float64"
      ]
     },
     "execution_count": 15,
     "metadata": {},
     "output_type": "execute_result"
    }
   ],
   "source": [
    "df1['country'].value_counts( normalize=True ).head()"
   ]
  },
  {
   "cell_type": "code",
   "execution_count": 16,
   "id": "c74beaf3",
   "metadata": {
    "ExecuteTime": {
     "end_time": "2022-08-14T23:02:28.364243Z",
     "start_time": "2022-08-14T23:02:28.286372Z"
    }
   },
   "outputs": [
    {
     "data": {
      "text/html": [
       "<div>\n",
       "<style scoped>\n",
       "    .dataframe tbody tr th:only-of-type {\n",
       "        vertical-align: middle;\n",
       "    }\n",
       "\n",
       "    .dataframe tbody tr th {\n",
       "        vertical-align: top;\n",
       "    }\n",
       "\n",
       "    .dataframe thead th {\n",
       "        text-align: right;\n",
       "    }\n",
       "</style>\n",
       "<table border=\"1\" class=\"dataframe\">\n",
       "  <thead>\n",
       "    <tr style=\"text-align: right;\">\n",
       "      <th></th>\n",
       "      <th>country</th>\n",
       "      <th>customer_id</th>\n",
       "    </tr>\n",
       "  </thead>\n",
       "  <tbody>\n",
       "    <tr>\n",
       "      <th>36</th>\n",
       "      <td>United Kingdom</td>\n",
       "      <td>6133</td>\n",
       "    </tr>\n",
       "    <tr>\n",
       "      <th>14</th>\n",
       "      <td>Germany</td>\n",
       "      <td>95</td>\n",
       "    </tr>\n",
       "    <tr>\n",
       "      <th>13</th>\n",
       "      <td>France</td>\n",
       "      <td>90</td>\n",
       "    </tr>\n",
       "    <tr>\n",
       "      <th>10</th>\n",
       "      <td>EIRE</td>\n",
       "      <td>44</td>\n",
       "    </tr>\n",
       "    <tr>\n",
       "      <th>31</th>\n",
       "      <td>Spain</td>\n",
       "      <td>31</td>\n",
       "    </tr>\n",
       "  </tbody>\n",
       "</table>\n",
       "</div>"
      ],
      "text/plain": [
       "           country  customer_id\n",
       "36  United Kingdom         6133\n",
       "14         Germany           95\n",
       "13          France           90\n",
       "10            EIRE           44\n",
       "31           Spain           31"
      ]
     },
     "execution_count": 16,
     "metadata": {},
     "output_type": "execute_result"
    }
   ],
   "source": [
    "c = df1[['customer_id', 'country']].drop_duplicates().groupby( 'country' ).count(\n",
    ").reset_index().sort_values( 'customer_id', ascending=False )\n",
    "\n",
    "c.head()"
   ]
  },
  {
   "cell_type": "markdown",
   "id": "46050581",
   "metadata": {
    "ExecuteTime": {
     "end_time": "2022-07-23T15:08:02.379470Z",
     "start_time": "2022-07-23T15:08:02.376696Z"
    }
   },
   "source": [
    "# <font color= 'red'> 2.0 Feature Filtering"
   ]
  },
  {
   "cell_type": "code",
   "execution_count": 18,
   "id": "57553885",
   "metadata": {
    "ExecuteTime": {
     "end_time": "2022-08-14T23:02:47.546739Z",
     "start_time": "2022-08-14T23:02:47.239412Z"
    }
   },
   "outputs": [],
   "source": [
    "df2 = df1.copy()\n",
    "\n",
    "# Numerical Attributes\n",
    "df2 = df2.loc[df2['unit_price'] >= 0.04, :]\n",
    "\n",
    "# Categorical Attributes\n",
    "df2 = df2[~df2['stock_code'].isin( ['POST', 'D', 'DOT', 'M', 'S', 'AMAZONFEE', 'm', 'DCGSSBOY',\n",
    "       'DCGSSGIRL', 'PADS', 'B', 'CRUK'] ) ]\n",
    "\n",
    "#Descrption\n",
    "df2 = df2.drop( columns='description', axis=1 )\n",
    "\n",
    "# Description\n",
    "df2= df2[~df2['country'].isin( ['European Comunity', 'Unspecified'] ) ]\n",
    "\n",
    "# Bad Users\n",
    "df2 = df2[~df2['customer_id'].isin( [16446] )]\n",
    "# Quantity\n",
    "df2_returns = df2.loc[ df1[ 'quantity' ] <0, : ]\n",
    "df2_purchases = df2.loc[ df1[ 'quantity' ] >=0, : ]"
   ]
  },
  {
   "cell_type": "markdown",
   "id": "cc9df7ee",
   "metadata": {
    "ExecuteTime": {
     "end_time": "2022-07-23T15:08:02.379470Z",
     "start_time": "2022-07-23T15:08:02.376696Z"
    }
   },
   "source": [
    "# <font color= 'red'> 3.0 Feature Engineering"
   ]
  },
  {
   "cell_type": "code",
   "execution_count": 45,
   "id": "e8213689",
   "metadata": {
    "ExecuteTime": {
     "end_time": "2022-08-14T23:14:29.125019Z",
     "start_time": "2022-08-14T23:14:29.097712Z"
    }
   },
   "outputs": [],
   "source": [
    "df3 = df2.copy()"
   ]
  },
  {
   "cell_type": "markdown",
   "id": "9c6c2712",
   "metadata": {},
   "source": [
    "## 3.1 Feature Creation"
   ]
  },
  {
   "cell_type": "code",
   "execution_count": 46,
   "id": "7d3ff0eb",
   "metadata": {
    "ExecuteTime": {
     "end_time": "2022-08-14T23:14:29.632879Z",
     "start_time": "2022-08-14T23:14:29.611119Z"
    }
   },
   "outputs": [],
   "source": [
    "# Data reference\n",
    "df_ref = df3.drop(['invoice_no', 'stock_code','quantity', \n",
    "          'invoice_date', 'unit_price', 'country'], axis=1).drop_duplicates( ignore_index=True )"
   ]
  },
  {
   "cell_type": "markdown",
   "id": "5337179b",
   "metadata": {
    "ExecuteTime": {
     "end_time": "2022-08-07T15:13:47.887971Z",
     "start_time": "2022-08-07T15:13:47.885282Z"
    }
   },
   "source": [
    "### 3.1.1 Gross Revenue"
   ]
  },
  {
   "cell_type": "code",
   "execution_count": 47,
   "id": "e364ffad",
   "metadata": {
    "ExecuteTime": {
     "end_time": "2022-08-14T23:14:30.598049Z",
     "start_time": "2022-08-14T23:14:30.561360Z"
    }
   },
   "outputs": [
    {
     "name": "stderr",
     "output_type": "stream",
     "text": [
      "/var/folders/pc/6sglrsq96ws5kp74fjj4j02h0000gn/T/ipykernel_92484/1692327438.py:2: SettingWithCopyWarning: \n",
      "A value is trying to be set on a copy of a slice from a DataFrame.\n",
      "Try using .loc[row_indexer,col_indexer] = value instead\n",
      "\n",
      "See the caveats in the documentation: https://pandas.pydata.org/pandas-docs/stable/user_guide/indexing.html#returning-a-view-versus-a-copy\n",
      "  df2_purchases.loc[:,'gross_revenue'] = df2_purchases.loc[:, 'quantity'] * df2_purchases.loc[:, 'unit_price']\n"
     ]
    },
    {
     "data": {
      "text/plain": [
       "customer_id       0\n",
       "gross_revenue    91\n",
       "dtype: int64"
      ]
     },
     "execution_count": 47,
     "metadata": {},
     "output_type": "execute_result"
    }
   ],
   "source": [
    "# Gross Revenue = quantity * price\n",
    "df2_purchases.loc[:,'gross_revenue'] = df2_purchases.loc[:, 'quantity'] * df2_purchases.loc[:, 'unit_price']\n",
    "\n",
    "# Monetary\n",
    "df_monetary = df2_purchases.loc[:, [ 'customer_id', 'gross_revenue' ]].groupby( 'customer_id' ).sum().reset_index()\n",
    "df_ref = pd.merge( df_ref, df_monetary, on='customer_id', how='left' )\n",
    "df_ref.isna().sum()"
   ]
  },
  {
   "cell_type": "markdown",
   "id": "0e8a0d91",
   "metadata": {
    "ExecuteTime": {
     "end_time": "2022-08-07T15:14:58.581758Z",
     "start_time": "2022-08-07T15:14:58.579077Z"
    }
   },
   "source": [
    "### 3.1.2 Recency - Last Day Purchase"
   ]
  },
  {
   "cell_type": "code",
   "execution_count": 48,
   "id": "a7a1624c",
   "metadata": {
    "ExecuteTime": {
     "end_time": "2022-08-14T23:14:32.982327Z",
     "start_time": "2022-08-14T23:14:32.941330Z"
    }
   },
   "outputs": [
    {
     "data": {
      "text/plain": [
       "customer_id       0\n",
       "gross_revenue    91\n",
       "recency_days     91\n",
       "dtype: int64"
      ]
     },
     "execution_count": 48,
     "metadata": {},
     "output_type": "execute_result"
    }
   ],
   "source": [
    "# Recency - Last day purchase\n",
    "\n",
    "df_recency = df2_purchases.loc[:, ['customer_id', 'invoice_date']].groupby( 'customer_id' ).max().reset_index()\n",
    "df_recency['recency_days'] = ( df2['invoice_date'].max() - df_recency['invoice_date'] ).dt.days\n",
    "df_recency = df_recency[['customer_id', 'recency_days']].copy()\n",
    "df_ref = pd.merge( df_ref, df_recency, on='customer_id', how='left' )\n",
    "df_ref.isna().sum()"
   ]
  },
  {
   "cell_type": "markdown",
   "id": "1ec11113",
   "metadata": {},
   "source": [
    "### 3.1.5 Quantity of Products Purchased"
   ]
  },
  {
   "cell_type": "code",
   "execution_count": 49,
   "id": "9c459758",
   "metadata": {
    "ExecuteTime": {
     "end_time": "2022-08-14T23:14:35.398675Z",
     "start_time": "2022-08-14T23:14:35.231545Z"
    }
   },
   "outputs": [
    {
     "data": {
      "text/plain": [
       "customer_id       0\n",
       "gross_revenue    91\n",
       "recency_days     91\n",
       "qtde_products    91\n",
       "dtype: int64"
      ]
     },
     "execution_count": 49,
     "metadata": {},
     "output_type": "execute_result"
    }
   ],
   "source": [
    "df_freq = (df2_purchases.loc[:, ['customer_id', 'stock_code']].drop_duplicates().groupby( 'customer_id').count\n",
    "           ().reset_index().rename( columns={ 'stock_code': 'qtde_products'} ) )\n",
    "\n",
    "df_ref = pd.merge( df_ref, df_freq, on='customer_id', how='left')\n",
    "df_ref.isna().sum()"
   ]
  },
  {
   "cell_type": "markdown",
   "id": "8b863335",
   "metadata": {},
   "source": [
    "### 3.1.8 Frequency Purchase"
   ]
  },
  {
   "cell_type": "code",
   "execution_count": 50,
   "id": "280a59d6",
   "metadata": {
    "ExecuteTime": {
     "end_time": "2022-08-14T23:14:37.432325Z",
     "start_time": "2022-08-14T23:14:37.429656Z"
    }
   },
   "outputs": [],
   "source": [
    "# df2_max = df2[['customer_id', 'invoice_date']].drop_duplicates().groupby( 'customer_id' ).max()\n",
    "# df2_min = df2[['customer_id', 'invoice_date']].drop_duplicates().groupby( 'customer_id' ).min()\n",
    "# df2_purchase = df2[['customer_id']].drop_duplicates().groupby( 'customer_id' ).count()\n"
   ]
  },
  {
   "cell_type": "code",
   "execution_count": 51,
   "id": "77a6f3e1",
   "metadata": {
    "ExecuteTime": {
     "end_time": "2022-08-14T23:14:40.066000Z",
     "start_time": "2022-08-14T23:14:38.737960Z"
    }
   },
   "outputs": [
    {
     "data": {
      "text/plain": [
       "customer_id       0\n",
       "gross_revenue    91\n",
       "recency_days     91\n",
       "qtde_products    91\n",
       "frequency        91\n",
       "dtype: int64"
      ]
     },
     "execution_count": 51,
     "metadata": {},
     "output_type": "execute_result"
    }
   ],
   "source": [
    "df_aux = ( df2_purchases[[ 'customer_id', 'invoice_date', 'invoice_no']].drop_duplicates()\n",
    "                                                              .groupby( 'customer_id' )\n",
    "                                                              .agg( max_ = ( 'invoice_date', 'max' ),\n",
    "                                                                    min_ = ( 'invoice_date', 'min' ),\n",
    "                                                                    days_ = ( 'invoice_date', lambda x: ( x.max()  - x.min() ).days ),\n",
    "                                                                    buy_ = ( 'invoice_no', 'count') ) ).reset_index()\n",
    "\n",
    "# Frequency\n",
    "df_aux['frequency'] = df_aux[[ 'buy_', 'days_' ]].apply( lambda x: x[ 'buy_' ] / x['days_'] if x['days_'] != 0 else 0, axis=1 )\n",
    "\n",
    "\n",
    "# Merge\n",
    "df_ref = pd.merge( df_ref, df_aux[[ 'customer_id', 'frequency' ]], on='customer_id', how='left')\n",
    "df_ref.isna().sum()"
   ]
  },
  {
   "cell_type": "markdown",
   "id": "ccbdfa40",
   "metadata": {},
   "source": [
    "### 3.1.9 Number of Returns"
   ]
  },
  {
   "cell_type": "code",
   "execution_count": 52,
   "id": "18c3d43d",
   "metadata": {
    "ExecuteTime": {
     "end_time": "2022-08-14T23:14:42.153090Z",
     "start_time": "2022-08-14T23:14:42.134591Z"
    }
   },
   "outputs": [
    {
     "data": {
      "text/plain": [
       "customer_id       0\n",
       "gross_revenue    91\n",
       "recency_days     91\n",
       "qtde_products    91\n",
       "frequency        91\n",
       "qtde_returns      0\n",
       "dtype: int64"
      ]
     },
     "execution_count": 52,
     "metadata": {},
     "output_type": "execute_result"
    }
   ],
   "source": [
    "df_returns = df2_returns[[ 'customer_id', 'quantity' ]].groupby( 'customer_id' ).sum(\n",
    "                     ).reset_index().rename( columns={ 'quantity': 'qtde_returns' } )\n",
    "\n",
    "df_returns[ 'qtde_returns' ] = df_returns[ 'qtde_returns' ] * -1\n",
    "\n",
    "df_ref = pd.merge( df_ref, df_returns, how='left', on='customer_id' )\n",
    "df_ref.loc[ df_ref[ 'qtde_returns' ].isna(), 'qtde_returns' ] = 0\n",
    "\n",
    "\n",
    "df_ref.isna().sum()"
   ]
  },
  {
   "cell_type": "code",
   "execution_count": 54,
   "id": "95ad052f",
   "metadata": {
    "ExecuteTime": {
     "end_time": "2022-08-14T23:14:55.089686Z",
     "start_time": "2022-08-14T23:14:55.084955Z"
    }
   },
   "outputs": [
    {
     "data": {
      "text/plain": [
       "(5787, 6)"
      ]
     },
     "execution_count": 54,
     "metadata": {},
     "output_type": "execute_result"
    }
   ],
   "source": [
    "df_ref.shape"
   ]
  },
  {
   "cell_type": "markdown",
   "id": "86692dd6",
   "metadata": {
    "ExecuteTime": {
     "end_time": "2022-07-23T15:08:02.379470Z",
     "start_time": "2022-07-23T15:08:02.376696Z"
    }
   },
   "source": [
    "# <font color= 'red'> 4.0 Exploratory Data Analysis"
   ]
  },
  {
   "cell_type": "code",
   "execution_count": 82,
   "id": "1a24d0ae",
   "metadata": {
    "ExecuteTime": {
     "end_time": "2022-08-15T01:28:15.876547Z",
     "start_time": "2022-08-15T01:28:15.862814Z"
    }
   },
   "outputs": [],
   "source": [
    "df4 = df_ref.dropna()\n",
    "# df4.isna().sum()"
   ]
  },
  {
   "cell_type": "code",
   "execution_count": 83,
   "id": "3ba938cc",
   "metadata": {
    "ExecuteTime": {
     "end_time": "2022-08-15T01:28:16.067429Z",
     "start_time": "2022-08-15T01:28:16.063086Z"
    }
   },
   "outputs": [
    {
     "data": {
      "text/plain": [
       "(5696, 6)"
      ]
     },
     "execution_count": 83,
     "metadata": {},
     "output_type": "execute_result"
    }
   ],
   "source": [
    "df4.shape"
   ]
  },
  {
   "cell_type": "markdown",
   "id": "5b62a298",
   "metadata": {},
   "source": [
    "## 4.3 Space Study"
   ]
  },
  {
   "cell_type": "code",
   "execution_count": 101,
   "id": "788f54c7",
   "metadata": {
    "ExecuteTime": {
     "end_time": "2022-08-15T01:49:34.949896Z",
     "start_time": "2022-08-15T01:49:34.910944Z"
    },
    "code_folding": []
   },
   "outputs": [],
   "source": [
    "# Select Dataset\n",
    "cols_selected = ['customer_id', 'gross_revenue', 'recency_days', 'qtde_products', 'frequency', 'qtde_returns' ]\n",
    "df43 = df4[ cols_selected ].drop( columns='customer_id', axis=1) \n",
    "\n",
    "\n",
    "mm = pp.MinMaxScaler()\n",
    "\n",
    "df43[ 'gross_revenue' ]    = mm.fit_transform( df43[[ 'gross_revenue' ]] )\n",
    "df43[ 'recency_days' ]     = mm.fit_transform( df43[[ 'recency_days' ]] )\n",
    "df43[ 'qtde_products' ]    = mm.fit_transform( df43[[ 'qtde_products' ]] )\n",
    "df43[ 'frequency' ]        = mm.fit_transform( df43[[ 'frequency' ]] )\n",
    "df43[ 'qtde_returns' ]     = mm.fit_transform( df43[[ 'qtde_returns' ]] )\n",
    "\n",
    "x = df43.copy()"
   ]
  },
  {
   "cell_type": "code",
   "execution_count": 102,
   "id": "7fa612b6",
   "metadata": {
    "ExecuteTime": {
     "end_time": "2022-08-15T01:49:35.678317Z",
     "start_time": "2022-08-15T01:49:35.668430Z"
    }
   },
   "outputs": [
    {
     "data": {
      "text/html": [
       "<div>\n",
       "<style scoped>\n",
       "    .dataframe tbody tr th:only-of-type {\n",
       "        vertical-align: middle;\n",
       "    }\n",
       "\n",
       "    .dataframe tbody tr th {\n",
       "        vertical-align: top;\n",
       "    }\n",
       "\n",
       "    .dataframe thead th {\n",
       "        text-align: right;\n",
       "    }\n",
       "</style>\n",
       "<table border=\"1\" class=\"dataframe\">\n",
       "  <thead>\n",
       "    <tr style=\"text-align: right;\">\n",
       "      <th></th>\n",
       "      <th>gross_revenue</th>\n",
       "      <th>recency_days</th>\n",
       "      <th>qtde_products</th>\n",
       "      <th>frequency</th>\n",
       "      <th>qtde_returns</th>\n",
       "    </tr>\n",
       "  </thead>\n",
       "  <tbody>\n",
       "    <tr>\n",
       "      <th>0</th>\n",
       "      <td>0.019312</td>\n",
       "      <td>0.997319</td>\n",
       "      <td>0.011204</td>\n",
       "      <td>1.000000</td>\n",
       "      <td>0.000539</td>\n",
       "    </tr>\n",
       "    <tr>\n",
       "      <th>1</th>\n",
       "      <td>0.011579</td>\n",
       "      <td>0.150134</td>\n",
       "      <td>0.058263</td>\n",
       "      <td>0.000835</td>\n",
       "      <td>0.000472</td>\n",
       "    </tr>\n",
       "    <tr>\n",
       "      <th>2</th>\n",
       "      <td>0.024020</td>\n",
       "      <td>0.005362</td>\n",
       "      <td>0.063305</td>\n",
       "      <td>0.001189</td>\n",
       "      <td>0.000674</td>\n",
       "    </tr>\n",
       "    <tr>\n",
       "      <th>3</th>\n",
       "      <td>0.003396</td>\n",
       "      <td>0.254692</td>\n",
       "      <td>0.012885</td>\n",
       "      <td>0.000529</td>\n",
       "      <td>0.000000</td>\n",
       "    </tr>\n",
       "    <tr>\n",
       "      <th>4</th>\n",
       "      <td>0.003137</td>\n",
       "      <td>0.892761</td>\n",
       "      <td>0.000000</td>\n",
       "      <td>0.002206</td>\n",
       "      <td>0.000296</td>\n",
       "    </tr>\n",
       "  </tbody>\n",
       "</table>\n",
       "</div>"
      ],
      "text/plain": [
       "   gross_revenue  recency_days  qtde_products  frequency  qtde_returns\n",
       "0       0.019312      0.997319       0.011204   1.000000      0.000539\n",
       "1       0.011579      0.150134       0.058263   0.000835      0.000472\n",
       "2       0.024020      0.005362       0.063305   0.001189      0.000674\n",
       "3       0.003396      0.254692       0.012885   0.000529      0.000000\n",
       "4       0.003137      0.892761       0.000000   0.002206      0.000296"
      ]
     },
     "execution_count": 102,
     "metadata": {},
     "output_type": "execute_result"
    }
   ],
   "source": [
    "x.head()"
   ]
  },
  {
   "cell_type": "markdown",
   "id": "a0506dba",
   "metadata": {},
   "source": [
    "### 4.3.4 Tree Based Embeding"
   ]
  },
  {
   "cell_type": "code",
   "execution_count": 85,
   "id": "8ad8574b",
   "metadata": {
    "ExecuteTime": {
     "end_time": "2022-08-15T01:28:28.419243Z",
     "start_time": "2022-08-15T01:28:16.824336Z"
    }
   },
   "outputs": [
    {
     "name": "stderr",
     "output_type": "stream",
     "text": [
      "/Users/adriele/opt/anaconda3/envs/env_pa005/lib/python3.9/site-packages/sklearn/manifold/_spectral_embedding.py:260: UserWarning: Graph is not fully connected, spectral embedding may not work as expected.\n",
      "  warnings.warn(\n"
     ]
    }
   ],
   "source": [
    "x = df43.drop( columns=[ 'gross_revenue'], axis=1)\n",
    "y = df43['gross_revenue']\n",
    "\n",
    "# model definition\n",
    "rf_model = en.RandomForestRegressor( n_estimators=100, random_state=42 )\n",
    "\n",
    "# Model training\n",
    "rf_model.fit( x, y )\n",
    "\n",
    "\n",
    "\n",
    "# dataframe Leaf\n",
    "df_leaf= pd.DataFrame( rf_model.apply( x ) )\n",
    "\n",
    "\n",
    "\n",
    "reducer = umap.UMAP( random_state=42 )\n",
    "embedding = reducer.fit_transform( df_leaf )\n",
    "\n",
    "# Embedding\n",
    "df_tree = pd.DataFrame()\n",
    "df_tree['embedding_x'] = embedding[:, 0]\n",
    "df_tree['embedding_y'] = embedding[:, 1]\n"
   ]
  },
  {
   "cell_type": "markdown",
   "id": "ed659b3d",
   "metadata": {
    "ExecuteTime": {
     "end_time": "2022-07-23T15:08:02.379470Z",
     "start_time": "2022-07-23T15:08:02.376696Z"
    }
   },
   "source": [
    "# <font color= 'red'> 7.0 Fine Tunning Hyperparameter"
   ]
  },
  {
   "cell_type": "code",
   "execution_count": 86,
   "id": "3573ce1b",
   "metadata": {
    "ExecuteTime": {
     "end_time": "2022-08-15T01:28:28.427383Z",
     "start_time": "2022-08-15T01:28:28.422458Z"
    }
   },
   "outputs": [],
   "source": [
    "x = df_tree.copy()\n"
   ]
  },
  {
   "cell_type": "code",
   "execution_count": 87,
   "id": "732f6b3c",
   "metadata": {
    "ExecuteTime": {
     "end_time": "2022-08-15T01:28:28.438576Z",
     "start_time": "2022-08-15T01:28:28.430179Z"
    }
   },
   "outputs": [
    {
     "data": {
      "text/html": [
       "<div>\n",
       "<style scoped>\n",
       "    .dataframe tbody tr th:only-of-type {\n",
       "        vertical-align: middle;\n",
       "    }\n",
       "\n",
       "    .dataframe tbody tr th {\n",
       "        vertical-align: top;\n",
       "    }\n",
       "\n",
       "    .dataframe thead th {\n",
       "        text-align: right;\n",
       "    }\n",
       "</style>\n",
       "<table border=\"1\" class=\"dataframe\">\n",
       "  <thead>\n",
       "    <tr style=\"text-align: right;\">\n",
       "      <th></th>\n",
       "      <th>embedding_x</th>\n",
       "      <th>embedding_y</th>\n",
       "    </tr>\n",
       "  </thead>\n",
       "  <tbody>\n",
       "    <tr>\n",
       "      <th>0</th>\n",
       "      <td>13.991335</td>\n",
       "      <td>6.225943</td>\n",
       "    </tr>\n",
       "    <tr>\n",
       "      <th>1</th>\n",
       "      <td>16.911144</td>\n",
       "      <td>-11.640339</td>\n",
       "    </tr>\n",
       "    <tr>\n",
       "      <th>2</th>\n",
       "      <td>17.544228</td>\n",
       "      <td>-11.735189</td>\n",
       "    </tr>\n",
       "    <tr>\n",
       "      <th>3</th>\n",
       "      <td>19.902990</td>\n",
       "      <td>7.942236</td>\n",
       "    </tr>\n",
       "    <tr>\n",
       "      <th>4</th>\n",
       "      <td>19.461111</td>\n",
       "      <td>10.385714</td>\n",
       "    </tr>\n",
       "  </tbody>\n",
       "</table>\n",
       "</div>"
      ],
      "text/plain": [
       "   embedding_x  embedding_y\n",
       "0    13.991335     6.225943\n",
       "1    16.911144   -11.640339\n",
       "2    17.544228   -11.735189\n",
       "3    19.902990     7.942236\n",
       "4    19.461111    10.385714"
      ]
     },
     "execution_count": 87,
     "metadata": {},
     "output_type": "execute_result"
    }
   ],
   "source": [
    "x.head()"
   ]
  },
  {
   "cell_type": "markdown",
   "id": "e542bda3",
   "metadata": {
    "ExecuteTime": {
     "end_time": "2022-07-23T15:08:02.379470Z",
     "start_time": "2022-07-23T15:08:02.376696Z"
    }
   },
   "source": [
    "# <font color= 'red'> 8.0 Model Training"
   ]
  },
  {
   "cell_type": "code",
   "execution_count": 88,
   "id": "4a308b1d",
   "metadata": {
    "ExecuteTime": {
     "end_time": "2022-08-15T01:28:28.445329Z",
     "start_time": "2022-08-15T01:28:28.442300Z"
    }
   },
   "outputs": [],
   "source": [
    "#df8 = df6.copy()"
   ]
  },
  {
   "cell_type": "markdown",
   "id": "7ec5c4c5",
   "metadata": {},
   "source": [
    "## 8.1 Final Model"
   ]
  },
  {
   "cell_type": "code",
   "execution_count": 89,
   "id": "4c8532a1",
   "metadata": {
    "ExecuteTime": {
     "end_time": "2022-08-15T01:29:01.887074Z",
     "start_time": "2022-08-15T01:28:28.447487Z"
    }
   },
   "outputs": [],
   "source": [
    "#Model definition\n",
    "k = 8\n",
    "\n",
    "# Model definition\n",
    "gmm_model = mx.GaussianMixture( n_components=k, n_init=300, random_state=32 )\n",
    "\n",
    "# Model training\n",
    "gmm_model.fit( x )\n",
    "\n",
    "# Model  predict\n",
    "labels = gmm_model.predict( x )\n",
    "\n",
    "\n"
   ]
  },
  {
   "cell_type": "markdown",
   "id": "aea19e8f",
   "metadata": {},
   "source": [
    "## 8.2 Cluster Validation"
   ]
  },
  {
   "cell_type": "code",
   "execution_count": 90,
   "id": "39542657",
   "metadata": {
    "ExecuteTime": {
     "end_time": "2022-08-15T01:29:02.625141Z",
     "start_time": "2022-08-15T01:29:01.890282Z"
    }
   },
   "outputs": [
    {
     "name": "stdout",
     "output_type": "stream",
     "text": [
      "SS value: 0.39802873134613037\n"
     ]
    }
   ],
   "source": [
    "# WSS (Within cluster sum of square)\n",
    "#print( 'WSS value: {}'.format( kmeans.inertia_ ) )\n",
    "\n",
    "# SS ( Silhouette score )\n",
    "print( 'SS value: {}'.format( m.silhouette_score( x, labels, metric='euclidean' ) ) )"
   ]
  },
  {
   "cell_type": "markdown",
   "id": "d39ddf11",
   "metadata": {
    "ExecuteTime": {
     "end_time": "2022-07-23T15:08:02.379470Z",
     "start_time": "2022-07-23T15:08:02.376696Z"
    }
   },
   "source": [
    "# <font color= 'red'> 9.0 Cluster Analysis"
   ]
  },
  {
   "cell_type": "code",
   "execution_count": 91,
   "id": "8914afc6",
   "metadata": {
    "ExecuteTime": {
     "end_time": "2022-08-15T01:29:02.637489Z",
     "start_time": "2022-08-15T01:29:02.628911Z"
    }
   },
   "outputs": [],
   "source": [
    "df92=df4[cols_selected].copy()\n",
    "df92['cluster'] = labels\n",
    "\n",
    "#changing Dtypes\n",
    "df92['recency_days'] = df92['recency_days'].astype( int )\n",
    "df92['qtde_products'] = df92['qtde_products'].astype( int )\n",
    "df92['qtde_returns'] = df92['qtde_returns'].astype( int )"
   ]
  },
  {
   "cell_type": "code",
   "execution_count": 92,
   "id": "4e8d9e2c",
   "metadata": {
    "ExecuteTime": {
     "end_time": "2022-08-15T01:29:02.684868Z",
     "start_time": "2022-08-15T01:29:02.640525Z"
    }
   },
   "outputs": [],
   "source": [
    "# Number of customer\n",
    "df_cluster = df92[['customer_id', 'cluster']].groupby( 'cluster' ).count().reset_index()\n",
    "df_cluster['perc_customer'] = 100*( df_cluster['customer_id'] / df_cluster['customer_id'].sum() )\n",
    "\n",
    "# Avg Gross Revenue\n",
    "df_avg_gross_revenue = df92[['gross_revenue', 'cluster']].groupby( 'cluster' ).mean().reset_index()\n",
    "df_cluster = pd.merge( df_cluster, df_avg_gross_revenue, how='inner', on='cluster' )\n",
    "\n",
    "# Agv recency days\n",
    "df_avg_recency_days = df92[['recency_days', 'cluster']].groupby( 'cluster' ).mean().reset_index()\n",
    "df_cluster = pd.merge( df_cluster, df_avg_recency_days, how='inner', on='cluster' )\n",
    "\n",
    "# Avg invoice no\n",
    "df_avg_invoice_no = df92[['qtde_products', 'cluster']].groupby( 'cluster' ).mean().reset_index()\n",
    "df_cluster = pd.merge( df_cluster, df_avg_invoice_no, how='inner', on='cluster' )\n",
    "\n",
    "# Frequency\n",
    "df_frequency = df92[['frequency', 'cluster']].groupby( 'cluster' ).mean().reset_index()\n",
    "df_cluster = pd.merge( df_cluster, df_frequency, how='inner', on='cluster' )\n",
    "\n",
    "# Returns\n",
    "df_returns = df92[['qtde_returns', 'cluster']].groupby( 'cluster' ).mean().reset_index()\n",
    "df_cluster = pd.merge( df_cluster, df_returns, how='inner', on='cluster' )\n",
    "\n"
   ]
  },
  {
   "cell_type": "code",
   "execution_count": 93,
   "id": "74b22b4a",
   "metadata": {
    "ExecuteTime": {
     "end_time": "2022-08-15T01:29:02.704103Z",
     "start_time": "2022-08-15T01:29:02.689320Z"
    }
   },
   "outputs": [
    {
     "data": {
      "text/html": [
       "<div>\n",
       "<style scoped>\n",
       "    .dataframe tbody tr th:only-of-type {\n",
       "        vertical-align: middle;\n",
       "    }\n",
       "\n",
       "    .dataframe tbody tr th {\n",
       "        vertical-align: top;\n",
       "    }\n",
       "\n",
       "    .dataframe thead th {\n",
       "        text-align: right;\n",
       "    }\n",
       "</style>\n",
       "<table border=\"1\" class=\"dataframe\">\n",
       "  <thead>\n",
       "    <tr style=\"text-align: right;\">\n",
       "      <th></th>\n",
       "      <th>cluster</th>\n",
       "      <th>customer_id</th>\n",
       "      <th>perc_customer</th>\n",
       "      <th>gross_revenue</th>\n",
       "      <th>recency_days</th>\n",
       "      <th>qtde_products</th>\n",
       "      <th>frequency</th>\n",
       "      <th>qtde_returns</th>\n",
       "    </tr>\n",
       "  </thead>\n",
       "  <tbody>\n",
       "    <tr>\n",
       "      <th>0</th>\n",
       "      <td>0</td>\n",
       "      <td>554</td>\n",
       "      <td>9.726124</td>\n",
       "      <td>8035.245072</td>\n",
       "      <td>61.886282</td>\n",
       "      <td>262.685921</td>\n",
       "      <td>0.038424</td>\n",
       "      <td>271.530686</td>\n",
       "    </tr>\n",
       "    <tr>\n",
       "      <th>5</th>\n",
       "      <td>5</td>\n",
       "      <td>1158</td>\n",
       "      <td>20.330056</td>\n",
       "      <td>2150.725415</td>\n",
       "      <td>93.082902</td>\n",
       "      <td>124.430915</td>\n",
       "      <td>0.028838</td>\n",
       "      <td>12.724525</td>\n",
       "    </tr>\n",
       "    <tr>\n",
       "      <th>4</th>\n",
       "      <td>4</td>\n",
       "      <td>1134</td>\n",
       "      <td>19.908708</td>\n",
       "      <td>1277.560750</td>\n",
       "      <td>76.810406</td>\n",
       "      <td>33.591711</td>\n",
       "      <td>0.096345</td>\n",
       "      <td>3.431217</td>\n",
       "    </tr>\n",
       "    <tr>\n",
       "      <th>1</th>\n",
       "      <td>1</td>\n",
       "      <td>601</td>\n",
       "      <td>10.551264</td>\n",
       "      <td>1236.917621</td>\n",
       "      <td>144.109817</td>\n",
       "      <td>42.281198</td>\n",
       "      <td>0.003019</td>\n",
       "      <td>2.024958</td>\n",
       "    </tr>\n",
       "    <tr>\n",
       "      <th>7</th>\n",
       "      <td>7</td>\n",
       "      <td>576</td>\n",
       "      <td>10.112360</td>\n",
       "      <td>827.661962</td>\n",
       "      <td>126.572917</td>\n",
       "      <td>45.420139</td>\n",
       "      <td>0.005355</td>\n",
       "      <td>2.583333</td>\n",
       "    </tr>\n",
       "    <tr>\n",
       "      <th>3</th>\n",
       "      <td>3</td>\n",
       "      <td>540</td>\n",
       "      <td>9.480337</td>\n",
       "      <td>531.650463</td>\n",
       "      <td>159.248148</td>\n",
       "      <td>17.861111</td>\n",
       "      <td>0.003642</td>\n",
       "      <td>11.016667</td>\n",
       "    </tr>\n",
       "    <tr>\n",
       "      <th>6</th>\n",
       "      <td>6</td>\n",
       "      <td>913</td>\n",
       "      <td>16.028792</td>\n",
       "      <td>192.704677</td>\n",
       "      <td>181.683461</td>\n",
       "      <td>7.925520</td>\n",
       "      <td>0.000775</td>\n",
       "      <td>0.372399</td>\n",
       "    </tr>\n",
       "    <tr>\n",
       "      <th>2</th>\n",
       "      <td>2</td>\n",
       "      <td>220</td>\n",
       "      <td>3.862360</td>\n",
       "      <td>144.756864</td>\n",
       "      <td>115.813636</td>\n",
       "      <td>2.959091</td>\n",
       "      <td>0.000051</td>\n",
       "      <td>0.122727</td>\n",
       "    </tr>\n",
       "  </tbody>\n",
       "</table>\n",
       "</div>"
      ],
      "text/plain": [
       "   cluster  customer_id  perc_customer  gross_revenue  recency_days  \\\n",
       "0        0          554       9.726124    8035.245072     61.886282   \n",
       "5        5         1158      20.330056    2150.725415     93.082902   \n",
       "4        4         1134      19.908708    1277.560750     76.810406   \n",
       "1        1          601      10.551264    1236.917621    144.109817   \n",
       "7        7          576      10.112360     827.661962    126.572917   \n",
       "3        3          540       9.480337     531.650463    159.248148   \n",
       "6        6          913      16.028792     192.704677    181.683461   \n",
       "2        2          220       3.862360     144.756864    115.813636   \n",
       "\n",
       "   qtde_products  frequency  qtde_returns  \n",
       "0     262.685921   0.038424    271.530686  \n",
       "5     124.430915   0.028838     12.724525  \n",
       "4      33.591711   0.096345      3.431217  \n",
       "1      42.281198   0.003019      2.024958  \n",
       "7      45.420139   0.005355      2.583333  \n",
       "3      17.861111   0.003642     11.016667  \n",
       "6       7.925520   0.000775      0.372399  \n",
       "2       2.959091   0.000051      0.122727  "
      ]
     },
     "execution_count": 93,
     "metadata": {},
     "output_type": "execute_result"
    }
   ],
   "source": [
    "df_cluster.sort_values( 'gross_revenue', ascending=False )"
   ]
  },
  {
   "cell_type": "markdown",
   "id": "2b4a105c",
   "metadata": {},
   "source": [
    "## Cluster 01:  ( Insider Candidate )\n",
    "\n",
    "  - Number of Customer = 4,335 ( 99% of customer )\n",
    "  - Averange Recency   = 92 days;\n",
    "  - Averange Purchase  = 5 purchase\n",
    "  - Averang  Revenue   =  $ 1.372,57 dolars\n",
    "  \n",
    "# Cluster 02:\n",
    "\n",
    "  - Number of Customer = 31 ( 71% of customer )\n",
    "  - Averange Recency   = 13 days;\n",
    "  - Averange Purchase  = 53 purchase\n",
    "  - Averang  Revenue   =  $ 40,543,51 dolars  \n",
    "  \n",
    "# Cluster 03:\n",
    "\n",
    "  - Number of Customer = 4 ( 14% of customer )\n",
    "  - Averange Recency   = 7 days;\n",
    "  - Averange Purchase  = 89 purchase\n",
    "  - Averang  Revenue   =  $ 182,181.98 dolars    "
   ]
  },
  {
   "cell_type": "markdown",
   "id": "0f6c50f4",
   "metadata": {
    "ExecuteTime": {
     "end_time": "2022-07-23T15:08:02.379470Z",
     "start_time": "2022-07-23T15:08:02.376696Z"
    }
   },
   "source": [
    "# <font color= 'red'> 10.0 Deploy to production"
   ]
  },
  {
   "cell_type": "markdown",
   "id": "aa954db0",
   "metadata": {},
   "source": [
    "## 10.1 Insert to Sqlite"
   ]
  },
  {
   "cell_type": "code",
   "execution_count": 94,
   "id": "976ba003",
   "metadata": {
    "ExecuteTime": {
     "end_time": "2022-08-15T01:29:03.090115Z",
     "start_time": "2022-08-15T01:29:02.711057Z"
    }
   },
   "outputs": [],
   "source": [
    "import sqlite3\n",
    "from sqlalchemy import create_engine"
   ]
  },
  {
   "cell_type": "code",
   "execution_count": 95,
   "id": "70568d43",
   "metadata": {
    "ExecuteTime": {
     "end_time": "2022-08-15T01:29:03.107416Z",
     "start_time": "2022-08-15T01:29:03.092883Z"
    }
   },
   "outputs": [],
   "source": [
    "# # CREATE TABLE\n",
    "# query_create_table_insiders = \"\"\"\n",
    "#     CREATE TABLE insiders(\n",
    "#         customer_id    ITERGER,\n",
    "#         gross_revenue  REAL,\n",
    "#         recency_days   INTERGER,\n",
    "#         qtde_products  INTERGER,\n",
    "#         frequency      REAL,\n",
    "#         qtde_returns   INTERGER,\n",
    "#         cluster       INTERGER\n",
    "        \n",
    "#     )\n",
    "# \"\"\"\n",
    "\n",
    "# conn = sqlite3.connect( 'insiders_db.sqlite' )\n",
    "# conn.execute( query_create_table_insiders )\n",
    "# conn.commit()\n",
    "# conn.close()\n",
    "\n",
    "# insert data\n",
    "conn = create_engine( 'sqlite:///insiders_db.sqlite' )\n",
    "#df92.to_sql('insiders', con=conn, if_exists='append', index=False )\n",
    "\n",
    "\n",
    "# select data"
   ]
  },
  {
   "cell_type": "code",
   "execution_count": 96,
   "id": "2355f079",
   "metadata": {
    "ExecuteTime": {
     "end_time": "2022-08-15T01:29:03.150106Z",
     "start_time": "2022-08-15T01:29:03.109605Z"
    }
   },
   "outputs": [],
   "source": [
    "# Consulting data base\n",
    "query = \"\"\"\n",
    "\n",
    "    SELECT * FROM insiders\n",
    "    \n",
    "\"\"\"\n",
    "\n",
    "df =pd.read_sql_query( query, conn)"
   ]
  },
  {
   "cell_type": "code",
   "execution_count": 99,
   "id": "af41e758",
   "metadata": {
    "ExecuteTime": {
     "end_time": "2022-08-15T01:36:42.625233Z",
     "start_time": "2022-08-15T01:36:42.607695Z"
    }
   },
   "outputs": [
    {
     "data": {
      "text/html": [
       "<div>\n",
       "<style scoped>\n",
       "    .dataframe tbody tr th:only-of-type {\n",
       "        vertical-align: middle;\n",
       "    }\n",
       "\n",
       "    .dataframe tbody tr th {\n",
       "        vertical-align: top;\n",
       "    }\n",
       "\n",
       "    .dataframe thead th {\n",
       "        text-align: right;\n",
       "    }\n",
       "</style>\n",
       "<table border=\"1\" class=\"dataframe\">\n",
       "  <thead>\n",
       "    <tr style=\"text-align: right;\">\n",
       "      <th></th>\n",
       "      <th>customer_id</th>\n",
       "      <th>gross_revenue</th>\n",
       "      <th>recency_days</th>\n",
       "      <th>qtde_products</th>\n",
       "      <th>frequency</th>\n",
       "      <th>qtde_returns</th>\n",
       "      <th>cluster</th>\n",
       "    </tr>\n",
       "  </thead>\n",
       "  <tbody>\n",
       "    <tr>\n",
       "      <th>0</th>\n",
       "      <td>17850</td>\n",
       "      <td>5391.21</td>\n",
       "      <td>372</td>\n",
       "      <td>21</td>\n",
       "      <td>34.000000</td>\n",
       "      <td>40</td>\n",
       "      <td>4</td>\n",
       "    </tr>\n",
       "    <tr>\n",
       "      <th>1</th>\n",
       "      <td>13047</td>\n",
       "      <td>3232.59</td>\n",
       "      <td>56</td>\n",
       "      <td>105</td>\n",
       "      <td>0.028391</td>\n",
       "      <td>35</td>\n",
       "      <td>5</td>\n",
       "    </tr>\n",
       "    <tr>\n",
       "      <th>2</th>\n",
       "      <td>12583</td>\n",
       "      <td>6705.38</td>\n",
       "      <td>2</td>\n",
       "      <td>114</td>\n",
       "      <td>0.040431</td>\n",
       "      <td>50</td>\n",
       "      <td>5</td>\n",
       "    </tr>\n",
       "    <tr>\n",
       "      <th>3</th>\n",
       "      <td>13748</td>\n",
       "      <td>948.25</td>\n",
       "      <td>95</td>\n",
       "      <td>24</td>\n",
       "      <td>0.017986</td>\n",
       "      <td>0</td>\n",
       "      <td>4</td>\n",
       "    </tr>\n",
       "    <tr>\n",
       "      <th>4</th>\n",
       "      <td>15100</td>\n",
       "      <td>876.00</td>\n",
       "      <td>333</td>\n",
       "      <td>1</td>\n",
       "      <td>0.075000</td>\n",
       "      <td>22</td>\n",
       "      <td>4</td>\n",
       "    </tr>\n",
       "  </tbody>\n",
       "</table>\n",
       "</div>"
      ],
      "text/plain": [
       "   customer_id  gross_revenue  recency_days  qtde_products  frequency  \\\n",
       "0        17850        5391.21           372             21  34.000000   \n",
       "1        13047        3232.59            56            105   0.028391   \n",
       "2        12583        6705.38             2            114   0.040431   \n",
       "3        13748         948.25            95             24   0.017986   \n",
       "4        15100         876.00           333              1   0.075000   \n",
       "\n",
       "   qtde_returns  cluster  \n",
       "0            40        4  \n",
       "1            35        5  \n",
       "2            50        5  \n",
       "3             0        4  \n",
       "4            22        4  "
      ]
     },
     "execution_count": 99,
     "metadata": {},
     "output_type": "execute_result"
    }
   ],
   "source": [
    "df.head()"
   ]
  },
  {
   "cell_type": "code",
   "execution_count": null,
   "id": "4d68c227",
   "metadata": {},
   "outputs": [],
   "source": []
  },
  {
   "cell_type": "code",
   "execution_count": null,
   "id": "a0ce4749",
   "metadata": {},
   "outputs": [],
   "source": []
  },
  {
   "cell_type": "code",
   "execution_count": null,
   "id": "9aa6acd6",
   "metadata": {},
   "outputs": [],
   "source": []
  }
 ],
 "metadata": {
  "kernelspec": {
   "display_name": "Python 3 (ipykernel)",
   "language": "python",
   "name": "python3"
  },
  "language_info": {
   "codemirror_mode": {
    "name": "ipython",
    "version": 3
   },
   "file_extension": ".py",
   "mimetype": "text/x-python",
   "name": "python",
   "nbconvert_exporter": "python",
   "pygments_lexer": "ipython3",
   "version": "3.9.12"
  }
 },
 "nbformat": 4,
 "nbformat_minor": 5
}
