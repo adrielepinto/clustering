{
 "cells": [
  {
   "cell_type": "markdown",
   "id": "94c14212",
   "metadata": {},
   "source": [
    "# <font color= 'red'> PA005 - High Value Customer Identification"
   ]
  },
  {
   "cell_type": "markdown",
   "id": "635c3f0e",
   "metadata": {
    "ExecuteTime": {
     "end_time": "2022-07-23T14:41:36.960788Z",
     "start_time": "2022-07-23T14:41:36.940500Z"
    },
    "heading_collapsed": true
   },
   "source": [
    "## Imput"
   ]
  },
  {
   "cell_type": "markdown",
   "id": "85a09924",
   "metadata": {},
   "source": [
    "## Business Challenge"
   ]
  },
  {
   "cell_type": "markdown",
   "id": "c59ae4c8",
   "metadata": {},
   "source": [
    "- Select the most valuable customers to build the loyalty program called 'Insiders'.\n",
    "- Data set with more product sales during the year. ( Nov/2015 - Dec/2017 )"
   ]
  },
  {
   "cell_type": "markdown",
   "id": "7b08ce8e",
   "metadata": {
    "heading_collapsed": true
   },
   "source": [
    "## Output"
   ]
  },
  {
   "cell_type": "markdown",
   "id": "7d5788e6",
   "metadata": {
    "hidden": true
   },
   "source": [
    "1. Indication of people to be part of the program.\n",
    "2. A report with the answers to following question:\n",
    "    - Who are the eligible people for the Insiders Program?\n",
    "    - How many people will be in the group?\n",
    "    - Which are the main characteristics of these customers?\n",
    "    - What is the percentage revenue contribution coming from Insiders?\n",
    "    - What is the revenue expectation for the next few months?\n",
    "    - Which are the conditions for the people to be eligible from the program?\n",
    "    - Which are the conditions for the people to be removed from the program?\n",
    "    - What is the guarantee that the Insiders Problem is better than the rest of the base?\n",
    "    - What are the action the marketing time can do to enhance the revenue?"
   ]
  },
  {
   "cell_type": "markdown",
   "id": "7db7431d",
   "metadata": {
    "ExecuteTime": {
     "end_time": "2022-07-21T15:23:08.648861Z",
     "start_time": "2022-07-21T15:23:08.639656Z"
    },
    "heading_collapsed": true
   },
   "source": [
    "## Task - Process"
   ]
  },
  {
   "cell_type": "markdown",
   "id": "040f7420",
   "metadata": {
    "hidden": true
   },
   "source": [
    "1. Who are the eligible people for the Insiders Program?\n",
    "    - What is be eligible? What are high value customers?\n",
    "    - Income:\n",
    "        - High averange ticket;\n",
    "        - High LTV;\n",
    "        - Low recently;\n",
    "        - High basket size;\n",
    "        - Low Churn probability;\n",
    "        - High LTV probability;\n",
    "        - High buy propensity;\n",
    "        \n",
    "        \n",
    "   - Cost:  \n",
    "        - Low return rate;\n",
    "    \n",
    "    \n",
    "   - Buyer Experience:\n",
    "        - High averange rate;\n",
    "2. How many people will be in the group?\n",
    "    - Total customers number;\n",
    "    - % Insider Group;\n",
    "    \n",
    "    \n",
    "3. Which are the main characteristics of these customers?\n",
    "    - Customer characteristics:\n",
    "        - Age;\n",
    "        - Location;\n",
    "        \n",
    "    -  Consumption characteristics:\n",
    "        - Clustering Attributtes;\n",
    "        \n",
    "4. What is the percentage revenue contribution coming from Insiders?\n",
    "    - Total revenue of the year;\n",
    "    - Renenue of the Insiders group;\n",
    "        \n",
    "        \n",
    "5. What is the revenue expectation for the next few months? \n",
    "    - LTV of the Insider Group;\n",
    "    - Cohort Analysis;\n",
    "    \n",
    "    \n",
    "6. Which are the conditions for the people to be eligible from the program?\n",
    "    - Define the periodicity ( 1 month, 3 months);\n",
    "    - The people needs to be similary or seemed to other people in the group?\n",
    "    \n",
    "    \n",
    "7. Which are the conditions for the people to be removed from the program?\n",
    "    - Define the periodicity ( 1 month, 3 months);\n",
    "    - The people needs to be similary or seemed to other people in the group?\n",
    "    \n",
    "    \n",
    "8. What is the guarantee that the Insiders Problem is better than the rest of the base?\n",
    "    - A/B Test;\n",
    "    - Bayesian A/B Test;\n",
    "    - Hyphotesis Test;\n",
    "\n",
    "\n",
    "9. What are the action the marketing time can do to enhance the revenue?\n",
    "    - Discount;\n",
    "    - Purchase Preferences\n",
    "    - Front\n",
    "    - Company Visit;"
   ]
  },
  {
   "cell_type": "markdown",
   "id": "3b2951db",
   "metadata": {},
   "source": [
    "# 0.1 Import"
   ]
  },
  {
   "cell_type": "code",
   "execution_count": 3,
   "id": "33747e7d",
   "metadata": {
    "ExecuteTime": {
     "end_time": "2022-11-14T14:19:11.339757Z",
     "start_time": "2022-11-14T14:19:04.353582Z"
    }
   },
   "outputs": [],
   "source": [
    "import  re\n",
    "import  inflection\n",
    "import  pandas      as pd\n",
    "import  seaborn     as sns\n",
    "import  numpy       as np\n",
    "import  umap.umap_  as umap\n",
    "\n",
    "import  matplotlib.pyplot  as plt\n",
    "\n",
    "\n",
    "from  sklearn  import  cluster       as c\n",
    "from  sklearn  import  metrics       as m\n",
    "from  sklearn  import  mixture       as mx\n",
    "from  plotly   import  express       as px\n",
    "from  sklearn  import  ensemble      as en\n",
    "from  sklearn  import  manifold      as mn\n",
    "from  sklearn  import  decomposition as dd\n",
    "from  sklearn  import  preprocessing as pp\n",
    "\n",
    "from  scipy.cluster import hierarchy as hc\n",
    "\n",
    "from IPython.display          import Image\n",
    "from  sklearn.neighbors       import NearestNeighbors\n",
    "\n"
   ]
  },
  {
   "cell_type": "markdown",
   "id": "2c420db5",
   "metadata": {
    "ExecuteTime": {
     "end_time": "2022-07-23T15:08:02.379470Z",
     "start_time": "2022-07-23T15:08:02.376696Z"
    }
   },
   "source": [
    "# <font color= 'red'> 1.0 Data Description"
   ]
  },
  {
   "cell_type": "markdown",
   "id": "8bc1b2e2",
   "metadata": {},
   "source": [
    "## 1.1 Loading Dataset"
   ]
  },
  {
   "cell_type": "code",
   "execution_count": 4,
   "id": "9d100d73",
   "metadata": {
    "ExecuteTime": {
     "end_time": "2022-11-14T14:19:12.010869Z",
     "start_time": "2022-11-14T14:19:11.343570Z"
    }
   },
   "outputs": [],
   "source": [
    "df_raw = pd.read_csv( '/Users/adriele/Documents/repos/pa005/data/ecommerce.csv', encoding='iso-8859-1' )\n",
    "\n",
    "# dropping extra column\n",
    "df_raw = df_raw.drop( columns= ['Unnamed: 8'], axis=1 )"
   ]
  },
  {
   "cell_type": "markdown",
   "id": "71794023",
   "metadata": {
    "ExecuteTime": {
     "end_time": "2022-07-25T14:16:16.638986Z",
     "start_time": "2022-07-25T14:16:16.607982Z"
    }
   },
   "source": [
    "## 1.2 Rename Columns"
   ]
  },
  {
   "cell_type": "code",
   "execution_count": 5,
   "id": "15f23e16",
   "metadata": {
    "ExecuteTime": {
     "end_time": "2022-11-14T14:19:12.029190Z",
     "start_time": "2022-11-14T14:19:12.013506Z"
    },
    "code_folding": []
   },
   "outputs": [],
   "source": [
    "df1 = df_raw.copy()\n",
    "\n",
    "# Renaming Cols\n",
    "cols_old = [ 'InvoiceNo', 'StockCode', 'Description', 'Quantity', 'InvoiceDate', 'UnitPrice', 'CustomerID', 'Country']\n",
    "\n",
    "snakecase = lambda x: inflection.underscore (x)\n",
    "\n",
    "cols_new = list (map (snakecase , cols_old))\n",
    "\n",
    "# rename\n",
    "df1.columns = cols_new"
   ]
  },
  {
   "cell_type": "markdown",
   "id": "001a04de",
   "metadata": {
    "ExecuteTime": {
     "end_time": "2022-07-25T14:23:03.508383Z",
     "start_time": "2022-07-25T14:23:03.496451Z"
    }
   },
   "source": [
    "## 1.3 Data Dimensions"
   ]
  },
  {
   "cell_type": "code",
   "execution_count": 6,
   "id": "1a92a58e",
   "metadata": {
    "ExecuteTime": {
     "end_time": "2022-11-14T14:19:12.038345Z",
     "start_time": "2022-11-14T14:19:12.032946Z"
    }
   },
   "outputs": [
    {
     "name": "stdout",
     "output_type": "stream",
     "text": [
      "Number of Cols 8\n",
      "Number of Rows 541909\n"
     ]
    }
   ],
   "source": [
    "print( 'Number of Cols {}'.format( df1.shape[1] ) )\n",
    "print( 'Number of Rows {}'.format( df1.shape[0] ) )"
   ]
  },
  {
   "cell_type": "markdown",
   "id": "2a1e934c",
   "metadata": {},
   "source": [
    "## 1.4 Check NA"
   ]
  },
  {
   "cell_type": "code",
   "execution_count": 7,
   "id": "1876ceb4",
   "metadata": {
    "ExecuteTime": {
     "end_time": "2022-11-14T14:19:12.424076Z",
     "start_time": "2022-11-14T14:19:12.040744Z"
    }
   },
   "outputs": [
    {
     "data": {
      "text/plain": [
       "invoice_no           0\n",
       "stock_code           0\n",
       "description       1454\n",
       "quantity             0\n",
       "invoice_date         0\n",
       "unit_price           0\n",
       "customer_id     135080\n",
       "country              0\n",
       "dtype: int64"
      ]
     },
     "execution_count": 7,
     "metadata": {},
     "output_type": "execute_result"
    }
   ],
   "source": [
    "df1.isna().sum()"
   ]
  },
  {
   "cell_type": "markdown",
   "id": "feaa0bc7",
   "metadata": {
    "ExecuteTime": {
     "end_time": "2022-07-25T14:51:35.859244Z",
     "start_time": "2022-07-25T14:51:35.856371Z"
    }
   },
   "source": [
    "## 1.5 Replace NA"
   ]
  },
  {
   "cell_type": "code",
   "execution_count": 8,
   "id": "12dabdd4",
   "metadata": {
    "ExecuteTime": {
     "end_time": "2022-11-14T14:19:12.858176Z",
     "start_time": "2022-11-14T14:19:12.426189Z"
    }
   },
   "outputs": [
    {
     "name": "stdout",
     "output_type": "stream",
     "text": [
      "Removed Data: 0.00%\n"
     ]
    }
   ],
   "source": [
    "df_missing = df1.loc[ df1[ 'customer_id' ].isna(), :]\n",
    "df_not_missing = df1.loc[ ~df1['customer_id' ].isna(), :]\n",
    "\n",
    "\n",
    "# Create reference\n",
    "df_backup = pd.DataFrame( df_missing['invoice_no'].drop_duplicates() )\n",
    "df_backup[ 'customer_id' ] = np.arange( 19000, 19000+len( df_backup ), 1)\n",
    "\n",
    "# Merge original with reference df\n",
    "df1 = pd.merge( df1, df_backup, on='invoice_no', how='left' )\n",
    "\n",
    "# Coalesce\n",
    "df1['customer_id'] = df1['customer_id_x'].combine_first( df1['customer_id_y'])\n",
    "\n",
    "# drop extra column\n",
    "df1 = df1.drop( columns=['customer_id_x', 'customer_id_y'], axis=1 )\n",
    "\n",
    "\n",
    "# removing Na\n",
    "df1 = df1.dropna( subset=[ 'description', 'customer_id'] )\n",
    "print( 'Removed Data: {:.2f}%'.format( 1-( df1.shape[0] / df_raw.shape[0] ) ) )"
   ]
  },
  {
   "cell_type": "code",
   "execution_count": 9,
   "id": "9db28adf",
   "metadata": {
    "ExecuteTime": {
     "end_time": "2022-11-14T14:19:13.236885Z",
     "start_time": "2022-11-14T14:19:12.860708Z"
    }
   },
   "outputs": [
    {
     "data": {
      "text/plain": [
       "invoice_no      0\n",
       "stock_code      0\n",
       "description     0\n",
       "quantity        0\n",
       "invoice_date    0\n",
       "unit_price      0\n",
       "country         0\n",
       "customer_id     0\n",
       "dtype: int64"
      ]
     },
     "execution_count": 9,
     "metadata": {},
     "output_type": "execute_result"
    }
   ],
   "source": [
    "df1.isna().sum()"
   ]
  },
  {
   "cell_type": "markdown",
   "id": "513ab5fe",
   "metadata": {},
   "source": [
    "## 1.6 Data Types"
   ]
  },
  {
   "cell_type": "code",
   "execution_count": 10,
   "id": "bc1a5d09",
   "metadata": {
    "ExecuteTime": {
     "end_time": "2022-11-14T14:19:13.320473Z",
     "start_time": "2022-11-14T14:19:13.239068Z"
    }
   },
   "outputs": [],
   "source": [
    "# Invoice Date\n",
    "df1['invoice_date'] = pd.to_datetime( df1['invoice_date'], format='%d-%b-%y')\n",
    "\n",
    "# Customer Id\n",
    "df1['customer_id'] = df1['customer_id'].astype( int)"
   ]
  },
  {
   "cell_type": "code",
   "execution_count": 11,
   "id": "f9a5ee78",
   "metadata": {
    "ExecuteTime": {
     "end_time": "2022-11-14T14:19:13.329047Z",
     "start_time": "2022-11-14T14:19:13.323263Z"
    }
   },
   "outputs": [
    {
     "data": {
      "text/plain": [
       "invoice_no              object\n",
       "stock_code              object\n",
       "description             object\n",
       "quantity                 int64\n",
       "invoice_date    datetime64[ns]\n",
       "unit_price             float64\n",
       "country                 object\n",
       "customer_id              int64\n",
       "dtype: object"
      ]
     },
     "execution_count": 11,
     "metadata": {},
     "output_type": "execute_result"
    }
   ],
   "source": [
    "df1.dtypes"
   ]
  },
  {
   "cell_type": "markdown",
   "id": "cc8f7658",
   "metadata": {},
   "source": [
    "## 1.7 Descriptive Startistcs"
   ]
  },
  {
   "cell_type": "code",
   "execution_count": 12,
   "id": "ce966a51",
   "metadata": {
    "ExecuteTime": {
     "end_time": "2022-11-14T14:19:13.339083Z",
     "start_time": "2022-11-14T14:19:13.335370Z"
    }
   },
   "outputs": [],
   "source": [
    "num_attributes = df1.select_dtypes( include=['int64', 'float64'] )\n",
    "cat_attributes = df1.select_dtypes( exclude=[ 'int64', 'float64', 'datetime64[ns]'] )"
   ]
  },
  {
   "cell_type": "markdown",
   "id": "1f8b8606",
   "metadata": {},
   "source": [
    "### 1.7.1 Numerical Attributes\n",
    "\n",
    "- Negative quantity can be returns;\n",
    "- Unitary price equal 0 can be promotions;"
   ]
  },
  {
   "cell_type": "code",
   "execution_count": 13,
   "id": "e659edac",
   "metadata": {
    "ExecuteTime": {
     "end_time": "2022-11-14T14:19:13.722495Z",
     "start_time": "2022-11-14T14:19:13.341114Z"
    }
   },
   "outputs": [
    {
     "data": {
      "text/html": [
       "<div>\n",
       "<style scoped>\n",
       "    .dataframe tbody tr th:only-of-type {\n",
       "        vertical-align: middle;\n",
       "    }\n",
       "\n",
       "    .dataframe tbody tr th {\n",
       "        vertical-align: top;\n",
       "    }\n",
       "\n",
       "    .dataframe thead th {\n",
       "        text-align: right;\n",
       "    }\n",
       "</style>\n",
       "<table border=\"1\" class=\"dataframe\">\n",
       "  <thead>\n",
       "    <tr style=\"text-align: right;\">\n",
       "      <th></th>\n",
       "      <th>attributes</th>\n",
       "      <th>min</th>\n",
       "      <th>max</th>\n",
       "      <th>range</th>\n",
       "      <th>mean</th>\n",
       "      <th>median</th>\n",
       "      <th>std</th>\n",
       "      <th>skew</th>\n",
       "      <th>kurtosis</th>\n",
       "    </tr>\n",
       "  </thead>\n",
       "  <tbody>\n",
       "    <tr>\n",
       "      <th>0</th>\n",
       "      <td>quantity</td>\n",
       "      <td>-80995.00</td>\n",
       "      <td>80995.0</td>\n",
       "      <td>161990.00</td>\n",
       "      <td>9.603129</td>\n",
       "      <td>3.00</td>\n",
       "      <td>218.007397</td>\n",
       "      <td>-0.281253</td>\n",
       "      <td>120252.449063</td>\n",
       "    </tr>\n",
       "    <tr>\n",
       "      <th>1</th>\n",
       "      <td>unit_price</td>\n",
       "      <td>-11062.06</td>\n",
       "      <td>38970.0</td>\n",
       "      <td>50032.06</td>\n",
       "      <td>4.623519</td>\n",
       "      <td>2.08</td>\n",
       "      <td>96.889538</td>\n",
       "      <td>186.257919</td>\n",
       "      <td>58848.017575</td>\n",
       "    </tr>\n",
       "    <tr>\n",
       "      <th>2</th>\n",
       "      <td>customer_id</td>\n",
       "      <td>12346.00</td>\n",
       "      <td>22709.0</td>\n",
       "      <td>10363.00</td>\n",
       "      <td>16678.153600</td>\n",
       "      <td>16241.00</td>\n",
       "      <td>2907.570262</td>\n",
       "      <td>0.493600</td>\n",
       "      <td>-0.792496</td>\n",
       "    </tr>\n",
       "  </tbody>\n",
       "</table>\n",
       "</div>"
      ],
      "text/plain": [
       "    attributes       min      max      range          mean    median  \\\n",
       "0     quantity -80995.00  80995.0  161990.00      9.603129      3.00   \n",
       "1   unit_price -11062.06  38970.0   50032.06      4.623519      2.08   \n",
       "2  customer_id  12346.00  22709.0   10363.00  16678.153600  16241.00   \n",
       "\n",
       "           std        skew       kurtosis  \n",
       "0   218.007397   -0.281253  120252.449063  \n",
       "1    96.889538  186.257919   58848.017575  \n",
       "2  2907.570262    0.493600      -0.792496  "
      ]
     },
     "execution_count": 13,
     "metadata": {},
     "output_type": "execute_result"
    }
   ],
   "source": [
    "# Central Tendency - mean, Median\n",
    "ct1 = pd.DataFrame (num_attributes.apply (np.mean) ).T\n",
    "ct2 = pd.DataFrame (num_attributes.apply (np.median) ).T\n",
    "\n",
    "# Dispersion - std, min, max, range, skew, kurtosis\n",
    "d1 = pd.DataFrame (num_attributes.apply (np.std) ).T\n",
    "d2 = pd.DataFrame (num_attributes.apply (min)).T\n",
    "d3 = pd.DataFrame (num_attributes.apply (max)).T\n",
    "d4 = pd.DataFrame (num_attributes.apply (lambda x: x.max () -x.min ()) ).T\n",
    "d5 = pd.DataFrame (num_attributes.apply (lambda x: x.skew () ) ).T\n",
    "d6 = pd.DataFrame (num_attributes.apply (lambda x: x.kurtosis ()) ).T\n",
    "\n",
    "# Concatane\n",
    "m1 =pd.concat ([ d2, d3, d4, ct1, ct2, d1, d5, d6]).T.reset_index()\n",
    "m1.columns = ['attributes', 'min', 'max', 'range', 'mean', 'median', 'std', 'skew', 'kurtosis']\n",
    "m1"
   ]
  },
  {
   "cell_type": "markdown",
   "id": "ed66d026",
   "metadata": {
    "ExecuteTime": {
     "end_time": "2022-08-05T16:01:40.290864Z",
     "start_time": "2022-08-05T16:01:40.288157Z"
    }
   },
   "source": [
    "### 1.7.2 Attributes Category"
   ]
  },
  {
   "cell_type": "markdown",
   "id": "d459d1f5",
   "metadata": {},
   "source": [
    "#### Invoice No"
   ]
  },
  {
   "cell_type": "code",
   "execution_count": 14,
   "id": "b6d26bbc",
   "metadata": {
    "ExecuteTime": {
     "end_time": "2022-11-14T14:19:14.355039Z",
     "start_time": "2022-11-14T14:19:13.724630Z"
    }
   },
   "outputs": [
    {
     "name": "stdout",
     "output_type": "stream",
     "text": [
      "Total number of invoices: 9291\n",
      "Total number of negative invoices: 9288\n"
     ]
    }
   ],
   "source": [
    "# Invoice No\n",
    "df_letter_invoices = df1.loc[df1[ 'invoice_no' ].apply( lambda x: bool( re.search( '[^0-9]+', x ) ) ), :]\n",
    "\n",
    "print( 'Total number of invoices: {}'.format( len( df_letter_invoices) ) )\n",
    "print( 'Total number of negative invoices: {}'.format( len( df_letter_invoices[ df_letter_invoices[ 'quantity' ] < 0] ) ) )"
   ]
  },
  {
   "cell_type": "markdown",
   "id": "d0aa1900",
   "metadata": {},
   "source": [
    "#### Stock Code"
   ]
  },
  {
   "cell_type": "code",
   "execution_count": 15,
   "id": "92b3addb",
   "metadata": {
    "ExecuteTime": {
     "end_time": "2022-11-14T14:19:14.957572Z",
     "start_time": "2022-11-14T14:19:14.357539Z"
    }
   },
   "outputs": [
    {
     "data": {
      "text/plain": [
       "array(['POST', 'D', 'DOT', 'M', 'S', 'AMAZONFEE', 'm', 'DCGSSBOY',\n",
       "       'DCGSSGIRL', 'PADS', 'B', 'CRUK'], dtype=object)"
      ]
     },
     "execution_count": 15,
     "metadata": {},
     "output_type": "execute_result"
    }
   ],
   "source": [
    "# Stock code - check characters\n",
    "df1.loc[df1[ 'stock_code' ].apply( lambda x: bool( re.search( '^[a-zA-Z]+$', x ) ) ), 'stock_code'].unique()\n",
    "\n"
   ]
  },
  {
   "cell_type": "markdown",
   "id": "4e0ff6d4",
   "metadata": {},
   "source": [
    "#### Country"
   ]
  },
  {
   "cell_type": "code",
   "execution_count": 16,
   "id": "a70a6270",
   "metadata": {
    "ExecuteTime": {
     "end_time": "2022-11-14T14:19:14.997483Z",
     "start_time": "2022-11-14T14:19:14.960118Z"
    }
   },
   "outputs": [
    {
     "data": {
      "text/plain": [
       "United Kingdom    0.914089\n",
       "Germany           0.017569\n",
       "France            0.015833\n",
       "EIRE              0.015165\n",
       "Spain             0.004687\n",
       "Name: country, dtype: float64"
      ]
     },
     "execution_count": 16,
     "metadata": {},
     "output_type": "execute_result"
    }
   ],
   "source": [
    "df1['country'].value_counts( normalize=True ).head()"
   ]
  },
  {
   "cell_type": "code",
   "execution_count": 17,
   "id": "c74beaf3",
   "metadata": {
    "ExecuteTime": {
     "end_time": "2022-11-14T14:19:15.074316Z",
     "start_time": "2022-11-14T14:19:14.999817Z"
    }
   },
   "outputs": [
    {
     "data": {
      "text/html": [
       "<div>\n",
       "<style scoped>\n",
       "    .dataframe tbody tr th:only-of-type {\n",
       "        vertical-align: middle;\n",
       "    }\n",
       "\n",
       "    .dataframe tbody tr th {\n",
       "        vertical-align: top;\n",
       "    }\n",
       "\n",
       "    .dataframe thead th {\n",
       "        text-align: right;\n",
       "    }\n",
       "</style>\n",
       "<table border=\"1\" class=\"dataframe\">\n",
       "  <thead>\n",
       "    <tr style=\"text-align: right;\">\n",
       "      <th></th>\n",
       "      <th>country</th>\n",
       "      <th>customer_id</th>\n",
       "    </tr>\n",
       "  </thead>\n",
       "  <tbody>\n",
       "    <tr>\n",
       "      <th>36</th>\n",
       "      <td>United Kingdom</td>\n",
       "      <td>6133</td>\n",
       "    </tr>\n",
       "    <tr>\n",
       "      <th>14</th>\n",
       "      <td>Germany</td>\n",
       "      <td>95</td>\n",
       "    </tr>\n",
       "    <tr>\n",
       "      <th>13</th>\n",
       "      <td>France</td>\n",
       "      <td>90</td>\n",
       "    </tr>\n",
       "    <tr>\n",
       "      <th>10</th>\n",
       "      <td>EIRE</td>\n",
       "      <td>44</td>\n",
       "    </tr>\n",
       "    <tr>\n",
       "      <th>31</th>\n",
       "      <td>Spain</td>\n",
       "      <td>31</td>\n",
       "    </tr>\n",
       "  </tbody>\n",
       "</table>\n",
       "</div>"
      ],
      "text/plain": [
       "           country  customer_id\n",
       "36  United Kingdom         6133\n",
       "14         Germany           95\n",
       "13          France           90\n",
       "10            EIRE           44\n",
       "31           Spain           31"
      ]
     },
     "execution_count": 17,
     "metadata": {},
     "output_type": "execute_result"
    }
   ],
   "source": [
    "c = df1[['customer_id', 'country']].drop_duplicates().groupby( 'country' ).count(\n",
    ").reset_index().sort_values( 'customer_id', ascending=False )\n",
    "\n",
    "c.head()"
   ]
  },
  {
   "cell_type": "markdown",
   "id": "46050581",
   "metadata": {
    "ExecuteTime": {
     "end_time": "2022-07-23T15:08:02.379470Z",
     "start_time": "2022-07-23T15:08:02.376696Z"
    }
   },
   "source": [
    "# <font color= 'red'> 2.0 Feature Filtering"
   ]
  },
  {
   "cell_type": "code",
   "execution_count": 18,
   "id": "57553885",
   "metadata": {
    "ExecuteTime": {
     "end_time": "2022-11-14T14:19:15.376236Z",
     "start_time": "2022-11-14T14:19:15.076625Z"
    }
   },
   "outputs": [],
   "source": [
    "df2 = df1.copy()\n",
    "\n",
    "# Numerical Attributes\n",
    "df2 = df2.loc[df2['unit_price'] >= 0.04, :]\n",
    "\n",
    "# Categorical Attributes\n",
    "df2 = df2[~df2['stock_code'].isin( ['POST', 'D', 'DOT', 'M', 'S', 'AMAZONFEE', 'm', 'DCGSSBOY',\n",
    "       'DCGSSGIRL', 'PADS', 'B', 'CRUK'] ) ]\n",
    "\n",
    "#Descrption\n",
    "df2 = df2.drop( columns='description', axis=1 )\n",
    "\n",
    "# Description\n",
    "df2= df2[~df2['country'].isin( ['European Comunity', 'Unspecified'] ) ]\n",
    "\n",
    "# Bad Users\n",
    "df2 = df2[~df2['customer_id'].isin( [16446] )]\n",
    "# Quantity\n",
    "df2_returns = df2.loc[ df1[ 'quantity' ] <0, : ]\n",
    "df2_purchases = df2.loc[ df1[ 'quantity' ] >=0, : ]"
   ]
  },
  {
   "cell_type": "markdown",
   "id": "cc9df7ee",
   "metadata": {
    "ExecuteTime": {
     "end_time": "2022-07-23T15:08:02.379470Z",
     "start_time": "2022-07-23T15:08:02.376696Z"
    }
   },
   "source": [
    "# <font color= 'red'> 3.0 Feature Engineering"
   ]
  },
  {
   "cell_type": "code",
   "execution_count": 19,
   "id": "e8213689",
   "metadata": {
    "ExecuteTime": {
     "end_time": "2022-11-14T14:19:15.400176Z",
     "start_time": "2022-11-14T14:19:15.378677Z"
    }
   },
   "outputs": [],
   "source": [
    "df3 = df2.copy()"
   ]
  },
  {
   "cell_type": "markdown",
   "id": "9c6c2712",
   "metadata": {},
   "source": [
    "## 3.1 Feature Creation"
   ]
  },
  {
   "cell_type": "code",
   "execution_count": 20,
   "id": "7d3ff0eb",
   "metadata": {
    "ExecuteTime": {
     "end_time": "2022-11-14T14:19:15.437487Z",
     "start_time": "2022-11-14T14:19:15.402528Z"
    }
   },
   "outputs": [],
   "source": [
    "# Data reference\n",
    "df_ref = df3.drop(['invoice_no', 'stock_code','quantity', \n",
    "          'invoice_date', 'unit_price', 'country'], axis=1).drop_duplicates( ignore_index=True )"
   ]
  },
  {
   "cell_type": "markdown",
   "id": "5337179b",
   "metadata": {
    "ExecuteTime": {
     "end_time": "2022-08-07T15:13:47.887971Z",
     "start_time": "2022-08-07T15:13:47.885282Z"
    }
   },
   "source": [
    "### 3.1.1 Gross Revenue"
   ]
  },
  {
   "cell_type": "code",
   "execution_count": 21,
   "id": "e364ffad",
   "metadata": {
    "ExecuteTime": {
     "end_time": "2022-11-14T14:19:15.492785Z",
     "start_time": "2022-11-14T14:19:15.439669Z"
    }
   },
   "outputs": [
    {
     "name": "stderr",
     "output_type": "stream",
     "text": [
      "/var/folders/pc/6sglrsq96ws5kp74fjj4j02h0000gn/T/ipykernel_24822/1692327438.py:2: SettingWithCopyWarning: \n",
      "A value is trying to be set on a copy of a slice from a DataFrame.\n",
      "Try using .loc[row_indexer,col_indexer] = value instead\n",
      "\n",
      "See the caveats in the documentation: https://pandas.pydata.org/pandas-docs/stable/user_guide/indexing.html#returning-a-view-versus-a-copy\n",
      "  df2_purchases.loc[:,'gross_revenue'] = df2_purchases.loc[:, 'quantity'] * df2_purchases.loc[:, 'unit_price']\n"
     ]
    },
    {
     "data": {
      "text/plain": [
       "customer_id       0\n",
       "gross_revenue    91\n",
       "dtype: int64"
      ]
     },
     "execution_count": 21,
     "metadata": {},
     "output_type": "execute_result"
    }
   ],
   "source": [
    "# Gross Revenue = quantity * price\n",
    "df2_purchases.loc[:,'gross_revenue'] = df2_purchases.loc[:, 'quantity'] * df2_purchases.loc[:, 'unit_price']\n",
    "\n",
    "# Monetary\n",
    "df_monetary = df2_purchases.loc[:, [ 'customer_id', 'gross_revenue' ]].groupby( 'customer_id' ).sum().reset_index()\n",
    "df_ref = pd.merge( df_ref, df_monetary, on='customer_id', how='left' )\n",
    "df_ref.isna().sum()"
   ]
  },
  {
   "cell_type": "markdown",
   "id": "0e8a0d91",
   "metadata": {
    "ExecuteTime": {
     "end_time": "2022-08-07T15:14:58.581758Z",
     "start_time": "2022-08-07T15:14:58.579077Z"
    }
   },
   "source": [
    "### 3.1.2 Recency - Last Day Purchase"
   ]
  },
  {
   "cell_type": "code",
   "execution_count": 22,
   "id": "a7a1624c",
   "metadata": {
    "ExecuteTime": {
     "end_time": "2022-11-14T14:19:15.533149Z",
     "start_time": "2022-11-14T14:19:15.495261Z"
    }
   },
   "outputs": [
    {
     "data": {
      "text/plain": [
       "customer_id       0\n",
       "gross_revenue    91\n",
       "recency_days     91\n",
       "dtype: int64"
      ]
     },
     "execution_count": 22,
     "metadata": {},
     "output_type": "execute_result"
    }
   ],
   "source": [
    "# Recency - Last day purchase\n",
    "\n",
    "df_recency = df2_purchases.loc[:, ['customer_id', 'invoice_date']].groupby( 'customer_id' ).max().reset_index()\n",
    "df_recency['recency_days'] = ( df2['invoice_date'].max() - df_recency['invoice_date'] ).dt.days\n",
    "df_recency = df_recency[['customer_id', 'recency_days']].copy()\n",
    "df_ref = pd.merge( df_ref, df_recency, on='customer_id', how='left' )\n",
    "df_ref.isna().sum()"
   ]
  },
  {
   "cell_type": "markdown",
   "id": "1ec11113",
   "metadata": {},
   "source": [
    "### 3.1.5 Quantity of Products Purchased"
   ]
  },
  {
   "cell_type": "code",
   "execution_count": 23,
   "id": "9c459758",
   "metadata": {
    "ExecuteTime": {
     "end_time": "2022-11-14T14:19:15.714889Z",
     "start_time": "2022-11-14T14:19:15.535957Z"
    }
   },
   "outputs": [
    {
     "data": {
      "text/plain": [
       "customer_id       0\n",
       "gross_revenue    91\n",
       "recency_days     91\n",
       "qtde_products    91\n",
       "dtype: int64"
      ]
     },
     "execution_count": 23,
     "metadata": {},
     "output_type": "execute_result"
    }
   ],
   "source": [
    "df_freq = (df2_purchases.loc[:, ['customer_id', 'stock_code']].drop_duplicates().groupby( 'customer_id').count\n",
    "           ().reset_index().rename( columns={ 'stock_code': 'qtde_products'} ) )\n",
    "\n",
    "df_ref = pd.merge( df_ref, df_freq, on='customer_id', how='left')\n",
    "df_ref.isna().sum()"
   ]
  },
  {
   "cell_type": "markdown",
   "id": "8b863335",
   "metadata": {},
   "source": [
    "### 3.1.8 Frequency Purchase"
   ]
  },
  {
   "cell_type": "code",
   "execution_count": 24,
   "id": "77a6f3e1",
   "metadata": {
    "ExecuteTime": {
     "end_time": "2022-11-14T14:19:17.040777Z",
     "start_time": "2022-11-14T14:19:15.717219Z"
    }
   },
   "outputs": [
    {
     "data": {
      "text/plain": [
       "customer_id       0\n",
       "gross_revenue    91\n",
       "recency_days     91\n",
       "qtde_products    91\n",
       "frequency        91\n",
       "dtype: int64"
      ]
     },
     "execution_count": 24,
     "metadata": {},
     "output_type": "execute_result"
    }
   ],
   "source": [
    "df_aux = ( df2_purchases[[ 'customer_id', 'invoice_date', 'invoice_no']].drop_duplicates()\n",
    "                                                              .groupby( 'customer_id' )\n",
    "                                                              .agg( max_ = ( 'invoice_date', 'max' ),\n",
    "                                                                    min_ = ( 'invoice_date', 'min' ),\n",
    "                                                                    days_ = ( 'invoice_date', lambda x: ( x.max()  - x.min() ).days ),\n",
    "                                                                    buy_ = ( 'invoice_no', 'count') ) ).reset_index()\n",
    "\n",
    "# Frequency\n",
    "df_aux['frequency'] = df_aux[[ 'buy_', 'days_' ]].apply( lambda x: x[ 'buy_' ] / x['days_'] if x['days_'] != 0 else 0, axis=1 )\n",
    "\n",
    "\n",
    "# Merge\n",
    "df_ref = pd.merge( df_ref, df_aux[[ 'customer_id', 'frequency' ]], on='customer_id', how='left')\n",
    "df_ref.isna().sum()"
   ]
  },
  {
   "cell_type": "markdown",
   "id": "ccbdfa40",
   "metadata": {},
   "source": [
    "### 3.1.9 Number of Returns"
   ]
  },
  {
   "cell_type": "code",
   "execution_count": 25,
   "id": "18c3d43d",
   "metadata": {
    "ExecuteTime": {
     "end_time": "2022-11-14T14:19:17.060109Z",
     "start_time": "2022-11-14T14:19:17.043384Z"
    }
   },
   "outputs": [
    {
     "data": {
      "text/plain": [
       "customer_id       0\n",
       "gross_revenue    91\n",
       "recency_days     91\n",
       "qtde_products    91\n",
       "frequency        91\n",
       "qtde_returns      0\n",
       "dtype: int64"
      ]
     },
     "execution_count": 25,
     "metadata": {},
     "output_type": "execute_result"
    }
   ],
   "source": [
    "df_returns = df2_returns[[ 'customer_id', 'quantity' ]].groupby( 'customer_id' ).sum(\n",
    "                     ).reset_index().rename( columns={ 'quantity': 'qtde_returns' } )\n",
    "\n",
    "df_returns[ 'qtde_returns' ] = df_returns[ 'qtde_returns' ] * -1\n",
    "\n",
    "df_ref = pd.merge( df_ref, df_returns, how='left', on='customer_id' )\n",
    "df_ref.loc[ df_ref[ 'qtde_returns' ].isna(), 'qtde_returns' ] = 0\n",
    "\n",
    "\n",
    "df_ref.isna().sum()"
   ]
  },
  {
   "cell_type": "code",
   "execution_count": 26,
   "id": "95ad052f",
   "metadata": {
    "ExecuteTime": {
     "end_time": "2022-11-14T14:19:17.066760Z",
     "start_time": "2022-11-14T14:19:17.062581Z"
    }
   },
   "outputs": [
    {
     "data": {
      "text/plain": [
       "(5787, 6)"
      ]
     },
     "execution_count": 26,
     "metadata": {},
     "output_type": "execute_result"
    }
   ],
   "source": [
    "df_ref.shape"
   ]
  },
  {
   "cell_type": "markdown",
   "id": "86692dd6",
   "metadata": {
    "ExecuteTime": {
     "end_time": "2022-07-23T15:08:02.379470Z",
     "start_time": "2022-07-23T15:08:02.376696Z"
    }
   },
   "source": [
    "# <font color= 'red'> 4.0 Exploratory Data Analysis"
   ]
  },
  {
   "cell_type": "code",
   "execution_count": 27,
   "id": "1a24d0ae",
   "metadata": {
    "ExecuteTime": {
     "end_time": "2022-11-14T14:19:17.074070Z",
     "start_time": "2022-11-14T14:19:17.068775Z"
    }
   },
   "outputs": [],
   "source": [
    "df4 = df_ref.dropna()\n",
    "# df4.isna().sum()"
   ]
  },
  {
   "cell_type": "code",
   "execution_count": 28,
   "id": "3ba938cc",
   "metadata": {
    "ExecuteTime": {
     "end_time": "2022-11-14T14:19:17.080350Z",
     "start_time": "2022-11-14T14:19:17.075959Z"
    }
   },
   "outputs": [
    {
     "data": {
      "text/plain": [
       "(5696, 6)"
      ]
     },
     "execution_count": 28,
     "metadata": {},
     "output_type": "execute_result"
    }
   ],
   "source": [
    "df4.shape"
   ]
  },
  {
   "cell_type": "markdown",
   "id": "5b62a298",
   "metadata": {},
   "source": [
    "## 4.3 Space Study"
   ]
  },
  {
   "cell_type": "code",
   "execution_count": 29,
   "id": "788f54c7",
   "metadata": {
    "ExecuteTime": {
     "end_time": "2022-11-14T14:19:17.109402Z",
     "start_time": "2022-11-14T14:19:17.082449Z"
    },
    "code_folding": []
   },
   "outputs": [],
   "source": [
    "# Select Dataset\n",
    "cols_selected = ['customer_id', 'gross_revenue', 'recency_days', 'qtde_products', 'frequency', 'qtde_returns' ]\n",
    "df43 = df4[ cols_selected ].drop( columns='customer_id', axis=1) \n",
    "\n",
    "\n",
    "mm = pp.MinMaxScaler()\n",
    "\n",
    "df43[ 'gross_revenue' ]    = mm.fit_transform( df43[[ 'gross_revenue' ]] )\n",
    "df43[ 'recency_days' ]     = mm.fit_transform( df43[[ 'recency_days' ]] )\n",
    "df43[ 'qtde_products' ]    = mm.fit_transform( df43[[ 'qtde_products' ]] )\n",
    "df43[ 'frequency' ]        = mm.fit_transform( df43[[ 'frequency' ]] )\n",
    "df43[ 'qtde_returns' ]     = mm.fit_transform( df43[[ 'qtde_returns' ]] )\n",
    "\n",
    "\n",
    "x = df43.copy()\n"
   ]
  },
  {
   "cell_type": "code",
   "execution_count": 30,
   "id": "dc5145ca",
   "metadata": {
    "ExecuteTime": {
     "end_time": "2022-11-14T14:19:17.123806Z",
     "start_time": "2022-11-14T14:19:17.119065Z"
    }
   },
   "outputs": [
    {
     "data": {
      "text/plain": [
       "(5696, 5)"
      ]
     },
     "execution_count": 30,
     "metadata": {},
     "output_type": "execute_result"
    }
   ],
   "source": [
    "df43.shape"
   ]
  },
  {
   "cell_type": "markdown",
   "id": "f7399f00",
   "metadata": {},
   "source": [
    "### 4.3.1 PCA"
   ]
  },
  {
   "cell_type": "code",
   "execution_count": 31,
   "id": "aa602541",
   "metadata": {
    "ExecuteTime": {
     "end_time": "2022-11-14T14:19:17.301392Z",
     "start_time": "2022-11-14T14:19:17.126930Z"
    }
   },
   "outputs": [
    {
     "data": {
      "image/png": "[encoded data removed]",
      "text/plain": [
       "<Figure size 432x288 with 1 Axes>"
      ]
     },
     "metadata": {
      "needs_background": "light"
     },
     "output_type": "display_data"
    }
   ],
   "source": [
    "pca = dd.PCA( n_components =  x.shape[1] )\n",
    "\n",
    "principal_components = pca.fit_transform( x )\n",
    "\n",
    "# Plot Explaneid Variable\n",
    "features = range( pca.n_components_ )\n",
    "\n",
    "plt.bar( features, pca.explained_variance_ratio_)\n",
    "\n",
    "# PCA Conponent\n",
    "df_pca = pd.DataFrame( principal_components )"
   ]
  },
  {
   "cell_type": "code",
   "execution_count": 32,
   "id": "47e82e09",
   "metadata": {
    "ExecuteTime": {
     "end_time": "2022-11-14T14:19:17.484007Z",
     "start_time": "2022-11-14T14:19:17.304460Z"
    }
   },
   "outputs": [
    {
     "data": {
      "text/plain": [
       "<AxesSubplot:xlabel='0', ylabel='1'>"
      ]
     },
     "execution_count": 32,
     "metadata": {},
     "output_type": "execute_result"
    },
    {
     "data": {
      "image/png": "[encoded data removed]",
      "text/plain": [
       "<Figure size 432x288 with 1 Axes>"
      ]
     },
     "metadata": {
      "needs_background": "light"
     },
     "output_type": "display_data"
    }
   ],
   "source": [
    "sns.scatterplot( x=0, y=1, data=df_pca )"
   ]
  },
  {
   "cell_type": "markdown",
   "id": "6f8d7b8b",
   "metadata": {},
   "source": [
    "### 4.3.2 UMAP"
   ]
  },
  {
   "cell_type": "code",
   "execution_count": 33,
   "id": "d25af2fa",
   "metadata": {
    "ExecuteTime": {
     "end_time": "2022-11-14T14:19:42.007886Z",
     "start_time": "2022-11-14T14:19:17.486814Z"
    }
   },
   "outputs": [
    {
     "data": {
      "text/plain": [
       "<AxesSubplot:xlabel='embedding_x', ylabel='embedding_y'>"
      ]
     },
     "execution_count": 33,
     "metadata": {},
     "output_type": "execute_result"
    },
    {
     "data": {
      "image/png": "[encoded data removed]",
      "text/plain": [
       "<Figure size 432x288 with 1 Axes>"
      ]
     },
     "metadata": {
      "needs_background": "light"
     },
     "output_type": "display_data"
    }
   ],
   "source": [
    "reducer = umap.UMAP( random_state=42 )\n",
    "embedding = reducer.fit_transform( x )\n",
    "\n",
    "# Embedding\n",
    "df_umap = pd.DataFrame()\n",
    "df_umap['embedding_x'] = embedding[:, 0]\n",
    "df_umap['embedding_y'] = embedding[:, 1]\n",
    "\n",
    "\n",
    "# Plot UMAP\n",
    "sns.scatterplot( x='embedding_x',\n",
    "                 y='embedding_y',\n",
    "                 data = df_umap )"
   ]
  },
  {
   "cell_type": "markdown",
   "id": "f3676754",
   "metadata": {},
   "source": [
    "### 4.3.3 T-SNE"
   ]
  },
  {
   "cell_type": "code",
   "execution_count": 34,
   "id": "e1016ef1",
   "metadata": {
    "ExecuteTime": {
     "end_time": "2022-11-14T14:20:07.621221Z",
     "start_time": "2022-11-14T14:19:42.012397Z"
    }
   },
   "outputs": [
    {
     "name": "stderr",
     "output_type": "stream",
     "text": [
      "/Users/adriele/opt/anaconda3/envs/env_pa005/lib/python3.9/site-packages/sklearn/manifold/_t_sne.py:780: FutureWarning: The default initialization in TSNE will change from 'random' to 'pca' in 1.2.\n",
      "  warnings.warn(\n",
      "/Users/adriele/opt/anaconda3/envs/env_pa005/lib/python3.9/site-packages/sklearn/manifold/_t_sne.py:790: FutureWarning: The default learning rate in TSNE will change from 200.0 to 'auto' in 1.2.\n",
      "  warnings.warn(\n"
     ]
    },
    {
     "data": {
      "text/plain": [
       "<AxesSubplot:xlabel='embedding_x', ylabel='embedding_y'>"
      ]
     },
     "execution_count": 34,
     "metadata": {},
     "output_type": "execute_result"
    },
    {
     "data": {
      "image/png": "[encoded data removed]",
      "text/plain": [
       "<Figure size 432x288 with 1 Axes>"
      ]
     },
     "metadata": {
      "needs_background": "light"
     },
     "output_type": "display_data"
    }
   ],
   "source": [
    "reducer = mn.TSNE( n_components=2, random_state=42, n_jobs =1)\n",
    "\n",
    "embedding = reducer.fit_transform( x )\n",
    "\n",
    "# Embedding\n",
    "df_tsne = pd.DataFrame()\n",
    "df_tsne['embedding_x'] = embedding[:, 0]\n",
    "df_tsne['embedding_y'] = embedding[:, 1]\n",
    "\n",
    "\n",
    "# Plot UMAP\n",
    "sns.scatterplot( x='embedding_x',\n",
    "                 y='embedding_y',\n",
    "                 data = df_tsne )"
   ]
  },
  {
   "cell_type": "markdown",
   "id": "a0506dba",
   "metadata": {},
   "source": [
    "### 4.3.4 Tree Based Embeding"
   ]
  },
  {
   "cell_type": "code",
   "execution_count": 35,
   "id": "8ad8574b",
   "metadata": {
    "ExecuteTime": {
     "end_time": "2022-11-14T14:20:18.956569Z",
     "start_time": "2022-11-14T14:20:07.625505Z"
    }
   },
   "outputs": [
    {
     "name": "stderr",
     "output_type": "stream",
     "text": [
      "/Users/adriele/opt/anaconda3/envs/env_pa005/lib/python3.9/site-packages/sklearn/manifold/_spectral_embedding.py:260: UserWarning: Graph is not fully connected, spectral embedding may not work as expected.\n",
      "  warnings.warn(\n"
     ]
    },
    {
     "data": {
      "text/plain": [
       "<AxesSubplot:xlabel='embedding_x', ylabel='embedding_y'>"
      ]
     },
     "execution_count": 35,
     "metadata": {},
     "output_type": "execute_result"
    },
    {
     "data": {
      "image/png": "[encoded data removed]",
      "text/plain": [
       "<Figure size 432x288 with 1 Axes>"
      ]
     },
     "metadata": {
      "needs_background": "light"
     },
     "output_type": "display_data"
    }
   ],
   "source": [
    "x = df43.drop( columns=['gross_revenue'], axis=1)\n",
    "y = df43['gross_revenue']\n",
    "\n",
    "# model definition\n",
    "rf_model = en.RandomForestRegressor( n_estimators=100, random_state=42 )\n",
    "\n",
    "# Model training\n",
    "rf_model.fit( x, y )\n",
    "\n",
    "\n",
    "\n",
    "# dataframe Leaf\n",
    "df_leaf= pd.DataFrame( rf_model.apply( x ) )\n",
    "\n",
    "\n",
    "\n",
    "reducer = umap.UMAP( random_state=42 )\n",
    "embedding = reducer.fit_transform( df_leaf )\n",
    "\n",
    "# Embedding\n",
    "df_tree = pd.DataFrame()\n",
    "df_tree['embedding_x'] = embedding[:, 0]\n",
    "df_tree['embedding_y'] = embedding[:, 1]\n",
    "\n",
    "\n",
    "# Plot UMAP\n",
    "sns.scatterplot( x='embedding_x',\n",
    "                 y='embedding_y',\n",
    "                 data = df_tree )\n"
   ]
  },
  {
   "cell_type": "markdown",
   "id": "ed659b3d",
   "metadata": {
    "ExecuteTime": {
     "end_time": "2022-07-23T15:08:02.379470Z",
     "start_time": "2022-07-23T15:08:02.376696Z"
    }
   },
   "source": [
    "# <font color= 'red'> 5.0 Data Preparation"
   ]
  },
  {
   "cell_type": "code",
   "execution_count": 36,
   "id": "3573ce1b",
   "metadata": {
    "ExecuteTime": {
     "end_time": "2022-11-14T14:20:18.965480Z",
     "start_time": "2022-11-14T14:20:18.961114Z"
    }
   },
   "outputs": [],
   "source": [
    "# Tree Based Embedding\n",
    "#df5 = df_tree.copy()\n",
    "\n",
    "\n",
    "# umap Embedding\n",
    "#df5 = df_umap.copy()\n",
    "\n",
    "# TSNE Embedging\n",
    "df5 = df_tsne.copy()\n"
   ]
  },
  {
   "cell_type": "markdown",
   "id": "a3c59a90",
   "metadata": {},
   "source": [
    "# <font color= 'red'> 7.0 Fine Tunning Hyperparameter"
   ]
  },
  {
   "cell_type": "code",
   "execution_count": 37,
   "id": "e44e65fb",
   "metadata": {
    "ExecuteTime": {
     "end_time": "2022-11-14T14:20:18.978627Z",
     "start_time": "2022-11-14T14:20:18.969050Z"
    }
   },
   "outputs": [
    {
     "data": {
      "text/html": [
       "<div>\n",
       "<style scoped>\n",
       "    .dataframe tbody tr th:only-of-type {\n",
       "        vertical-align: middle;\n",
       "    }\n",
       "\n",
       "    .dataframe tbody tr th {\n",
       "        vertical-align: top;\n",
       "    }\n",
       "\n",
       "    .dataframe thead th {\n",
       "        text-align: right;\n",
       "    }\n",
       "</style>\n",
       "<table border=\"1\" class=\"dataframe\">\n",
       "  <thead>\n",
       "    <tr style=\"text-align: right;\">\n",
       "      <th></th>\n",
       "      <th>embedding_x</th>\n",
       "      <th>embedding_y</th>\n",
       "    </tr>\n",
       "  </thead>\n",
       "  <tbody>\n",
       "    <tr>\n",
       "      <th>0</th>\n",
       "      <td>50.817120</td>\n",
       "      <td>40.706398</td>\n",
       "    </tr>\n",
       "    <tr>\n",
       "      <th>1</th>\n",
       "      <td>-9.595375</td>\n",
       "      <td>1.638194</td>\n",
       "    </tr>\n",
       "    <tr>\n",
       "      <th>2</th>\n",
       "      <td>6.621437</td>\n",
       "      <td>56.698040</td>\n",
       "    </tr>\n",
       "    <tr>\n",
       "      <th>3</th>\n",
       "      <td>62.638588</td>\n",
       "      <td>9.791942</td>\n",
       "    </tr>\n",
       "    <tr>\n",
       "      <th>4</th>\n",
       "      <td>43.675007</td>\n",
       "      <td>-48.542057</td>\n",
       "    </tr>\n",
       "  </tbody>\n",
       "</table>\n",
       "</div>"
      ],
      "text/plain": [
       "   embedding_x  embedding_y\n",
       "0    50.817120    40.706398\n",
       "1    -9.595375     1.638194\n",
       "2     6.621437    56.698040\n",
       "3    62.638588     9.791942\n",
       "4    43.675007   -48.542057"
      ]
     },
     "execution_count": 37,
     "metadata": {},
     "output_type": "execute_result"
    }
   ],
   "source": [
    "x= df5.copy()\n",
    "x.head()"
   ]
  },
  {
   "cell_type": "markdown",
   "id": "6d6afa00",
   "metadata": {
    "ExecuteTime": {
     "end_time": "2022-08-12T20:36:54.800561Z",
     "start_time": "2022-08-12T20:36:54.793521Z"
    }
   },
   "source": [
    "## 7.1 K-Means"
   ]
  },
  {
   "cell_type": "code",
   "execution_count": 38,
   "id": "55f3b5ff",
   "metadata": {
    "ExecuteTime": {
     "end_time": "2022-11-14T14:20:19.014699Z",
     "start_time": "2022-11-14T14:20:18.981972Z"
    }
   },
   "outputs": [
    {
     "ename": "NameError",
     "evalue": "name 'clusters' is not defined",
     "output_type": "error",
     "traceback": [
      "\u001b[0;31m---------------------------------------------------------------------------\u001b[0m",
      "\u001b[0;31mNameError\u001b[0m                                 Traceback (most recent call last)",
      "Input \u001b[0;32mIn [38]\u001b[0m, in \u001b[0;36m<cell line: 4>\u001b[0;34m()\u001b[0m\n\u001b[1;32m      1\u001b[0m \u001b[38;5;28;01mfrom\u001b[39;00m  \u001b[38;5;21;01msklearn\u001b[39;00m  \u001b[38;5;28;01mimport\u001b[39;00m  cluster  \u001b[38;5;28;01mas\u001b[39;00m c\n\u001b[1;32m      3\u001b[0m kmeans_list \u001b[38;5;241m=\u001b[39m []\n\u001b[0;32m----> 4\u001b[0m \u001b[38;5;28;01mfor\u001b[39;00m k \u001b[38;5;129;01min\u001b[39;00m \u001b[43mclusters\u001b[49m:\n\u001b[1;32m      5\u001b[0m     \u001b[38;5;66;03m# Model definition\u001b[39;00m\n\u001b[1;32m      6\u001b[0m     kmeans_model \u001b[38;5;241m=\u001b[39m c\u001b[38;5;241m.\u001b[39mKMeans( n_clusters\u001b[38;5;241m=\u001b[39mk, n_init\u001b[38;5;241m=\u001b[39m\u001b[38;5;241m100\u001b[39m, random_state\u001b[38;5;241m=\u001b[39m\u001b[38;5;241m42\u001b[39m )\n\u001b[1;32m      8\u001b[0m     \u001b[38;5;66;03m# Model training\u001b[39;00m\n",
      "\u001b[0;31mNameError\u001b[0m: name 'clusters' is not defined"
     ]
    }
   ],
   "source": [
    "from  sklearn  import  cluster  as c\n",
    "\n",
    "kmeans_list = []\n",
    "for k in clusters:\n",
    "    # Model definition\n",
    "    kmeans_model = c.KMeans( n_clusters=k, n_init=100, random_state=42 )\n",
    "\n",
    "    # Model training\n",
    "    kmeans_model.fit( x )\n",
    "\n",
    "    # Model  predict\n",
    "    labels = kmeans_model.predict( x )\n",
    "\n",
    "    # Model performance\n",
    "    sil = m.silhouette_score( x, labels, metric='euclidean')\n",
    "    kmeans_list.append( sil )\n",
    "    \n",
    "    \n",
    "    \n",
    "plt.plot( clusters, kmeans_list, linestyle='--', marker='o', color='b')  \n",
    "plt.xlabel( 'k');\n",
    "plt.ylabel( 'Silhouette Score' );\n",
    "plt.title( 'Silhouette Score X K');"
   ]
  },
  {
   "cell_type": "markdown",
   "id": "ed8e1bb3",
   "metadata": {},
   "source": [
    "## 7.2 GMM"
   ]
  },
  {
   "cell_type": "code",
   "execution_count": null,
   "id": "91d06b2a",
   "metadata": {
    "ExecuteTime": {
     "end_time": "2022-11-14T14:20:19.018079Z",
     "start_time": "2022-11-14T14:20:19.018055Z"
    }
   },
   "outputs": [],
   "source": [
    "gmm_list = []\n",
    "for k in clusters:\n",
    "    # Model definition\n",
    "    gmm_model = mx.GaussianMixture( n_components=k, n_init=100, random_state=42  )\n",
    "\n",
    "    # Model training\n",
    "    gmm_model.fit( x )\n",
    "\n",
    "    # Model  predict\n",
    "    labels = gmm_model.predict( x )\n",
    "\n",
    "    # Model performance\n",
    "    sil = m.silhouette_score( x, labels, metric='euclidean')\n",
    "    gmm_list.append( sil )\n",
    "    \n",
    "    \n",
    "    \n",
    "plt.plot( clusters, gmm_list, linestyle='--', marker='o', color='b')  \n",
    "plt.xlabel( 'k');\n",
    "plt.ylabel( 'Silhouette Score' );\n",
    "plt.title( 'Sil x K');"
   ]
  },
  {
   "cell_type": "markdown",
   "id": "65bbab72",
   "metadata": {},
   "source": [
    "## 7.3 Hierarchical Clustering"
   ]
  },
  {
   "cell_type": "code",
   "execution_count": null,
   "id": "67d93a3d",
   "metadata": {
    "ExecuteTime": {
     "end_time": "2022-11-14T14:20:19.020282Z",
     "start_time": "2022-11-14T14:20:19.020260Z"
    }
   },
   "outputs": [],
   "source": [
    "hc_model = hc.linkage( x, 'ward')"
   ]
  },
  {
   "cell_type": "markdown",
   "id": "208d5ffe",
   "metadata": {},
   "source": [
    "### 7.3.1. HClustering Silhouette Score"
   ]
  },
  {
   "cell_type": "code",
   "execution_count": null,
   "id": "8612a7da",
   "metadata": {
    "ExecuteTime": {
     "end_time": "2022-11-14T14:20:19.023276Z",
     "start_time": "2022-11-14T14:20:19.023247Z"
    }
   },
   "outputs": [],
   "source": [
    "hc_list = []\n",
    "for k in clusters:\n",
    "    # Model definition\n",
    "    hc_model =hc.linkage( x, 'ward' )\n",
    "\n",
    "    # Model  predict\n",
    "    labels = hc.fcluster( hc_model, k, criterion='maxclust' )\n",
    "\n",
    "    # Model performance\n",
    "    sil = m.silhouette_score( x, labels, metric='euclidean')\n",
    "    hc_list.append( sil )\n",
    "    \n",
    "    \n",
    "    \n",
    "plt.plot( clusters, hc_list, linestyle='--', marker='o', color='b')  \n",
    "plt.xlabel( 'k');\n",
    "plt.ylabel( 'Silhouette Score' );\n",
    "plt.title( 'Sil x K');"
   ]
  },
  {
   "cell_type": "markdown",
   "id": "ee2d2da7",
   "metadata": {},
   "source": [
    "## 7.5 Results "
   ]
  },
  {
   "cell_type": "code",
   "execution_count": null,
   "id": "4ffb1847",
   "metadata": {
    "ExecuteTime": {
     "end_time": "2022-11-14T14:20:19.026382Z",
     "start_time": "2022-11-14T14:20:19.026354Z"
    }
   },
   "outputs": [],
   "source": [
    "# # Results - Tree Based embedding\n",
    "\n",
    "# df_results = pd.DataFrame({'KMeans': kmeans_list,\n",
    "#                            'GMM' :gmm_list,\n",
    "#                            'HC' : hc_list }\n",
    "                         \n",
    "#                          ).T\n",
    "\n",
    "# df_results.columns = clusters\n",
    "# df_results.style.highlight_max( color='lightgreen', axis=1)\n",
    "\n"
   ]
  },
  {
   "cell_type": "code",
   "execution_count": null,
   "id": "e9308449",
   "metadata": {
    "ExecuteTime": {
     "end_time": "2022-11-14T14:20:19.028957Z",
     "start_time": "2022-11-14T14:20:19.028923Z"
    }
   },
   "outputs": [],
   "source": [
    "# # Results - UMAP embedding\n",
    "# df_results = pd.DataFrame({'KMeans': kmeans_list,\n",
    "#                            'GMM' :gmm_list,\n",
    "#                            'HC' : hc_list }\n",
    "                         \n",
    "#                          ).T\n",
    "\n",
    "# df_results.columns = clusters\n",
    "# df_results.style.highlight_max( color='lightgreen', axis=1)\n",
    "\n"
   ]
  },
  {
   "cell_type": "code",
   "execution_count": null,
   "id": "a6b1412f",
   "metadata": {
    "ExecuteTime": {
     "end_time": "2022-11-14T14:20:19.031756Z",
     "start_time": "2022-11-14T14:20:19.031737Z"
    }
   },
   "outputs": [],
   "source": [
    "# Results -  TSNE embedding\n",
    "df_results = pd.DataFrame({'KMeans': kmeans_list,\n",
    "                           'GMM' :gmm_list,\n",
    "                           'HC' : hc_list }\n",
    "                         \n",
    "                         ).T\n",
    "\n",
    "df_results.columns = clusters\n",
    "df_results.style.highlight_max( color='lightgreen', axis=1)\n",
    "\n"
   ]
  },
  {
   "cell_type": "markdown",
   "id": "e542bda3",
   "metadata": {
    "ExecuteTime": {
     "end_time": "2022-07-23T15:08:02.379470Z",
     "start_time": "2022-07-23T15:08:02.376696Z"
    }
   },
   "source": [
    "# <font color= 'red'> 8.0 Model Training"
   ]
  },
  {
   "cell_type": "markdown",
   "id": "7ec5c4c5",
   "metadata": {},
   "source": [
    "## 8.1 Final Model"
   ]
  },
  {
   "cell_type": "code",
   "execution_count": null,
   "id": "4c8532a1",
   "metadata": {
    "ExecuteTime": {
     "end_time": "2022-11-14T14:20:19.033847Z",
     "start_time": "2022-11-14T14:20:19.033827Z"
    }
   },
   "outputs": [],
   "source": [
    "#Model definition\n",
    "k = 8\n",
    "\n",
    "# Model definition\n",
    "gmm_model = mx.GaussianMixture( n_components=k, n_init=300, random_state=42 )\n",
    "\n",
    "# Model training\n",
    "gmm_model.fit( x )\n",
    "\n",
    "# Model  predict\n",
    "labels = gmm_model.predict( x )\n",
    "\n",
    "\n"
   ]
  },
  {
   "cell_type": "markdown",
   "id": "aea19e8f",
   "metadata": {},
   "source": [
    "## 8.2 Cluster Validation"
   ]
  },
  {
   "cell_type": "code",
   "execution_count": null,
   "id": "39542657",
   "metadata": {
    "ExecuteTime": {
     "end_time": "2022-11-14T14:20:19.035838Z",
     "start_time": "2022-11-14T14:20:19.035812Z"
    }
   },
   "outputs": [],
   "source": [
    "# WSS (Within cluster sum of square)\n",
    "#print( 'WSS value: {}'.format( kmeans.inertia_ ) )\n",
    "\n",
    "# SS ( Silhouette score )\n",
    "print( 'SS value: {}'.format( m.silhouette_score( x, labels, metric='euclidean' ) ) )"
   ]
  },
  {
   "cell_type": "markdown",
   "id": "d39ddf11",
   "metadata": {
    "ExecuteTime": {
     "end_time": "2022-07-23T15:08:02.379470Z",
     "start_time": "2022-07-23T15:08:02.376696Z"
    }
   },
   "source": [
    "# <font color= 'red'> 9.0 Cluster Analysis"
   ]
  },
  {
   "cell_type": "code",
   "execution_count": null,
   "id": "dae7afed",
   "metadata": {
    "ExecuteTime": {
     "end_time": "2022-11-14T14:20:19.038031Z",
     "start_time": "2022-11-14T14:20:19.038008Z"
    }
   },
   "outputs": [],
   "source": [
    "df9 = x.copy()\n",
    "df9['cluster'] = labels\n",
    "\n",
    "#sns.scatterplot( x= 'embedding_x', y='embedding_y', hue='cluster', data=df9, palette='deep')"
   ]
  },
  {
   "cell_type": "code",
   "execution_count": null,
   "id": "4e8d9e2c",
   "metadata": {
    "ExecuteTime": {
     "end_time": "2022-11-14T14:20:19.041175Z",
     "start_time": "2022-11-14T14:20:19.041156Z"
    }
   },
   "outputs": [],
   "source": [
    "#changing Dtypes\n",
    "df92['recency_days'] = df92['recency_days'].astype( int )\n",
    "df92['qtde_products'] = df92['qtde_products'].astype( int )\n",
    "df92['qtde_returns'] = df92['qtde_returns'].astype( int )\n",
    "\n",
    "# Number of customer\n",
    "df_cluster = df92[['customer_id', 'cluster']].groupby( 'cluster' ).count().reset_index()\n",
    "df_cluster['perc_customer'] = 100*( df_cluster['customer_id'] / df_cluster['customer_id'].sum() )\n",
    "\n",
    "# Avg Gross Revenue\n",
    "df_avg_gross_revenue = df92[['gross_revenue', 'cluster']].groupby( 'cluster' ).mean().reset_index()\n",
    "df_cluster = pd.merge( df_cluster, df_avg_gross_revenue, how='inner', on='cluster' )\n",
    "\n",
    "# Agv recency days\n",
    "df_avg_recency_days = df92[['recency_days', 'cluster']].groupby( 'cluster' ).mean().reset_index()\n",
    "df_cluster = pd.merge( df_cluster, df_avg_recency_days, how='inner', on='cluster' )\n",
    "\n",
    "# Avg invoice no\n",
    "df_avg_invoice_no = df92[['qtde_products', 'cluster']].groupby( 'cluster' ).mean().reset_index()\n",
    "df_cluster = pd.merge( df_cluster, df_avg_invoice_no, how='inner', on='cluster' )\n",
    "\n",
    "# Frequency\n",
    "df_frequency = df92[['frequency', 'cluster']].groupby( 'cluster' ).mean().reset_index()\n",
    "df_cluster = pd.merge( df_cluster, df_frequency, how='inner', on='cluster' )\n",
    "\n",
    "# Returns\n",
    "df_returns = df92[['qtde_returns', 'cluster']].groupby( 'cluster' ).mean().reset_index()\n",
    "df_cluster = pd.merge( df_cluster, df_returns, how='inner', on='cluster' )\n",
    "\n"
   ]
  },
  {
   "cell_type": "code",
   "execution_count": null,
   "id": "74b22b4a",
   "metadata": {
    "ExecuteTime": {
     "end_time": "2022-11-14T14:20:19.042798Z",
     "start_time": "2022-11-14T14:20:19.042780Z"
    }
   },
   "outputs": [],
   "source": [
    "df_cluster.sort_values( 'gross_revenue', ascending=False )"
   ]
  },
  {
   "cell_type": "markdown",
   "id": "2b4a105c",
   "metadata": {},
   "source": [
    "## Cluster 01:  ( Insider Candidate )\n",
    "\n",
    "  - Number of Customer = 4,335 ( 99% of customer )\n",
    "  - Averange Recency   = 92 days;\n",
    "  - Averange Purchase  = 5 purchase\n",
    "  - Averang  Revenue   =  $ 1.372,57 dolars\n",
    "  \n",
    "# Cluster 02:\n",
    "\n",
    "  - Number of Customer = 31 ( 71% of customer )\n",
    "  - Averange Recency   = 13 days;\n",
    "  - Averange Purchase  = 53 purchase\n",
    "  - Averang  Revenue   =  $ 40,543,51 dolars  \n",
    "  \n",
    "# Cluster 03:\n",
    "\n",
    "  - Number of Customer = 4 ( 14% of customer )\n",
    "  - Averange Recency   = 7 days;\n",
    "  - Averange Purchase  = 89 purchase\n",
    "  - Averang  Revenue   =  $ 182,181.98 dolars    "
   ]
  },
  {
   "cell_type": "markdown",
   "id": "0f6c50f4",
   "metadata": {
    "ExecuteTime": {
     "end_time": "2022-07-23T15:08:02.379470Z",
     "start_time": "2022-07-23T15:08:02.376696Z"
    },
    "cell_style": "center"
   },
   "source": [
    "# <font color= 'red'> 10.0 Deploy to production"
   ]
  },
  {
   "cell_type": "code",
   "execution_count": null,
   "id": "741300e2",
   "metadata": {
    "ExecuteTime": {
     "end_time": "2022-11-14T14:20:19.044536Z",
     "start_time": "2022-11-14T14:20:19.044513Z"
    }
   },
   "outputs": [],
   "source": [
    "df10 = df92.copy()\n",
    "df10.head()"
   ]
  },
  {
   "cell_type": "markdown",
   "id": "aa954db0",
   "metadata": {},
   "source": [
    "## 11.1 Insert to Sqlite"
   ]
  },
  {
   "cell_type": "code",
   "execution_count": null,
   "id": "976ba003",
   "metadata": {
    "ExecuteTime": {
     "end_time": "2022-11-14T14:20:19.046720Z",
     "start_time": "2022-11-14T14:20:19.046700Z"
    }
   },
   "outputs": [],
   "source": [
    "import sqlite3\n",
    "from sqlalchemy import create_engine"
   ]
  },
  {
   "cell_type": "code",
   "execution_count": null,
   "id": "70568d43",
   "metadata": {
    "ExecuteTime": {
     "end_time": "2022-11-14T14:20:19.048452Z",
     "start_time": "2022-11-14T14:20:19.048435Z"
    }
   },
   "outputs": [],
   "source": [
    "# # CREATE TABLE\n",
    "# query_create_table_insiders = \"\"\"\n",
    "#     CREATE TABLE insiders(\n",
    "#         customer_id    ITERGER,\n",
    "#         gross_revenue  REAL,\n",
    "#         recency_days   INTERGER,\n",
    "#         qtde_products  INTERGER,\n",
    "#         frequency      REAL,\n",
    "#         qtde_returns   INTERGER,\n",
    "#         cluster       INTERGER\n",
    "        \n",
    "#     )\n",
    "# \"\"\"\n",
    "\n",
    "# conn = sqlite3.connect( 'insiders_db.sqlite' )\n",
    "# conn.execute( query_create_table_insiders )\n",
    "# conn.commit()\n",
    "# conn.close()\n",
    "\n",
    "# insert data\n",
    "conn = create_engine( 'sqlite:///insiders_db.sqlite' )\n",
    "#df92.to_sql('insiders', con=conn, if_exists='append', index=False )\n",
    "\n",
    "\n",
    "# select data"
   ]
  },
  {
   "cell_type": "code",
   "execution_count": null,
   "id": "2355f079",
   "metadata": {
    "ExecuteTime": {
     "end_time": "2022-11-14T14:20:19.050008Z",
     "start_time": "2022-11-14T14:20:19.049991Z"
    }
   },
   "outputs": [],
   "source": [
    "# Consulting data base\n",
    "query = \"\"\"\n",
    "\n",
    "    SELECT * FROM insiders\n",
    "    \n",
    "\"\"\"\n",
    "\n",
    "df =pd.read_sql_query( query, conn)"
   ]
  },
  {
   "cell_type": "code",
   "execution_count": null,
   "id": "af41e758",
   "metadata": {
    "ExecuteTime": {
     "end_time": "2022-11-14T14:20:19.052124Z",
     "start_time": "2022-11-14T14:20:19.052109Z"
    }
   },
   "outputs": [],
   "source": [
    "df.head()"
   ]
  },
  {
   "cell_type": "code",
   "execution_count": null,
   "id": "4d68c227",
   "metadata": {},
   "outputs": [],
   "source": []
  },
  {
   "cell_type": "code",
   "execution_count": null,
   "id": "a0ce4749",
   "metadata": {},
   "outputs": [],
   "source": []
  }
 ],
 "metadata": {
  "kernelspec": {
   "display_name": "Python 3 (ipykernel)",
   "language": "python",
   "name": "python3"
  },
  "language_info": {
   "codemirror_mode": {
    "name": "ipython",
    "version": 3
   },
   "file_extension": ".py",
   "mimetype": "text/x-python",
   "name": "python",
   "nbconvert_exporter": "python",
   "pygments_lexer": "ipython3",
   "version": "3.9.12"
  }
 },
 "nbformat": 4,
 "nbformat_minor": 5
}
